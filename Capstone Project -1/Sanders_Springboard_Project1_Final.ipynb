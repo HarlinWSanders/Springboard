{
 "cells": [
  {
   "cell_type": "markdown",
   "metadata": {
    "button": false,
    "new_sheet": false,
    "run_control": {
     "read_only": false
    }
   },
   "source": [
    "# The question to be answered/addressed in the below project--based on Twitter data--is, “Do Americans support U.S. President Donald Trump’s position in immigration and, specifically, what many cite as the separation of families as they try to enter cross the U.S. border? And do those opinions vary by geographic region?”\n"
   ]
  },
  {
   "cell_type": "markdown",
   "metadata": {
    "button": false,
    "new_sheet": false,
    "run_control": {
     "read_only": false
    }
   },
   "source": [
    "## First, we need to set up by installing the appropriate libraries and packages, authenticating, and establishing the Twitter API connection."
   ]
  },
  {
   "cell_type": "code",
   "execution_count": 72,
   "metadata": {
    "button": false,
    "new_sheet": false,
    "run_control": {
     "read_only": false
    }
   },
   "outputs": [],
   "source": [
    "# importing the appropriate libraries and packages\n",
    "import tweepy, json\n",
    "from datetime import datetime, timedelta\n",
    "import pandas as pd\n",
    "import csv\n",
    "from textblob import TextBlob\n",
    "import numpy as np\n",
    "import re\n",
    "import matplotlib.pyplot as plt\n",
    "import seaborn as sns\n",
    "from tweepy import Stream\n",
    "from tweepy import OAuthHandler\n",
    "from tweepy.streaming import StreamListener\n",
    "import plotly.plotly as py\n",
    "import plotly.tools as tls\n",
    "import plotly.graph_objs as go"
   ]
  },
  {
   "cell_type": "code",
   "execution_count": 2,
   "metadata": {
    "button": false,
    "new_sheet": false,
    "run_control": {
     "read_only": false
    }
   },
   "outputs": [],
   "source": [
    "# my validation and authentication variables\n",
    "access_token = \" \"\n",
    "access_token_secret = \" \"\n",
    "consumer_key = \" \"\n",
    "consumer_secret = \" \""
   ]
  },
  {
   "cell_type": "code",
   "execution_count": 27,
   "metadata": {
    "button": false,
    "new_sheet": false,
    "run_control": {
     "read_only": false
    }
   },
   "outputs": [],
   "source": [
    "# creating authentication \n",
    "auth = tweepy.OAuthHandler(consumer_key, consumer_secret)\n",
    "auth.set_access_token(access_token, access_token_secret)\n",
    "\n",
    "# connecting to the Twitter API using the above authentication\n",
    "api = tweepy.API(auth)"
   ]
  },
  {
   "cell_type": "markdown",
   "metadata": {
    "button": false,
    "new_sheet": false,
    "run_control": {
     "read_only": false
    }
   },
   "source": [
    "##  The queries and analyses follow:"
   ]
  },
  {
   "cell_type": "code",
   "execution_count": 28,
   "metadata": {
    "button": false,
    "new_sheet": false,
    "run_control": {
     "read_only": false
    }
   },
   "outputs": [],
   "source": [
    "cities_data = {\n",
    "    'Akron': {'region': 'Midwest', 'state': 'Ohio'},\n",
    "    'Albuquerque': {'region': 'West', 'state': 'New Mexico'},\n",
    "    'Anaheim': {'region': 'West', 'state': 'California'},\n",
    "    'Anchorage': {'region': 'West', 'state': 'Alaska'},\n",
    "    'Arlington': {'region': 'South', 'state': 'Texas'},\n",
    "    'Atlanta': {'region': 'South', 'state': 'Georgia'},\n",
    "    'Aurora': {'region': 'West', 'state': 'Colorado'},\n",
    "    'Austin': {'region': 'South', 'state': 'Texas'},\n",
    "    'Bakersfield': {'region': 'West', 'state': 'California'},\n",
    "    'Baltimore': {'region': 'Northeast', 'state': 'Maryland'},\n",
    "    'Baton Rouge': {'region': 'South', 'state': 'Louisiana'},\n",
    "    'Birmingham': {'region': 'South', 'state': 'Alabama'},\n",
    "    'Boston': {'region': 'Northeast', 'state': 'Massachusetts'},\n",
    "    'Buffalo': {'region': 'Northeast', 'state': 'New York'},\n",
    "    'Chandler': {'region': 'West', 'state': 'Arizona'}, \n",
    "    'Charlotte': {'region': 'South', 'state': 'North Carolina'},\n",
    "    'Chesapeake': {'region': 'South', 'state': 'Virginia'},\n",
    "    'Chicago': {'region': 'Northeast', 'state': 'Illinois'},\n",
    "    'Chula Vista': {'region': 'West', 'state': 'California'},\n",
    "    'Cincinnati': {'region': 'Midwest', 'state': 'Ohio'},\n",
    "    'Cleveland': {'region': 'Midwest', 'state': 'Ohio'},\n",
    "    'Colorado Springs': {'region': 'West', 'state': 'Colorado'},\n",
    "    'Columbus': {'region': 'Northeast', 'state': 'Ohio'},\n",
    "    'Corpus Christi': {'region': 'South', 'state': 'Texas'},\n",
    "    'Dallas': {'region': 'South', 'state': 'Texas'},\n",
    "    'Denver': {'region': 'West', 'state': 'Colorado'},\n",
    "    'Detroit': {'region': 'Midwest', 'state': 'Michigan'},\n",
    "    'Durham': {'region': 'South', 'state': 'North Carolina'},\n",
    "    'El Paso': {'region': 'South', 'state': 'Texas'},\n",
    "    'Fort Wayne': {'region': 'Midwest', 'state': 'Indiana'},\n",
    "    'Fort Worth': {'region': 'South', 'state': 'Texas'},\n",
    "    'Fremont': {'region': 'West', 'state': 'California'},\n",
    "    'Fresno': {'region': 'West', 'state': 'California'},\n",
    "    'Garland': {'region': 'South', 'state': 'Texas'},\n",
    "    'Glendale': {'region': 'West', 'state': 'Arizona'},\n",
    "    'Greensboro': {'region': 'South', 'state': 'North Carolina'},\n",
    "    'Henderson': {'region': 'West', 'state': 'Nevada'},\n",
    "    'Hialeah': {'region': 'South', 'state': 'Florida'},\n",
    "    'Honolulu': {'region': 'West', 'state': 'Hawaii'},\n",
    "    'Houston': {'region': 'South', 'state': 'Texas'},\n",
    "    'Indianapolis': {'region': 'Midwest', 'state': 'Indianapolis'},\n",
    "    'Jacksonville': {'region': 'South', 'state': 'Florida'},\n",
    "    'Jersey City': {'region': 'Northeast', 'state': 'New Jersey'},\n",
    "    'Kansas City': {'region': 'Midwest', 'state': 'Missouri'},\n",
    "    'Laredo': {'region': 'South', 'state': 'Texas'},\n",
    "    'Las Vegas': {'region': 'West', 'state': 'Nevada'},\n",
    "    'Lexington-Fayette': {'region': 'South', 'state': 'Kentucky'},\n",
    "    'Lincoln': {'region': 'Midwest', 'state': 'Nebraska'},\n",
    "    'Long Beach': {'region': 'West', 'state': 'California'},\n",
    "    'Los Angeles': {'region': 'West', 'state': 'California'},\n",
    "    'Louisville': {'region': 'South', 'state': 'Kentucky'},\n",
    "    'Lubbock': {'region': 'South', 'state': 'Texas'},\n",
    "    'Madison': {'region': 'Midwest', 'state': 'Wisconsin'},\n",
    "    'Memphis': {'region': 'South', 'state': 'Tennessee'},\n",
    "    'Mesa': {'region': 'West', 'state': 'Arizona'},\n",
    "    'Miami': {'region': 'South', 'state': 'Florida'},\n",
    "    'Milwaukee': {'region': 'Midwest', 'state': 'Wisconsin'},\n",
    "    'Minneapolis': {'region': 'Midwest', 'state': 'Minnesota'},\n",
    "    'Modesto': {'region': 'West', 'state': 'California'},\n",
    "    'Montgomery': {'region': 'South', 'state': 'Alabama'},\n",
    "    'Nashville': {'region': 'South', 'state': 'Tennessee'},\n",
    "    'New Orleans': {'region': 'South', 'state': 'Louisiana'},\n",
    "    'New York': {'region': 'Northeast', 'state': 'New York'},\n",
    "    'Newark': {'region': 'Northeast', 'state': 'New Jersey'},\n",
    "    'Norfolk': {'region': 'South', 'state': 'Virginia'},\n",
    "    'Oakland': {'region': 'West', 'state': 'California'},\n",
    "    'Oklahoma City': {'region': 'South', 'state': 'Oklahoma'},\n",
    "    'Omaha': {'region': 'Midwest', 'state': 'Nebraska'},\n",
    "    'Orlando': {'region': 'South', 'state': 'Florida'},\n",
    "    'Philadelphia': {'region': 'Northeast', 'state': 'Pennsylvania'},\n",
    "    'Phoenix': {'region': 'West', 'state': 'Arizona'},\n",
    "    'Pittsburgh': {'region': 'Northeast', 'state': 'Pennsylvania'},\n",
    "    'Plano': {'region': 'South', 'state': 'Texas'},\n",
    "    'Portland': {'region': 'West', 'state': 'Oregon'},\n",
    "    'Raleigh': {'region': 'South', 'state': 'North Carolina'},\n",
    "    'Reno': {'region': 'West', 'state': 'Nevada'},\n",
    "    'Riverside': {'region': 'West', 'state': 'California'},\n",
    "    'Rochester': {'region': 'Northeast', 'state': 'New York'},\n",
    "    'Sacramento': {'region': 'West', 'state': 'California'},\n",
    "    'San Antonio': {'region': 'South', 'state': 'Texas'},\n",
    "    'San Diego': {'region': 'West', 'state': 'California'},\n",
    "    'San Francisco': {'region': 'West', 'state': 'California'},\n",
    "    'San Jose': {'region': 'West', 'state': 'California'},\n",
    "    'Santa Ana': {'region': 'West', 'state': 'California'},\n",
    "    'Scottsdale': {'region': 'West', 'state': 'Arizona'},\n",
    "    'Seattle': {'region': 'West', 'state': 'Washington'},\n",
    "    'Shreveport': {'region': 'South', 'state': 'Louisiana'},\n",
    "    'St. Louis': {'region': 'Midwest', 'state': 'Missouri'},\n",
    "    'St. Paul': {'region': 'Midwest', 'state': 'Minnesota'},\n",
    "    'St. Petersburg': {'region': 'South', 'state': 'Florida'},\n",
    "    'Stockton': {'region': 'West', 'state': 'California'},\n",
    "    'Tampa': {'region': 'South', 'state': 'Florida'},\n",
    "    'Toledo': {'region': 'Midwest', 'state': 'Ohio'},\n",
    "    'Tucson': {'region': 'West', 'state': 'Arizona'},\n",
    "    'Tulsa': {'region': 'South', 'state': 'Oklahoma'},\n",
    "    'Virginia Beach': {'region': 'South', 'state': 'Virginia'},\n",
    "    'Washington': {'region': 'Northeast', 'state': 'District of Columbia'},\n",
    "    'Wichita': {'region': 'Midwest', 'state': 'Kansas'},\n",
    "}"
   ]
  },
  {
   "cell_type": "code",
   "execution_count": 29,
   "metadata": {
    "button": false,
    "new_sheet": false,
    "run_control": {
     "read_only": false
    }
   },
   "outputs": [],
   "source": [
    "# function to convert the dictionary to a DataFrame\n",
    "\n",
    "def toDataFrame(tweets):\n",
    "    #this function selects specific values/columns from the original JSON and adds them as DataFrame columns.\n",
    "    df = pd.DataFrame()\n",
    "    df['tweetID'] = [tweet.id for tweet in tweets]\n",
    "    df['tweetText'] = [tweet.text for tweet in tweets]\n",
    "    df['tweetRetweetCt'] = [tweet.retweet_count for tweet in tweets]\n",
    "    df['tweetFavoriteCt'] = [tweet.favorite_count for tweet in tweets]\n",
    "    df['tweetSource'] = [tweet.source for tweet in tweets]\n",
    "    df['tweetCreated'] = [tweet.created_at for tweet in tweets]\n",
    "    df['userID'] = [tweet.user.id for tweet in tweets]\n",
    "    df['userScreen'] = [tweet.user.screen_name for tweet in tweets]\n",
    "    df['userName'] = [tweet.user.name for tweet in tweets]\n",
    "    df['userCreateDt'] = [tweet.user.created_at for tweet in tweets]\n",
    "    df['userDesc'] = [tweet.user.description for tweet in tweets]\n",
    "    df['userFollowerCt'] = [tweet.user.followers_count for tweet in tweets]\n",
    "    df['userFollowingCt'] = [tweet.user.friends_count for tweet in tweets]\n",
    "    #df['userLocation'] = [tweet.user.location for tweet in tweets]\n",
    "    df['userTimezone'] = [tweet.user.time_zone for tweet in tweets]\n",
    "    df['coordinates'] = [tweet.coordinates for tweet in tweets]\n",
    "    df['geolocation'] = [tweet.geo for tweet in tweets]\n",
    "    df['place'] = [tweet.place for tweet in tweets]\n",
    "    return df"
   ]
  },
  {
   "cell_type": "code",
   "execution_count": 30,
   "metadata": {
    "button": false,
    "new_sheet": false,
    "run_control": {
     "read_only": false
    }
   },
   "outputs": [],
   "source": [
    "# the actual query string to search for these phrases of interested contained in the tweet text\n",
    "\n",
    "q = '(immigration OR immigrants) AND (families OR family) AND (separate OR separation) AND trump)'"
   ]
  },
  {
   "cell_type": "code",
   "execution_count": 32,
   "metadata": {
    "button": false,
    "new_sheet": false,
    "run_control": {
     "read_only": false
    }
   },
   "outputs": [],
   "source": [
    "tweets_df = pd.DataFrame() # initialize an empty global dataframe\n",
    "for city, city_data in cities_data.items():\n",
    "\n",
    "    # get the city ID\n",
    "    city_id = api.geo_search(query = city, wait_on_rate_limit=True, granularity = 'city')[0].id\n",
    "    cities_data[city]['id'] = city_id # add it to cities_data dictionary in case we need it later\n",
    "\n",
    "    # retrieve 500 tweets posted from this city\n",
    "    city_tweets = []\n",
    "    for tweet in tweepy.Cursor(api.search, q=q + '-filter:retweets', contained_within=city_id, wait_on_rate_limit=True, lang=\"en\").items(500):    \n",
    "        city_tweets.append(tweet)\n",
    "    \n",
    "    city_tweets_df = toDataFrame(city_tweets) # convert the tweets list into a dataframe\n",
    "    city_tweets_df['city'] = city # add the city column\n",
    "    city_tweets_df['state'] = city_data['state'] # add the state column\n",
    "    city_tweets_df['region'] = city_data['region'] # add the region column\n",
    "    \n",
    "    # append this dataframe to the global dataframe\n",
    "    tweets_df = tweets_df.append(city_tweets_df, ignore_index=True)"
   ]
  },
  {
   "cell_type": "code",
   "execution_count": 34,
   "metadata": {
    "button": false,
    "new_sheet": false,
    "run_control": {
     "read_only": false
    }
   },
   "outputs": [
    {
     "data": {
      "text/plain": [
       "{'Akron': {'id': 'fef01a8cb0eacb64', 'region': 'Midwest', 'state': 'Ohio'},\n",
       " 'Albuquerque': {'id': '813a485b26b8dae2',\n",
       "  'region': 'West',\n",
       "  'state': 'New Mexico'},\n",
       " 'Anaheim': {'id': '0c2e6999105f8070',\n",
       "  'region': 'West',\n",
       "  'state': 'California'},\n",
       " 'Anchorage': {'id': '7a863bb88e5bb33c', 'region': 'West', 'state': 'Alaska'},\n",
       " 'Arlington': {'id': '319ee7b36c9149da', 'region': 'South', 'state': 'Texas'},\n",
       " 'Atlanta': {'id': '8173485c72e78ca5', 'region': 'South', 'state': 'Georgia'},\n",
       " 'Aurora': {'id': '249bc600a1b6bb6a', 'region': 'West', 'state': 'Colorado'},\n",
       " 'Austin': {'id': 'c3f37afa9efcf94b', 'region': 'South', 'state': 'Texas'},\n",
       " 'Bakersfield': {'id': '960993b9cfdffda9',\n",
       "  'region': 'West',\n",
       "  'state': 'California'},\n",
       " 'Baltimore': {'id': 'c0b8e8dc81930292',\n",
       "  'region': 'Northeast',\n",
       "  'state': 'Maryland'},\n",
       " 'Baton Rouge': {'id': 'c7ef5f3368b68777',\n",
       "  'region': 'South',\n",
       "  'state': 'Louisiana'},\n",
       " 'Birmingham': {'id': '53b67b1d1cc81a51',\n",
       "  'region': 'South',\n",
       "  'state': 'Alabama'},\n",
       " 'Boston': {'id': '67b98f17fdcf20be',\n",
       "  'region': 'Northeast',\n",
       "  'state': 'Massachusetts'},\n",
       " 'Buffalo': {'id': 'a307591cd0413588',\n",
       "  'region': 'Northeast',\n",
       "  'state': 'New York'},\n",
       " 'Chandler': {'id': '52445186970bafb3', 'region': 'West', 'state': 'Arizona'},\n",
       " 'Charlotte': {'id': '512a8a4a4c4b4be0',\n",
       "  'region': 'South',\n",
       "  'state': 'North Carolina'},\n",
       " 'Chesapeake': {'id': '73d1c1c11b675932',\n",
       "  'region': 'South',\n",
       "  'state': 'Virginia'},\n",
       " 'Chicago': {'id': '1d9a5370a355ab0c',\n",
       "  'region': 'Northeast',\n",
       "  'state': 'Illinois'},\n",
       " 'Chula Vista': {'id': '28ace6b8d6dbc3af',\n",
       "  'region': 'West',\n",
       "  'state': 'California'},\n",
       " 'Cincinnati': {'id': 'e444ecd51bd16ff3',\n",
       "  'region': 'Midwest',\n",
       "  'state': 'Ohio'},\n",
       " 'Cleveland': {'id': '0eb9676d24b211f1', 'region': 'Midwest', 'state': 'Ohio'},\n",
       " 'Colorado Springs': {'id': 'adc95f2911133646',\n",
       "  'region': 'West',\n",
       "  'state': 'Colorado'},\n",
       " 'Columbus': {'id': '3df0e3eb1e91170b',\n",
       "  'region': 'Northeast',\n",
       "  'state': 'Ohio'},\n",
       " 'Corpus Christi': {'id': 'a3d770a00f15bcb1',\n",
       "  'region': 'South',\n",
       "  'state': 'Texas'},\n",
       " 'Dallas': {'id': '18810aa5b43e76c7', 'region': 'South', 'state': 'Texas'},\n",
       " 'Denver': {'id': 'b49b3053b5c25bf5', 'region': 'West', 'state': 'Colorado'},\n",
       " 'Detroit': {'id': 'b463d3bd6064861b',\n",
       "  'region': 'Midwest',\n",
       "  'state': 'Michigan'},\n",
       " 'Durham': {'id': 'bced47a0c99c71d0',\n",
       "  'region': 'South',\n",
       "  'state': 'North Carolina'},\n",
       " 'El Paso': {'id': '6a0a3474d8c5113c', 'region': 'South', 'state': 'Texas'},\n",
       " 'Fort Wayne': {'id': '3877d6c867447819',\n",
       "  'region': 'Midwest',\n",
       "  'state': 'Indiana'},\n",
       " 'Fort Worth': {'id': '42e46bc3663a4b5f', 'region': 'South', 'state': 'Texas'},\n",
       " 'Fremont': {'id': '30344aecffe6a491',\n",
       "  'region': 'West',\n",
       "  'state': 'California'},\n",
       " 'Fresno': {'id': '944c03c1d85ef480', 'region': 'West', 'state': 'California'},\n",
       " 'Garland': {'id': '7c01d867b8e8c494', 'region': 'South', 'state': 'Texas'},\n",
       " 'Glendale': {'id': '389e765d4de59bd2', 'region': 'West', 'state': 'Arizona'},\n",
       " 'Greensboro': {'id': 'a6c257c61f294ec1',\n",
       "  'region': 'South',\n",
       "  'state': 'North Carolina'},\n",
       " 'Henderson': {'id': '0e2242eb8691df96', 'region': 'West', 'state': 'Nevada'},\n",
       " 'Hialeah': {'id': '629f4a26fed69cd3', 'region': 'South', 'state': 'Florida'},\n",
       " 'Honolulu': {'id': 'c47c0bc571bf5427', 'region': 'West', 'state': 'Hawaii'},\n",
       " 'Houston': {'id': '1c69a67ad480e1b1', 'region': 'South', 'state': 'Texas'},\n",
       " 'Indianapolis': {'id': '018929347840059e',\n",
       "  'region': 'Midwest',\n",
       "  'state': 'Indianapolis'},\n",
       " 'Jacksonville': {'id': 'd5dbaf62e7106dc4',\n",
       "  'region': 'South',\n",
       "  'state': 'Florida'},\n",
       " 'Jersey City': {'id': 'b046074b1030a44d',\n",
       "  'region': 'Northeast',\n",
       "  'state': 'New Jersey'},\n",
       " 'Kansas City': {'id': '9a974dfc8efb32a0',\n",
       "  'region': 'Midwest',\n",
       "  'state': 'Missouri'},\n",
       " 'Laredo': {'id': '4fd63188b772fc62', 'region': 'South', 'state': 'Texas'},\n",
       " 'Las Vegas': {'id': '5c2b5e46ab891f07', 'region': 'West', 'state': 'Nevada'},\n",
       " 'Lexington-Fayette': {'id': '00ae272d6d0d28fe',\n",
       "  'region': 'South',\n",
       "  'state': 'Kentucky'},\n",
       " 'Lincoln': {'id': '3af2a75dbeb10500',\n",
       "  'region': 'Midwest',\n",
       "  'state': 'Nebraska'},\n",
       " 'Long Beach': {'id': '01c060cf466c6ce3',\n",
       "  'region': 'West',\n",
       "  'state': 'California'},\n",
       " 'Los Angeles': {'id': '3b77caf94bfc81fe',\n",
       "  'region': 'West',\n",
       "  'state': 'California'},\n",
       " 'Louisville': {'id': '095534ad3107e0e6',\n",
       "  'region': 'South',\n",
       "  'state': 'Kentucky'},\n",
       " 'Lubbock': {'id': '3f3f6803f117606d', 'region': 'South', 'state': 'Texas'},\n",
       " 'Madison': {'id': 'e67427d9b4126602',\n",
       "  'region': 'Midwest',\n",
       "  'state': 'Wisconsin'},\n",
       " 'Memphis': {'id': 'f995a9bd45d4a867',\n",
       "  'region': 'South',\n",
       "  'state': 'Tennessee'},\n",
       " 'Mesa': {'id': '44d207663001f00b', 'region': 'West', 'state': 'Arizona'},\n",
       " 'Miami': {'id': '04cb31bae3b3af93', 'region': 'South', 'state': 'Florida'},\n",
       " 'Milwaukee': {'id': '2a93711775303f90',\n",
       "  'region': 'Midwest',\n",
       "  'state': 'Wisconsin'},\n",
       " 'Minneapolis': {'id': '8e9665cec9370f0f',\n",
       "  'region': 'Midwest',\n",
       "  'state': 'Minnesota'},\n",
       " 'Modesto': {'id': 'e41805d7248dbf1e',\n",
       "  'region': 'West',\n",
       "  'state': 'California'},\n",
       " 'Montgomery': {'id': '7f061ded71fdc974',\n",
       "  'region': 'South',\n",
       "  'state': 'Alabama'},\n",
       " 'Nashville': {'id': '00ab941b685334e3',\n",
       "  'region': 'South',\n",
       "  'state': 'Tennessee'},\n",
       " 'New Orleans': {'id': 'dd3b100831dd1763',\n",
       "  'region': 'South',\n",
       "  'state': 'Louisiana'},\n",
       " 'New York': {'id': '27485069891a7938',\n",
       "  'region': 'Northeast',\n",
       "  'state': 'New York'},\n",
       " 'Newark': {'id': 'fa3435044b52ecc7',\n",
       "  'region': 'Northeast',\n",
       "  'state': 'New Jersey'},\n",
       " 'Norfolk': {'id': 'b004be67b9fd6d8f', 'region': 'South', 'state': 'Virginia'},\n",
       " 'Oakland': {'id': 'ab2f2fac83aa388d',\n",
       "  'region': 'West',\n",
       "  'state': 'California'},\n",
       " 'Oklahoma City': {'id': '9531d4e3bbafc09d',\n",
       "  'region': 'South',\n",
       "  'state': 'Oklahoma'},\n",
       " 'Omaha': {'id': 'a84b808ce3f11719', 'region': 'Midwest', 'state': 'Nebraska'},\n",
       " 'Orlando': {'id': '55b4f9e5c516e0b6', 'region': 'South', 'state': 'Florida'},\n",
       " 'Philadelphia': {'id': 'e4a0d228eb6be76b',\n",
       "  'region': 'Northeast',\n",
       "  'state': 'Pennsylvania'},\n",
       " 'Phoenix': {'id': '5c62ffb0f0f3479d', 'region': 'West', 'state': 'Arizona'},\n",
       " 'Pittsburgh': {'id': '946ccd22e1c9cda1',\n",
       "  'region': 'Northeast',\n",
       "  'state': 'Pennsylvania'},\n",
       " 'Plano': {'id': '488da0de4c92ac8e', 'region': 'South', 'state': 'Texas'},\n",
       " 'Portland': {'id': 'ac88a4f17a51c7fc', 'region': 'West', 'state': 'Oregon'},\n",
       " 'Raleigh': {'id': '161d2f18e3a0445a',\n",
       "  'region': 'South',\n",
       "  'state': 'North Carolina'},\n",
       " 'Reno': {'id': '4b25aded08900fd8', 'region': 'West', 'state': 'Nevada'},\n",
       " 'Riverside': {'id': '6ba08e404aed471f',\n",
       "  'region': 'West',\n",
       "  'state': 'California'},\n",
       " 'Rochester': {'id': '2409d5aabed47f79',\n",
       "  'region': 'Northeast',\n",
       "  'state': 'New York'},\n",
       " 'Sacramento': {'id': 'b71fac2ee9792cbe',\n",
       "  'region': 'West',\n",
       "  'state': 'California'},\n",
       " 'San Antonio': {'id': '3df4f427b5a60fea',\n",
       "  'region': 'South',\n",
       "  'state': 'Texas'},\n",
       " 'San Diego': {'id': 'a592bd6ceb1319f7',\n",
       "  'region': 'West',\n",
       "  'state': 'California'},\n",
       " 'San Francisco': {'id': '5a110d312052166f',\n",
       "  'region': 'West',\n",
       "  'state': 'California'},\n",
       " 'San Jose': {'id': '7d62cffe6f98f349',\n",
       "  'region': 'West',\n",
       "  'state': 'California'},\n",
       " 'Santa Ana': {'id': '0562e9e53cddf6ec',\n",
       "  'region': 'West',\n",
       "  'state': 'California'},\n",
       " 'Scottsdale': {'id': '0a0de7bd49ef942d',\n",
       "  'region': 'West',\n",
       "  'state': 'Arizona'},\n",
       " 'Seattle': {'id': '300bcc6e23a88361',\n",
       "  'region': 'West',\n",
       "  'state': 'Washington'},\n",
       " 'Shreveport': {'id': '4ec71fc3f2579572',\n",
       "  'region': 'South',\n",
       "  'state': 'Louisiana'},\n",
       " 'St. Louis': {'id': '0570f015c264cbd9',\n",
       "  'region': 'Midwest',\n",
       "  'state': 'Missouri'},\n",
       " 'St. Paul': {'id': '60e2c37980197297',\n",
       "  'region': 'Midwest',\n",
       "  'state': 'Minnesota'},\n",
       " 'St. Petersburg': {'id': '5d231ed8656fcf5a',\n",
       "  'region': 'South',\n",
       "  'state': 'Florida'},\n",
       " 'Stockton': {'id': 'd98e7ce217ade2c5',\n",
       "  'region': 'West',\n",
       "  'state': 'California'},\n",
       " 'Tampa': {'id': 'dc62519fda13b4ec', 'region': 'South', 'state': 'Florida'},\n",
       " 'Toledo': {'id': '7068dd9474ab6973', 'region': 'Midwest', 'state': 'Ohio'},\n",
       " 'Tucson': {'id': '013379ee5729a5e6', 'region': 'West', 'state': 'Arizona'},\n",
       " 'Tulsa': {'id': 'cb74aaf709812e0f', 'region': 'South', 'state': 'Oklahoma'},\n",
       " 'Virginia Beach': {'id': '84229b03659050aa',\n",
       "  'region': 'South',\n",
       "  'state': 'Virginia'},\n",
       " 'Washington': {'id': '01fbe706f872cb32',\n",
       "  'region': 'Northeast',\n",
       "  'state': 'District of Columbia'},\n",
       " 'Wichita': {'id': '1661ada9b2b18024', 'region': 'Midwest', 'state': 'Kansas'}}"
      ]
     },
     "execution_count": 34,
     "metadata": {},
     "output_type": "execute_result"
    }
   ],
   "source": [
    "cities_data"
   ]
  },
  {
   "cell_type": "code",
   "execution_count": 24,
   "metadata": {},
   "outputs": [],
   "source": [
    "tweets_df = pd.read_csv('newdf.csv')"
   ]
  },
  {
   "cell_type": "code",
   "execution_count": 25,
   "metadata": {
    "button": false,
    "new_sheet": false,
    "run_control": {
     "read_only": false
    }
   },
   "outputs": [
    {
     "data": {
      "text/html": [
       "<div>\n",
       "<style scoped>\n",
       "    .dataframe tbody tr th:only-of-type {\n",
       "        vertical-align: middle;\n",
       "    }\n",
       "\n",
       "    .dataframe tbody tr th {\n",
       "        vertical-align: top;\n",
       "    }\n",
       "\n",
       "    .dataframe thead th {\n",
       "        text-align: right;\n",
       "    }\n",
       "</style>\n",
       "<table border=\"1\" class=\"dataframe\">\n",
       "  <thead>\n",
       "    <tr style=\"text-align: right;\">\n",
       "      <th></th>\n",
       "      <th>tweetID</th>\n",
       "      <th>tweetText</th>\n",
       "      <th>tweetRetweetCt</th>\n",
       "      <th>tweetFavoriteCt</th>\n",
       "      <th>tweetSource</th>\n",
       "      <th>tweetCreated</th>\n",
       "      <th>userID</th>\n",
       "      <th>userScreen</th>\n",
       "      <th>userName</th>\n",
       "      <th>userCreateDt</th>\n",
       "      <th>...</th>\n",
       "      <th>userFollowerCt</th>\n",
       "      <th>userFollowingCt</th>\n",
       "      <th>userTimezone</th>\n",
       "      <th>coordinates</th>\n",
       "      <th>geolocation</th>\n",
       "      <th>place</th>\n",
       "      <th>city</th>\n",
       "      <th>state</th>\n",
       "      <th>region</th>\n",
       "      <th>sentiment</th>\n",
       "    </tr>\n",
       "  </thead>\n",
       "  <tbody>\n",
       "    <tr>\n",
       "      <th>0</th>\n",
       "      <td>1026312635770232832</td>\n",
       "      <td>If Team Trump can't reunite border families, s...</td>\n",
       "      <td>0</td>\n",
       "      <td>0</td>\n",
       "      <td>Twitter for iPhone</td>\n",
       "      <td>2018-08-06 03:42:54</td>\n",
       "      <td>741150848</td>\n",
       "      <td>BlumsLaw</td>\n",
       "      <td>Bill Blum</td>\n",
       "      <td>2012-08-06 18:20:04</td>\n",
       "      <td>...</td>\n",
       "      <td>5473</td>\n",
       "      <td>4581</td>\n",
       "      <td>NaN</td>\n",
       "      <td>NaN</td>\n",
       "      <td>NaN</td>\n",
       "      <td>NaN</td>\n",
       "      <td>Akron</td>\n",
       "      <td>Ohio</td>\n",
       "      <td>Midwest</td>\n",
       "      <td>negative</td>\n",
       "    </tr>\n",
       "    <tr>\n",
       "      <th>1</th>\n",
       "      <td>1026310135843569665</td>\n",
       "      <td>Groups try to ease a border crisis made worse ...</td>\n",
       "      <td>0</td>\n",
       "      <td>1</td>\n",
       "      <td>Twitter Web Client</td>\n",
       "      <td>2018-08-06 03:32:58</td>\n",
       "      <td>789337441098461188</td>\n",
       "      <td>sigikusa</td>\n",
       "      <td>sigi kusa</td>\n",
       "      <td>2016-10-21 05:28:05</td>\n",
       "      <td>...</td>\n",
       "      <td>590</td>\n",
       "      <td>606</td>\n",
       "      <td>NaN</td>\n",
       "      <td>NaN</td>\n",
       "      <td>NaN</td>\n",
       "      <td>NaN</td>\n",
       "      <td>Akron</td>\n",
       "      <td>Ohio</td>\n",
       "      <td>Midwest</td>\n",
       "      <td>negative</td>\n",
       "    </tr>\n",
       "    <tr>\n",
       "      <th>2</th>\n",
       "      <td>1026305895154692096</td>\n",
       "      <td>#Capitalism at its best:  there's profit to be...</td>\n",
       "      <td>0</td>\n",
       "      <td>0</td>\n",
       "      <td>Twitter Web Client</td>\n",
       "      <td>2018-08-06 03:16:07</td>\n",
       "      <td>48462080</td>\n",
       "      <td>ashahawkesworth</td>\n",
       "      <td>Asha Hawkesworth</td>\n",
       "      <td>2009-06-18 19:37:42</td>\n",
       "      <td>...</td>\n",
       "      <td>1357</td>\n",
       "      <td>1987</td>\n",
       "      <td>NaN</td>\n",
       "      <td>NaN</td>\n",
       "      <td>NaN</td>\n",
       "      <td>NaN</td>\n",
       "      <td>Akron</td>\n",
       "      <td>Ohio</td>\n",
       "      <td>Midwest</td>\n",
       "      <td>positive</td>\n",
       "    </tr>\n",
       "    <tr>\n",
       "      <th>3</th>\n",
       "      <td>1026304099069743104</td>\n",
       "      <td>How about Stephen Miller? https://t.co/Mn9hNvlmPP</td>\n",
       "      <td>0</td>\n",
       "      <td>1</td>\n",
       "      <td>Twitter for Android</td>\n",
       "      <td>2018-08-06 03:08:59</td>\n",
       "      <td>3333281505</td>\n",
       "      <td>TrumpWatch</td>\n",
       "      <td>Trump Watch™</td>\n",
       "      <td>2015-06-18 20:10:52</td>\n",
       "      <td>...</td>\n",
       "      <td>2515</td>\n",
       "      <td>378</td>\n",
       "      <td>NaN</td>\n",
       "      <td>NaN</td>\n",
       "      <td>NaN</td>\n",
       "      <td>NaN</td>\n",
       "      <td>Akron</td>\n",
       "      <td>Ohio</td>\n",
       "      <td>Midwest</td>\n",
       "      <td>netural</td>\n",
       "    </tr>\n",
       "    <tr>\n",
       "      <th>4</th>\n",
       "      <td>1026303896770101248</td>\n",
       "      <td>If Team Trump can't reunite border families, s...</td>\n",
       "      <td>0</td>\n",
       "      <td>1</td>\n",
       "      <td>Twitter Web Client</td>\n",
       "      <td>2018-08-06 03:08:11</td>\n",
       "      <td>39515137</td>\n",
       "      <td>carynhunt</td>\n",
       "      <td>Caryn Hunt</td>\n",
       "      <td>2009-05-12 14:52:42</td>\n",
       "      <td>...</td>\n",
       "      <td>646</td>\n",
       "      <td>2395</td>\n",
       "      <td>NaN</td>\n",
       "      <td>NaN</td>\n",
       "      <td>NaN</td>\n",
       "      <td>NaN</td>\n",
       "      <td>Akron</td>\n",
       "      <td>Ohio</td>\n",
       "      <td>Midwest</td>\n",
       "      <td>negative</td>\n",
       "    </tr>\n",
       "  </tbody>\n",
       "</table>\n",
       "<p>5 rows × 21 columns</p>\n",
       "</div>"
      ],
      "text/plain": [
       "               tweetID                                          tweetText  \\\n",
       "0  1026312635770232832  If Team Trump can't reunite border families, s...   \n",
       "1  1026310135843569665  Groups try to ease a border crisis made worse ...   \n",
       "2  1026305895154692096  #Capitalism at its best:  there's profit to be...   \n",
       "3  1026304099069743104  How about Stephen Miller? https://t.co/Mn9hNvlmPP   \n",
       "4  1026303896770101248  If Team Trump can't reunite border families, s...   \n",
       "\n",
       "   tweetRetweetCt  tweetFavoriteCt          tweetSource         tweetCreated  \\\n",
       "0               0                0   Twitter for iPhone  2018-08-06 03:42:54   \n",
       "1               0                1   Twitter Web Client  2018-08-06 03:32:58   \n",
       "2               0                0   Twitter Web Client  2018-08-06 03:16:07   \n",
       "3               0                1  Twitter for Android  2018-08-06 03:08:59   \n",
       "4               0                1   Twitter Web Client  2018-08-06 03:08:11   \n",
       "\n",
       "               userID       userScreen          userName         userCreateDt  \\\n",
       "0           741150848         BlumsLaw         Bill Blum  2012-08-06 18:20:04   \n",
       "1  789337441098461188         sigikusa         sigi kusa  2016-10-21 05:28:05   \n",
       "2            48462080  ashahawkesworth  Asha Hawkesworth  2009-06-18 19:37:42   \n",
       "3          3333281505       TrumpWatch      Trump Watch™  2015-06-18 20:10:52   \n",
       "4            39515137        carynhunt        Caryn Hunt  2009-05-12 14:52:42   \n",
       "\n",
       "     ...    userFollowerCt  userFollowingCt  userTimezone  coordinates  \\\n",
       "0    ...              5473             4581           NaN          NaN   \n",
       "1    ...               590              606           NaN          NaN   \n",
       "2    ...              1357             1987           NaN          NaN   \n",
       "3    ...              2515              378           NaN          NaN   \n",
       "4    ...               646             2395           NaN          NaN   \n",
       "\n",
       "   geolocation  place   city state   region sentiment  \n",
       "0          NaN    NaN  Akron  Ohio  Midwest  negative  \n",
       "1          NaN    NaN  Akron  Ohio  Midwest  negative  \n",
       "2          NaN    NaN  Akron  Ohio  Midwest  positive  \n",
       "3          NaN    NaN  Akron  Ohio  Midwest   netural  \n",
       "4          NaN    NaN  Akron  Ohio  Midwest  negative  \n",
       "\n",
       "[5 rows x 21 columns]"
      ]
     },
     "execution_count": 25,
     "metadata": {},
     "output_type": "execute_result"
    }
   ],
   "source": [
    "tweets_df.head()"
   ]
  },
  {
   "cell_type": "markdown",
   "metadata": {
    "button": false,
    "new_sheet": false,
    "run_control": {
     "read_only": false
    }
   },
   "source": [
    "### Sentiment analysis"
   ]
  },
  {
   "cell_type": "code",
   "execution_count": 37,
   "metadata": {
    "button": false,
    "new_sheet": false,
    "run_control": {
     "read_only": false
    }
   },
   "outputs": [],
   "source": [
    "def clean_tweet(tweet):\n",
    "    # a function that cleans the text of each tweet by removing removing links and special characters using regex.\n",
    "    return ' '.join(re.sub(\"(@[A-Za-z0-9]+)|([^0-9A-Za-z \\t])|(\\w+:\\/\\/\\S+)\", \" \", tweet).split())\n"
   ]
  },
  {
   "cell_type": "code",
   "execution_count": 38,
   "metadata": {
    "button": false,
    "new_sheet": false,
    "run_control": {
     "read_only": false
    }
   },
   "outputs": [],
   "source": [
    "def sentiment(tweet):\n",
    "    # a function to analyze the sentiment of each tweet using textblob\n",
    "    analysis = TextBlob(clean_tweet(tweet))\n",
    "    if analysis.sentiment.polarity > 0:\n",
    "        return 'positive'\n",
    "    elif analysis.sentiment.polarity == 0:\n",
    "        return 'netural'\n",
    "    else:\n",
    "        return 'negative'"
   ]
  },
  {
   "cell_type": "code",
   "execution_count": 39,
   "metadata": {
    "button": false,
    "new_sheet": false,
    "run_control": {
     "read_only": false
    }
   },
   "outputs": [],
   "source": [
    "# creat a new column in our DataFrame with the sentiment\n",
    "tweets_df['sentiment'] = np.array([sentiment(tweet) for tweet in tweets_df['tweetText'] ])"
   ]
  },
  {
   "cell_type": "code",
   "execution_count": 40,
   "metadata": {
    "button": false,
    "new_sheet": false,
    "run_control": {
     "read_only": false
    }
   },
   "outputs": [
    {
     "data": {
      "text/html": [
       "<div>\n",
       "<style scoped>\n",
       "    .dataframe tbody tr th:only-of-type {\n",
       "        vertical-align: middle;\n",
       "    }\n",
       "\n",
       "    .dataframe tbody tr th {\n",
       "        vertical-align: top;\n",
       "    }\n",
       "\n",
       "    .dataframe thead th {\n",
       "        text-align: right;\n",
       "    }\n",
       "</style>\n",
       "<table border=\"1\" class=\"dataframe\">\n",
       "  <thead>\n",
       "    <tr style=\"text-align: right;\">\n",
       "      <th></th>\n",
       "      <th>tweetID</th>\n",
       "      <th>tweetText</th>\n",
       "      <th>tweetRetweetCt</th>\n",
       "      <th>tweetFavoriteCt</th>\n",
       "      <th>tweetSource</th>\n",
       "      <th>tweetCreated</th>\n",
       "      <th>userID</th>\n",
       "      <th>userScreen</th>\n",
       "      <th>userName</th>\n",
       "      <th>userCreateDt</th>\n",
       "      <th>...</th>\n",
       "      <th>userFollowerCt</th>\n",
       "      <th>userFollowingCt</th>\n",
       "      <th>userTimezone</th>\n",
       "      <th>coordinates</th>\n",
       "      <th>geolocation</th>\n",
       "      <th>place</th>\n",
       "      <th>city</th>\n",
       "      <th>state</th>\n",
       "      <th>region</th>\n",
       "      <th>sentiment</th>\n",
       "    </tr>\n",
       "  </thead>\n",
       "  <tbody>\n",
       "    <tr>\n",
       "      <th>0</th>\n",
       "      <td>1026312635770232832</td>\n",
       "      <td>If Team Trump can't reunite border families, s...</td>\n",
       "      <td>0</td>\n",
       "      <td>0</td>\n",
       "      <td>Twitter for iPhone</td>\n",
       "      <td>2018-08-06 03:42:54</td>\n",
       "      <td>741150848</td>\n",
       "      <td>BlumsLaw</td>\n",
       "      <td>Bill Blum</td>\n",
       "      <td>2012-08-06 18:20:04</td>\n",
       "      <td>...</td>\n",
       "      <td>5473</td>\n",
       "      <td>4581</td>\n",
       "      <td>None</td>\n",
       "      <td>None</td>\n",
       "      <td>None</td>\n",
       "      <td>None</td>\n",
       "      <td>Akron</td>\n",
       "      <td>Ohio</td>\n",
       "      <td>Midwest</td>\n",
       "      <td>negative</td>\n",
       "    </tr>\n",
       "    <tr>\n",
       "      <th>1</th>\n",
       "      <td>1026310135843569665</td>\n",
       "      <td>Groups try to ease a border crisis made worse ...</td>\n",
       "      <td>0</td>\n",
       "      <td>1</td>\n",
       "      <td>Twitter Web Client</td>\n",
       "      <td>2018-08-06 03:32:58</td>\n",
       "      <td>789337441098461188</td>\n",
       "      <td>sigikusa</td>\n",
       "      <td>sigi kusa</td>\n",
       "      <td>2016-10-21 05:28:05</td>\n",
       "      <td>...</td>\n",
       "      <td>590</td>\n",
       "      <td>606</td>\n",
       "      <td>None</td>\n",
       "      <td>None</td>\n",
       "      <td>None</td>\n",
       "      <td>None</td>\n",
       "      <td>Akron</td>\n",
       "      <td>Ohio</td>\n",
       "      <td>Midwest</td>\n",
       "      <td>negative</td>\n",
       "    </tr>\n",
       "    <tr>\n",
       "      <th>2</th>\n",
       "      <td>1026305895154692096</td>\n",
       "      <td>#Capitalism at its best:  there's profit to be...</td>\n",
       "      <td>0</td>\n",
       "      <td>0</td>\n",
       "      <td>Twitter Web Client</td>\n",
       "      <td>2018-08-06 03:16:07</td>\n",
       "      <td>48462080</td>\n",
       "      <td>ashahawkesworth</td>\n",
       "      <td>Asha Hawkesworth</td>\n",
       "      <td>2009-06-18 19:37:42</td>\n",
       "      <td>...</td>\n",
       "      <td>1357</td>\n",
       "      <td>1987</td>\n",
       "      <td>None</td>\n",
       "      <td>None</td>\n",
       "      <td>None</td>\n",
       "      <td>None</td>\n",
       "      <td>Akron</td>\n",
       "      <td>Ohio</td>\n",
       "      <td>Midwest</td>\n",
       "      <td>positive</td>\n",
       "    </tr>\n",
       "    <tr>\n",
       "      <th>3</th>\n",
       "      <td>1026304099069743104</td>\n",
       "      <td>How about Stephen Miller? https://t.co/Mn9hNvlmPP</td>\n",
       "      <td>0</td>\n",
       "      <td>1</td>\n",
       "      <td>Twitter for Android</td>\n",
       "      <td>2018-08-06 03:08:59</td>\n",
       "      <td>3333281505</td>\n",
       "      <td>TrumpWatch</td>\n",
       "      <td>Trump Watch™</td>\n",
       "      <td>2015-06-18 20:10:52</td>\n",
       "      <td>...</td>\n",
       "      <td>2515</td>\n",
       "      <td>378</td>\n",
       "      <td>None</td>\n",
       "      <td>None</td>\n",
       "      <td>None</td>\n",
       "      <td>None</td>\n",
       "      <td>Akron</td>\n",
       "      <td>Ohio</td>\n",
       "      <td>Midwest</td>\n",
       "      <td>netural</td>\n",
       "    </tr>\n",
       "    <tr>\n",
       "      <th>4</th>\n",
       "      <td>1026303896770101248</td>\n",
       "      <td>If Team Trump can't reunite border families, s...</td>\n",
       "      <td>0</td>\n",
       "      <td>1</td>\n",
       "      <td>Twitter Web Client</td>\n",
       "      <td>2018-08-06 03:08:11</td>\n",
       "      <td>39515137</td>\n",
       "      <td>carynhunt</td>\n",
       "      <td>Caryn Hunt</td>\n",
       "      <td>2009-05-12 14:52:42</td>\n",
       "      <td>...</td>\n",
       "      <td>646</td>\n",
       "      <td>2395</td>\n",
       "      <td>None</td>\n",
       "      <td>None</td>\n",
       "      <td>None</td>\n",
       "      <td>None</td>\n",
       "      <td>Akron</td>\n",
       "      <td>Ohio</td>\n",
       "      <td>Midwest</td>\n",
       "      <td>negative</td>\n",
       "    </tr>\n",
       "  </tbody>\n",
       "</table>\n",
       "<p>5 rows × 21 columns</p>\n",
       "</div>"
      ],
      "text/plain": [
       "               tweetID                                          tweetText  \\\n",
       "0  1026312635770232832  If Team Trump can't reunite border families, s...   \n",
       "1  1026310135843569665  Groups try to ease a border crisis made worse ...   \n",
       "2  1026305895154692096  #Capitalism at its best:  there's profit to be...   \n",
       "3  1026304099069743104  How about Stephen Miller? https://t.co/Mn9hNvlmPP   \n",
       "4  1026303896770101248  If Team Trump can't reunite border families, s...   \n",
       "\n",
       "   tweetRetweetCt  tweetFavoriteCt          tweetSource        tweetCreated  \\\n",
       "0               0                0   Twitter for iPhone 2018-08-06 03:42:54   \n",
       "1               0                1   Twitter Web Client 2018-08-06 03:32:58   \n",
       "2               0                0   Twitter Web Client 2018-08-06 03:16:07   \n",
       "3               0                1  Twitter for Android 2018-08-06 03:08:59   \n",
       "4               0                1   Twitter Web Client 2018-08-06 03:08:11   \n",
       "\n",
       "               userID       userScreen          userName        userCreateDt  \\\n",
       "0           741150848         BlumsLaw         Bill Blum 2012-08-06 18:20:04   \n",
       "1  789337441098461188         sigikusa         sigi kusa 2016-10-21 05:28:05   \n",
       "2            48462080  ashahawkesworth  Asha Hawkesworth 2009-06-18 19:37:42   \n",
       "3          3333281505       TrumpWatch      Trump Watch™ 2015-06-18 20:10:52   \n",
       "4            39515137        carynhunt        Caryn Hunt 2009-05-12 14:52:42   \n",
       "\n",
       "     ...    userFollowerCt  userFollowingCt  userTimezone coordinates  \\\n",
       "0    ...              5473             4581          None        None   \n",
       "1    ...               590              606          None        None   \n",
       "2    ...              1357             1987          None        None   \n",
       "3    ...              2515              378          None        None   \n",
       "4    ...               646             2395          None        None   \n",
       "\n",
       "  geolocation place   city state   region sentiment  \n",
       "0        None  None  Akron  Ohio  Midwest  negative  \n",
       "1        None  None  Akron  Ohio  Midwest  negative  \n",
       "2        None  None  Akron  Ohio  Midwest  positive  \n",
       "3        None  None  Akron  Ohio  Midwest   netural  \n",
       "4        None  None  Akron  Ohio  Midwest  negative  \n",
       "\n",
       "[5 rows x 21 columns]"
      ]
     },
     "execution_count": 40,
     "metadata": {},
     "output_type": "execute_result"
    }
   ],
   "source": [
    "tweets_df.head()"
   ]
  },
  {
   "cell_type": "code",
   "execution_count": 41,
   "metadata": {
    "button": false,
    "new_sheet": false,
    "run_control": {
     "read_only": false
    }
   },
   "outputs": [],
   "source": [
    "# Saving the DataFrame as a .csv file.\n",
    "\n",
    "tweets_df.to_csv('newdf.csv', encoding='utf-8', index=False)"
   ]
  },
  {
   "cell_type": "markdown",
   "metadata": {
    "button": false,
    "new_sheet": false,
    "run_control": {
     "read_only": false
    }
   },
   "source": [
    "### Further Exploratory Data Analysis"
   ]
  },
  {
   "cell_type": "markdown",
   "metadata": {
    "button": false,
    "new_sheet": false,
    "run_control": {
     "read_only": false
    }
   },
   "source": [
    "#### The number and percentage of “positive”, “negative”, and “neutral” tweets to be interesting. Specifically, there were far more “neutral” tweets (55.7%) than “negative” (29.2%) and “positive” (15%) tweets, as one can see in the following figures and bar chart:"
   ]
  },
  {
   "cell_type": "code",
   "execution_count": 5,
   "metadata": {
    "button": false,
    "new_sheet": false,
    "run_control": {
     "read_only": false
    }
   },
   "outputs": [
    {
     "data": {
      "text/plain": [
       "netural     27309\n",
       "negative    14303\n",
       "positive     7388\n",
       "Name: sentiment, dtype: int64"
      ]
     },
     "execution_count": 5,
     "metadata": {},
     "output_type": "execute_result"
    }
   ],
   "source": [
    "tweets_df.sentiment.value_counts()"
   ]
  },
  {
   "cell_type": "code",
   "execution_count": 6,
   "metadata": {
    "button": false,
    "new_sheet": false,
    "run_control": {
     "read_only": false
    }
   },
   "outputs": [
    {
     "data": {
      "image/png": "[encoded data removed]",
      "text/plain": [
       "<matplotlib.figure.Figure at 0x10a6d61d0>"
      ]
     },
     "metadata": {},
     "output_type": "display_data"
    }
   ],
   "source": [
    "tweets_df.sentiment.value_counts().plot(kind='bar', title = 'Frequency Chart of Sentiments')\n",
    "plt.ylabel('Count')\n",
    "plt.show()"
   ]
  },
  {
   "cell_type": "code",
   "execution_count": 45,
   "metadata": {
    "button": false,
    "new_sheet": false,
    "run_control": {
     "read_only": false
    }
   },
   "outputs": [
    {
     "data": {
      "text/plain": [
       "netural     0.557327\n",
       "negative    0.291898\n",
       "positive    0.150776\n",
       "Name: sentiment, dtype: float64"
      ]
     },
     "execution_count": 45,
     "metadata": {},
     "output_type": "execute_result"
    }
   ],
   "source": [
    "tweets_df.sentiment.value_counts()/len(tweets_df)"
   ]
  },
  {
   "cell_type": "markdown",
   "metadata": {
    "button": false,
    "new_sheet": false,
    "run_control": {
     "read_only": false
    }
   },
   "source": [
    "#### As one can see, there were more overall tweets from the South and West. The percentages of “neutral”, “negative”, and “positive” by region was consistent with the overall percentages mentioned above. By comparing within region percentages, one can see that the West region had the highest percentages of “negative” tweets and “positive” tweets with the lowest percentage of “neutral” tweets. The Midwest region had the lowest percentage of “positive” tweets."
   ]
  },
  {
   "cell_type": "code",
   "execution_count": 46,
   "metadata": {
    "button": false,
    "new_sheet": false,
    "run_control": {
     "read_only": false
    }
   },
   "outputs": [
    {
     "data": {
      "text/plain": [
       "<matplotlib.axes._subplots.AxesSubplot at 0x1a13a6d0f0>"
      ]
     },
     "execution_count": 46,
     "metadata": {},
     "output_type": "execute_result"
    },
    {
     "data": {
      "image/png": "[encoded data removed]",
      "text/plain": [
       "<matplotlib.figure.Figure at 0x1a1316ef28>"
      ]
     },
     "metadata": {},
     "output_type": "display_data"
    }
   ],
   "source": [
    "tweets_df.groupby('sentiment').region.value_counts().unstack(0).plot.barh(title = 'Frequency Chart of Regions by Sentiment')\n"
   ]
  },
  {
   "cell_type": "code",
   "execution_count": 47,
   "metadata": {
    "button": false,
    "new_sheet": false,
    "run_control": {
     "read_only": false
    }
   },
   "outputs": [],
   "source": [
    "sents=tweets_df.groupby('sentiment')"
   ]
  },
  {
   "cell_type": "code",
   "execution_count": 48,
   "metadata": {
    "button": false,
    "new_sheet": false,
    "run_control": {
     "read_only": false
    }
   },
   "outputs": [
    {
     "data": {
      "text/plain": [
       "sentiment  region   \n",
       "negative   South         5395\n",
       "           West          4829\n",
       "           Midwest       2329\n",
       "           Northeast     1750\n",
       "netural    South        10314\n",
       "           West          9186\n",
       "           Midwest       4468\n",
       "           Northeast     3341\n",
       "positive   South         2791\n",
       "           West          2485\n",
       "           Midwest       1203\n",
       "           Northeast      909\n",
       "Name: region, dtype: int64"
      ]
     },
     "execution_count": 48,
     "metadata": {},
     "output_type": "execute_result"
    }
   ],
   "source": [
    "sents.region.value_counts()"
   ]
  },
  {
   "cell_type": "code",
   "execution_count": 50,
   "metadata": {
    "button": false,
    "new_sheet": false,
    "run_control": {
     "read_only": false
    }
   },
   "outputs": [
    {
     "data": {
      "text/plain": [
       "18500"
      ]
     },
     "execution_count": 50,
     "metadata": {},
     "output_type": "execute_result"
    }
   ],
   "source": [
    "len(tweets_df.loc[tweets_df['region']=='South'])"
   ]
  },
  {
   "cell_type": "code",
   "execution_count": 51,
   "metadata": {
    "button": false,
    "new_sheet": false,
    "run_control": {
     "read_only": false
    }
   },
   "outputs": [
    {
     "data": {
      "text/plain": [
       "16500"
      ]
     },
     "execution_count": 51,
     "metadata": {},
     "output_type": "execute_result"
    }
   ],
   "source": [
    "len(tweets_df.loc[tweets_df['region']=='West'])"
   ]
  },
  {
   "cell_type": "code",
   "execution_count": 52,
   "metadata": {
    "button": false,
    "new_sheet": false,
    "run_control": {
     "read_only": false
    }
   },
   "outputs": [
    {
     "data": {
      "text/plain": [
       "8000"
      ]
     },
     "execution_count": 52,
     "metadata": {},
     "output_type": "execute_result"
    }
   ],
   "source": [
    "len(tweets_df.loc[tweets_df['region']=='Midwest'])"
   ]
  },
  {
   "cell_type": "code",
   "execution_count": 53,
   "metadata": {
    "button": false,
    "new_sheet": false,
    "run_control": {
     "read_only": false
    }
   },
   "outputs": [
    {
     "data": {
      "text/plain": [
       "6000"
      ]
     },
     "execution_count": 53,
     "metadata": {},
     "output_type": "execute_result"
    }
   ],
   "source": [
    "len(tweets_df.loc[tweets_df['region']=='Northeast'])"
   ]
  },
  {
   "cell_type": "code",
   "execution_count": 54,
   "metadata": {
    "button": false,
    "new_sheet": false,
    "run_control": {
     "read_only": false
    }
   },
   "outputs": [
    {
     "data": {
      "text/plain": [
       "<matplotlib.axes._subplots.AxesSubplot at 0x1a12c95978>"
      ]
     },
     "execution_count": 54,
     "metadata": {},
     "output_type": "execute_result"
    },
    {
     "data": {
      "image/png": "[encoded data removed]",
      "text/plain": [
       "<matplotlib.figure.Figure at 0x1a12ca2da0>"
      ]
     },
     "metadata": {},
     "output_type": "display_data"
    }
   ],
   "source": [
    "sns.stripplot(x = 'sentiment', y = 'userFollowerCt', data = tweets_df, jitter=True)"
   ]
  },
  {
   "cell_type": "code",
   "execution_count": 57,
   "metadata": {},
   "outputs": [
    {
     "data": {
      "text/plain": [
       "<matplotlib.axes._subplots.AxesSubplot at 0x1a13006438>"
      ]
     },
     "execution_count": 57,
     "metadata": {},
     "output_type": "execute_result"
    },
    {
     "data": {
      "image/png": "[encoded data removed]",
      "text/plain": [
       "<matplotlib.figure.Figure at 0x1a12ff6c50>"
      ]
     },
     "metadata": {},
     "output_type": "display_data"
    }
   ],
   "source": [
    "sns.stripplot(x = 'sentiment', y = 'userFollowingCt', data = tweets_df, jitter=True)"
   ]
  },
  {
   "cell_type": "code",
   "execution_count": 59,
   "metadata": {},
   "outputs": [
    {
     "data": {
      "text/plain": [
       "<matplotlib.axes._subplots.AxesSubplot at 0x1a13ffe198>"
      ]
     },
     "execution_count": 59,
     "metadata": {},
     "output_type": "execute_result"
    },
    {
     "data": {
      "image/png": "[encoded data removed]",
      "text/plain": [
       "<matplotlib.figure.Figure at 0x1a12c6a9e8>"
      ]
     },
     "metadata": {},
     "output_type": "display_data"
    }
   ],
   "source": [
    "sns.stripplot(x = 'sentiment', y = 'tweetRetweetCt', data = tweets_df, jitter=True)"
   ]
  },
  {
   "cell_type": "markdown",
   "metadata": {
    "button": false,
    "new_sheet": false,
    "run_control": {
     "read_only": false
    }
   },
   "source": [
    "#### Additionally, as one can see in the following chart, the number of Twitter followers is positively correlated with the number being followed. The relationship is even stronger among those with “negative” sentiments about the President’s immigration position."
   ]
  },
  {
   "cell_type": "code",
   "execution_count": 55,
   "metadata": {
    "button": false,
    "new_sheet": false,
    "run_control": {
     "read_only": false
    }
   },
   "outputs": [
    {
     "data": {
      "text/plain": [
       "<seaborn.axisgrid.FacetGrid at 0x1a12ee1940>"
      ]
     },
     "execution_count": 55,
     "metadata": {},
     "output_type": "execute_result"
    },
    {
     "data": {
      "image/png": "[encoded data removed]",
      "text/plain": [
       "<matplotlib.figure.Figure at 0x1a12efcc50>"
      ]
     },
     "metadata": {},
     "output_type": "display_data"
    }
   ],
   "source": [
    "sns.lmplot(x='userFollowingCt', y='userFollowerCt',data=tweets_df)"
   ]
  },
  {
   "cell_type": "code",
   "execution_count": 7,
   "metadata": {
    "button": false,
    "new_sheet": false,
    "run_control": {
     "read_only": false
    }
   },
   "outputs": [
    {
     "data": {
      "text/plain": [
       "<seaborn.axisgrid.FacetGrid at 0x10b1bf048>"
      ]
     },
     "execution_count": 7,
     "metadata": {},
     "output_type": "execute_result"
    },
    {
     "data": {
      "image/png": "[encoded data removed]",
      "text/plain": [
       "<matplotlib.figure.Figure at 0x10ac3d390>"
      ]
     },
     "metadata": {},
     "output_type": "display_data"
    }
   ],
   "source": [
    "sns.lmplot(x='userFollowingCt', y='userFollowerCt', hue='sentiment',data=tweets_df)"
   ]
  },
  {
   "cell_type": "code",
   "execution_count": 60,
   "metadata": {},
   "outputs": [],
   "source": [
    "# function for ECDF (Empirical Cumulative Distribution Function)\n",
    "\n",
    "def ecdf(data):\n",
    "    \"\"\"Compute ECDF for a one-dimensional array of measurements.\"\"\"\n",
    "    # Number of data points: n\n",
    "    n = len(data)\n",
    "\n",
    "    # x-data for the ECDF: x\n",
    "    x = np.sort(data)\n",
    "\n",
    "    # y-data for the ECDF: y\n",
    "    y = np.arange(1,n+1) / n\n",
    "\n",
    "    return x, y"
   ]
  },
  {
   "cell_type": "code",
   "execution_count": 61,
   "metadata": {},
   "outputs": [
    {
     "data": {
      "image/png": "[encoded data removed]",
      "text/plain": [
       "<matplotlib.figure.Figure at 0x1a14002b38>"
      ]
     },
     "metadata": {},
     "output_type": "display_data"
    }
   ],
   "source": [
    "followers_x, followers_y = ecdf(tweets_df.userFollowerCt)\n",
    "following_x, following_y = ecdf(tweets_df.userFollowingCt)\n",
    "\n",
    "plt.plot(followers_x, followers_y, marker = '.', linestyle='none', color='red')\n",
    "plt.plot(following_x, following_y, marker = '.', linestyle='none', color='blue')\n",
    "\n",
    "plt.margins(0.02)\n",
    "plt.xlabel('Count')\n",
    "plt.ylabel('Proportion')\n",
    "plt.legend(('Followers', 'Following'), loc=4)\n",
    "plt.title('ECDF for Followers and Following')\n",
    "plt.show()"
   ]
  },
  {
   "cell_type": "code",
   "execution_count": 62,
   "metadata": {},
   "outputs": [
    {
     "data": {
      "text/html": [
       "<div>\n",
       "<style scoped>\n",
       "    .dataframe tbody tr th:only-of-type {\n",
       "        vertical-align: middle;\n",
       "    }\n",
       "\n",
       "    .dataframe tbody tr th {\n",
       "        vertical-align: top;\n",
       "    }\n",
       "\n",
       "    .dataframe thead th {\n",
       "        text-align: right;\n",
       "    }\n",
       "</style>\n",
       "<table border=\"1\" class=\"dataframe\">\n",
       "  <thead>\n",
       "    <tr style=\"text-align: right;\">\n",
       "      <th></th>\n",
       "      <th>tweetID</th>\n",
       "      <th>tweetRetweetCt</th>\n",
       "      <th>tweetFavoriteCt</th>\n",
       "      <th>userID</th>\n",
       "      <th>userFollowerCt</th>\n",
       "      <th>userFollowingCt</th>\n",
       "    </tr>\n",
       "  </thead>\n",
       "  <tbody>\n",
       "    <tr>\n",
       "      <th>tweetID</th>\n",
       "      <td>1.000000</td>\n",
       "      <td>0.034438</td>\n",
       "      <td>0.045956</td>\n",
       "      <td>-0.099799</td>\n",
       "      <td>0.006690</td>\n",
       "      <td>0.031130</td>\n",
       "    </tr>\n",
       "    <tr>\n",
       "      <th>tweetRetweetCt</th>\n",
       "      <td>0.034438</td>\n",
       "      <td>1.000000</td>\n",
       "      <td>0.980492</td>\n",
       "      <td>-0.039812</td>\n",
       "      <td>0.126450</td>\n",
       "      <td>0.024048</td>\n",
       "    </tr>\n",
       "    <tr>\n",
       "      <th>tweetFavoriteCt</th>\n",
       "      <td>0.045956</td>\n",
       "      <td>0.980492</td>\n",
       "      <td>1.000000</td>\n",
       "      <td>-0.037237</td>\n",
       "      <td>0.095068</td>\n",
       "      <td>0.019672</td>\n",
       "    </tr>\n",
       "    <tr>\n",
       "      <th>userID</th>\n",
       "      <td>-0.099799</td>\n",
       "      <td>-0.039812</td>\n",
       "      <td>-0.037237</td>\n",
       "      <td>1.000000</td>\n",
       "      <td>-0.050317</td>\n",
       "      <td>-0.049739</td>\n",
       "    </tr>\n",
       "    <tr>\n",
       "      <th>userFollowerCt</th>\n",
       "      <td>0.006690</td>\n",
       "      <td>0.126450</td>\n",
       "      <td>0.095068</td>\n",
       "      <td>-0.050317</td>\n",
       "      <td>1.000000</td>\n",
       "      <td>0.066161</td>\n",
       "    </tr>\n",
       "    <tr>\n",
       "      <th>userFollowingCt</th>\n",
       "      <td>0.031130</td>\n",
       "      <td>0.024048</td>\n",
       "      <td>0.019672</td>\n",
       "      <td>-0.049739</td>\n",
       "      <td>0.066161</td>\n",
       "      <td>1.000000</td>\n",
       "    </tr>\n",
       "  </tbody>\n",
       "</table>\n",
       "</div>"
      ],
      "text/plain": [
       "                  tweetID  tweetRetweetCt  tweetFavoriteCt    userID  \\\n",
       "tweetID          1.000000        0.034438         0.045956 -0.099799   \n",
       "tweetRetweetCt   0.034438        1.000000         0.980492 -0.039812   \n",
       "tweetFavoriteCt  0.045956        0.980492         1.000000 -0.037237   \n",
       "userID          -0.099799       -0.039812        -0.037237  1.000000   \n",
       "userFollowerCt   0.006690        0.126450         0.095068 -0.050317   \n",
       "userFollowingCt  0.031130        0.024048         0.019672 -0.049739   \n",
       "\n",
       "                 userFollowerCt  userFollowingCt  \n",
       "tweetID                0.006690         0.031130  \n",
       "tweetRetweetCt         0.126450         0.024048  \n",
       "tweetFavoriteCt        0.095068         0.019672  \n",
       "userID                -0.050317        -0.049739  \n",
       "userFollowerCt         1.000000         0.066161  \n",
       "userFollowingCt        0.066161         1.000000  "
      ]
     },
     "execution_count": 62,
     "metadata": {},
     "output_type": "execute_result"
    }
   ],
   "source": [
    "tweets_df.corr()"
   ]
  },
  {
   "cell_type": "code",
   "execution_count": 64,
   "metadata": {},
   "outputs": [
    {
     "data": {
      "image/png": "[encoded data removed]",
      "text/plain": [
       "<matplotlib.figure.Figure at 0x1a13ca3e10>"
      ]
     },
     "metadata": {},
     "output_type": "display_data"
    }
   ],
   "source": [
    "plt.plot(tweets_df.userFollowerCt, tweets_df.tweetFavoriteCt, linestyle='none', marker='.')\n",
    "plt.xlabel('Followers')\n",
    "plt.ylabel('Count of Tweets Favorited')\n",
    "plt.title('Scatterplot of Followers and Count of Tweets Favorited')\n",
    "plt.show()"
   ]
  },
  {
   "cell_type": "code",
   "execution_count": 65,
   "metadata": {},
   "outputs": [
    {
     "data": {
      "image/png": "[encoded data removed]",
      "text/plain": [
       "<matplotlib.figure.Figure at 0x1a1e7cf828>"
      ]
     },
     "metadata": {},
     "output_type": "display_data"
    }
   ],
   "source": [
    "sns.lmplot( x=\"userFollowerCt\", y=\"userFollowingCt\", data=tweets_df, fit_reg=False, hue='sentiment', legend=False)\n",
    "plt.legend(loc='upper right')\n",
    " \n",
    "plt.show()"
   ]
  },
  {
   "cell_type": "code",
   "execution_count": null,
   "metadata": {},
   "outputs": [],
   "source": []
  }
 ],
 "metadata": {
  "kernelspec": {
   "display_name": "Python 3",
   "language": "python",
   "name": "python3"
  },
  "language_info": {
   "codemirror_mode": {
    "name": "ipython",
    "version": 3
   },
   "file_extension": ".py",
   "mimetype": "text/x-python",
   "name": "python",
   "nbconvert_exporter": "python",
   "pygments_lexer": "ipython3",
   "version": "3.6.4"
  }
 },
 "nbformat": 4,
 "nbformat_minor": 2
}
