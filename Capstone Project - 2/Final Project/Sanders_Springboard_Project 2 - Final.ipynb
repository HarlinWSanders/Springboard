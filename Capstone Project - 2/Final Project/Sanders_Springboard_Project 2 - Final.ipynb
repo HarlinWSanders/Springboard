{
 "cells": [
  {
   "cell_type": "markdown",
   "metadata": {},
   "source": [
    "# The Challenge/Goal:\n",
    "## Given a set of Wikipedia articles, the challenge is to build a model to identify the primary topic of each article and analyze the content and structure of that article. The second part of the project will focus on conducting similar analyses of a group of Wikipedia articles. After topic modeling is complete for the corpus, I will cluster the articles based on their content and recommend similar articles based on those primary topics.\n"
   ]
  },
  {
   "cell_type": "markdown",
   "metadata": {},
   "source": [
    "Installing dependencies and relevant packages and libraries.."
   ]
  },
  {
   "cell_type": "code",
   "execution_count": 1,
   "metadata": {},
   "outputs": [],
   "source": [
    "import wikipedia as wiki\n",
    "import nltk\n",
    "from nltk.tokenize import sent_tokenize\n",
    "from nltk.tokenize import word_tokenize\n",
    "from nltk.stem import WordNetLemmatizer\n",
    "import gensim\n",
    "from gensim.corpora.dictionary import Dictionary\n",
    "from collections import Counter, defaultdict\n",
    "import matplotlib.pyplot as plt\n",
    "import itertools\n",
    "import re\n",
    "import pandas as pd\n",
    "from gensim.models.tfidfmodel import TfidfModel\n",
    "from sklearn.feature_extraction.text import TfidfVectorizer\n",
    "from sklearn.cluster import KMeans\n",
    "from sklearn.metrics.pairwise import cosine_similarity"
   ]
  },
  {
   "cell_type": "markdown",
   "metadata": {},
   "source": [
    "# PART 1: \n",
    "# Analyzing one Wikipedia article"
   ]
  },
  {
   "cell_type": "code",
   "execution_count": 2,
   "metadata": {},
   "outputs": [],
   "source": [
    "page = wiki.page(wiki.random(1))"
   ]
  },
  {
   "cell_type": "code",
   "execution_count": 3,
   "metadata": {},
   "outputs": [
    {
     "name": "stdout",
     "output_type": "stream",
     "text": [
      "Status of First Nations treaties in British Columbia\n"
     ]
    }
   ],
   "source": [
    "print(page.title)"
   ]
  },
  {
   "cell_type": "code",
   "execution_count": 4,
   "metadata": {},
   "outputs": [
    {
     "name": "stdout",
     "output_type": "stream",
     "text": [
      "https://en.wikipedia.org/wiki/Status_of_First_Nations_treaties_in_British_Columbia\n"
     ]
    }
   ],
   "source": [
    "print(page.url)"
   ]
  },
  {
   "cell_type": "code",
   "execution_count": 5,
   "metadata": {},
   "outputs": [
    {
     "name": "stdout",
     "output_type": "stream",
     "text": [
      "['https://upload.wikimedia.org/wikipedia/commons/c/cc/Aboriginal_War_Veterans_monument_%28close%29.JPG', 'https://upload.wikimedia.org/wikipedia/commons/f/fc/Maple_Leaf_%28from_roundel%29.svg', 'https://upload.wikimedia.org/wikipedia/commons/d/de/Nisgaa_mask_Louvre_MH_81-22-1.jpg', 'https://upload.wikimedia.org/wikipedia/commons/a/aa/Sir_James_Douglas.jpg', 'https://upload.wikimedia.org/wikipedia/commons/5/5b/Tsawwassen.png']\n"
     ]
    }
   ],
   "source": [
    "print(page.images)"
   ]
  },
  {
   "cell_type": "code",
   "execution_count": 6,
   "metadata": {},
   "outputs": [
    {
     "name": "stdout",
     "output_type": "stream",
     "text": [
      "['1969 White Paper', 'Abbotsford, British Columbia', 'Aboriginal English in Canada', 'Aboriginal rights', 'Aboriginal title', 'Acho Dene Koe First Nation', 'Adams Lake Indian Band', 'Agreement Respecting a New Relationship Between the Cree Nation and the Government of Quebec', 'Ahousaht First Nation', 'Aitchelitz Band', 'Alberta', 'Alert Bay', 'Alexandria First Nation', 'Alexis Creek First Nation', 'Alkali Lake Indian Band', 'Americanist phonetic notation', 'Ashcroft Indian Band', 'Atlin Country', 'Attorney General of Canada v. Lavell', 'BC Liberal Party', 'BC Treaty Process', 'Bella Bella, British Columbia', 'Bella Coola, British Columbia', 'Blueberry River First Nations', 'Bonaparte Indian Band', 'Boothroyd Indian Band', 'Boston Bar Indian Band', 'Bridge River Country', 'Bridge River Indian Band', 'British Columbia', 'British Columbia Coast', 'British Columbia Interior', 'British Columbia Treaty Commission', 'British Columbia Treaty Process', 'British Columbia aboriginal treaty referendum, 2002', 'Bulkley Country', 'Burrard Inlet', 'CBC News', 'Calder v British Columbia (AG)', 'Campbell River First Nation (Wei Wai Kum)', 'Canadian Aboriginal law', 'Canadian Aboriginal syllabics', 'Canadian Broadcasting Corporation', 'Canadian Indian residential school system', 'Canim Lake Band', 'Canoe Creek Band/Dog Creek Indian Band', 'Canwest', 'Canwest News Service', 'Cape Mudge First Nation', 'Carcross/Tagish First Nation', 'Cariboo', 'Carrier-Chilcotin Tribal Council', 'Carrier Chilcotin Tribal Council', 'Carrier Sekani Tribal Council', 'Cassiar Country', 'Cayoose Creek First Nation', 'Champagne and Aishihik First Nations', 'Chase, British Columbia', 'Chawathil First Nation', 'Cheam Indian Band', 'Chehalis First Nation', 'Chemainus First Nation', 'Cheslatta Indian Band', 'Chilcotin District', 'Chippewas of Sarnia Band v. Canada (Attorney General)', 'Coldwater Indian Band', 'Colony of Vancouver Island', 'Columbia Lake First Nation', \"Cook's Ferry Indian Band\", 'Coquitlam', 'Corbiere v. Canada (Minister of Indian and Northern Affairs)', 'Council of the Haida Nation', 'Country food', 'Covenant Chain', 'Cowichan Tribes', 'Crown land', \"Da'naxda'xw Awaetlatla Nation\", 'Daniels v. Canada', 'Daniels v Canada (Indian Affairs and Northern Development)', 'Dease River First Nation', 'Declaration on the Rights of Indigenous Peoples', 'Definitions and identity of indigenous peoples', 'Deh Cho First Nations Tribal Council', 'Delgamuukw v. British Columbia', 'Delta, British Columbia', 'Ditidaht First Nation', 'Doig River First Nation', 'Douglas First Nation', 'Douglas Treaties', 'Duty to consult and accommodate', 'Ehattesaht First Nation', 'Esquimalt First Nation', 'Executive Council of British Columbia', 'First Nations', 'First Nations in Alberta', 'First Nations in Manitoba', 'First Nations in Saskatchewan', 'Fort Nelson First Nation', 'Fountain Indian Band', 'Fraser Canyon', 'Fraser Canyon Indian Administration', 'Fraser Valley', 'Genetic history of indigenous peoples of the Americas', 'Gitanmaax Band Council', 'Gitanyow First Nation', 'Gitsegukla Indian Band', 'Gitwangak Indian Band', 'Gitxaala Nation', 'Gitxsan Treaty Society', 'Gladue report', 'Glen Vowell Indian Band', 'Government of Canada', 'Great Peace of Montreal', \"Gwa'sala-'Nakwaxda'xw Nation\", 'Gwawaenuk Tribe', 'Hagwilget Village First Nation', 'Haida Gwaii', 'Haisla Nation', 'Halalt First Nation', 'Halfway River First Nation', 'Halifax Treaties', 'Hamatla Treaty Society', 'Hartley Bay Indian Band', 'Heiltsuk Nation', 'Hesquiaht First Nation', 'High Bar First Nation', 'Homalco Indian Band', 'Howe Sound', 'Hul’qumi’num Treaty Group', 'Hupacasath First Nation', 'Huron Tract Purchase', 'Huu-ay-aht First Nation', 'Idle No More', 'In-SHUCK-ch Nation', 'Index of articles related to Indigenous Canadians', 'Indian Act', 'Indian Health Transfer Policy', 'Indian and Northern Affairs Canada', 'Indian hospital', 'Indian reserve', 'Indigenous Canadian personalities', 'Indigenous and Northern Affairs Canada', 'Indigenous intellectual property', 'Indigenous music of Canada', 'Indigenous peoples in Canada', 'Indigenous peoples in Northern Canada', 'Indigenous peoples in Quebec', 'Indigenous peoples of the Pacific Northwest Coast', 'Indigenous self-government in Canada', 'Inuit', 'Inuit grammar', 'Inuit languages', 'Inuit religion', 'Iskut First Nation', 'James Bay and Northern Quebec Agreement', 'James Douglas (governor)', \"K'ómoks (Comox) First Nation\", 'Kamloops Indian Band', 'Kanaka Bar Indian Band', 'Kaska Nation', 'Kaska Tribal Council', 'Katzie First Nation', 'Kispiox, British Columbia', 'Kispiox Band Council', 'Kitasoo/Xaixais First Nation', 'Kitseguecla, British Columbia', 'Kitselas First Nation', 'Kitsumkalum First Nation', 'Kitwanga, British Columbia', 'Klahoose First Nation', 'Kluskus First Nation', 'Kootenays', 'Kruger and al. v. The Queen', 'Ktunaxa Kinbasket Tribal Council', 'Kwadacha First Nation', 'Kwakiutl District Council', 'Kwakiutl First Nation', 'Kwantlen First Nation', 'Kwaw-kwaw-a-pilt First Nation', 'Kwiakah First Nations', 'Kwicksutaineuk-ah-kwa-mish First Nation', 'Kwikwetlem First Nation', 'Kyuquot/Cheklesahht First Nation', 'Lake Babine Nation', 'Lake Cowichan First Nation', 'Lake Simcoe–Lake Huron Purchase', 'Languages of Canada', \"Lax-kw'alaams First Nation\", \"Leq'a:mel First Nation\", \"Lheidli T'enneh Band\", 'Liard First Nation', 'Liard River, British Columbia', \"Lil'wat Nation\", 'Lillooet Country', 'Lillooet River', 'Lillooet Tribal Council', 'List of First Nations governments in British Columbia', 'Little Shuswap Indian Band', 'Lower Kootenay First Nation', 'Lower Nicola First Nation', 'Lower Post First Nation', 'Lower Similkameen Indian Band', \"Lower Stl'atl'imx Tribal Council\", 'Lyackson First Nation', 'Lytton First Nation', 'Maa-nulth First Nations', 'Malahat First Nation', \"Mamalilikulla-Qwe'Qwa'Sot'Em First Nation\", 'Matsqui, British Columbia', 'Matsqui First Nation', 'McLeod Lake Indian Band', 'Metlakatla First Nation', 'Missing and murdered Indigenous women', 'Mitchell v. M.N.R.', 'Moricetown Indian Band', 'Mowachaht/Muchalaht First Nations', 'Musgamagw Tsawataineuk Tribal Council', 'Musqueam Indian Band', 'Mythologies of the indigenous peoples of the Americas', 'Métis in Alberta', 'Métis in Canada', \"N'quatqua First Nation\", \"Nadleh Whut'en First Nation\", \"Nak'azdli Band\", 'Nanaimo', 'Nanfan Treaty', 'Nanoose Bay', 'Nanoose First Nation', 'Nass River', \"Native Women's Association of Canada v. Canada\", \"Naut'sa mawt Tribal Council\", 'Nazko First Nation', 'Nechako Country', 'Nee-Tahi-Buhn Band', 'Nemaiah Valley', 'Neskonlith Indian Band', 'New Westminster', 'Nicola Country', 'Nicola Tribal Association', 'Nicomen Indian Band', 'Nicomen Island', \"Nisga'a\", \"Nisga'a Final Agreement\", \"Nisga'a Tribal Council\", \"Nlaka'pamux Nation Tribal Council\", 'Nooaitch Indian Band', 'Northern Regional Negotiations Table', 'Northern Shuswap Tribal Council', 'Northwest Territories', 'Nuchatlaht First Nation', 'Numbered Treaties', 'Nunavut Land Claims Agreement', 'Nuu-chah-nulth Tribal Council', 'Nuxálk Nation', \"Office of the Wet'suwet'en\", 'Okanagan', 'Okanagan Indian Band', 'Okanagan Nation Alliance', 'Old Massett Village Council', 'Omineca Country', 'Oregon Jack Creek Indian Band', 'Osoyoos Indian Band', 'Oweekeno-Kitasoo-Nuxalk Tribal Council', 'Pacheedaht First Nation', 'Paleo-Indians', 'Paul v. British Columbia', 'Paulette Caveat', 'Pavilion Indian Band', 'Peace Country', 'Peace River Country', 'Pemberton Valley', 'Penelakut First Nations', 'Penetanguishene Bay Purchase', 'Penticton Indian Band', 'Peters Band', 'Pitt Meadows', 'Popkum Band', 'Port Coquitlam', 'Powley ruling', 'Prince George, British Columbia', 'Prophet River Band', 'Qayqayt First Nation', 'Qualicum First Nation', 'Quatsino First Nation', 'Queen Charlotte Strait', 'R. v. Badger', 'R. v. Drybones', 'R. v. Gladstone', 'R. v. Gladue', 'R. v. Gonzales', 'R. v. Guerin', 'R. v. Jim', 'R. v. Marshall', 'R. v. Marshall; R. v. Bernard', 'R. v. Pamajewon', 'R. v. Sparrow', 'R. v. Van der Peet', 'Re Eskimos', 'Red Bluff First Nation', 'Rivers Inlet', 'Robinson Treaty', 'Royal Commission on Aboriginal Peoples', 'Royal Proclamation of 1763', \"Saik'uz First Nation\", 'Samahquam First Nation', 'Saugeen Tract Agreement', 'Saulteau First Nation', \"Scia'new First Nation\", 'Scowlitz First Nation', 'Seabird Island Band', 'Sechelt Indian Band', 'Section 35 of the Constitution Act, 1982', 'Section 91(24) of the Constitution Act, 1867', 'Semiahmoo First Nation', \"Sencot'en Alliance\", 'Seton Lake First Nation', 'Shackan First Nation', 'Shuswap Country', 'Shuswap Indian Band', 'Shuswap Nation Tribal Council', \"Shxw'ow'hamel First Nation\", 'Similkameen Country', 'Simpcw North Thompson Indian Band', 'Sinixt Nation', 'Siska Indian Band', 'Skatin First Nation', 'Skawahlook First Nation', 'Skeena Country', 'Skeetchestn Indian Band', 'Skidegate Band Council', 'Skin Tyee First Nation', 'Skowkale First Nation', 'Skuppah First Nation', 'Skwah First Nation', 'Skway First Nation', 'Sliammon First Nation', 'Snuneymuxw First Nation', 'Soda Creek/Deep Creek Band', 'Songhees First Nation', 'Soowahlie First Nation', 'Spallumcheen Indian Band', 'Spuzzum Indian Band', 'Squamish Nation', 'Squiala First Nation', \"St. Mary's Indian Band\", 'St Catharines Milling and Lumber Co v R', \"Stellat'en First Nation\", 'Stewart Phillip', 'Stikine Country', 'Sto:lo', 'Sto:lo Nation', 'Stone First Nation', 'Stó:lō Tribal Council', 'Sumas First Nation', 'Sunshine Coast (British Columbia)', 'Supreme Court of Canada', \"T'it'q'et First Nation\", \"T'sou-ke Nation\", 'Tahltan First Nation', 'Tahltan Nation', 'Takla Lake First Nation', 'Taku River Tlingit First Nation', \"Te'mexw Treaty Association\", 'Terrace, British Columbia', 'The Canadian Crown and Aboriginal peoples', 'The Canadian Crown and Indigenous peoples of Canada', 'The Province', 'Thompson Country', \"Tl'azt'en Nation\", \"Tl'etinqox-t'in Government Office\", 'Tla-o-qui-aht First Nations', 'Tlatlasikwala Nation', 'Tlowitsis Tribe', 'Tobacco Plains Indian Band', 'Toosey First Nation', 'Toquaht First Nation', 'Treaties of Fort Niagara', 'Treaty 1', 'Treaty 10', 'Treaty 11', 'Treaty 2', 'Treaty 3', 'Treaty 4', 'Treaty 5', 'Treaty 6', 'Treaty 7', 'Treaty 8', 'Treaty 8 Tribal Association', 'Treaty 9', 'Treaty rights', \"Ts'il Kaz Koh First Nation\", 'Tsawataineuk First Nation', 'Tsawwassen First Nation', 'Tsay Keh Dene First Nation', 'Tseshaht First Nation', 'Tseycum First Nation', \"Tsilhqot'in Nation v. British Columbia\", \"Tsilhqot'in Tribal Council\", 'Tsimshian First Nations', 'Tsleil-Waututh First Nation', 'Tzeachten First Nation', 'Uchucklesaht First Nation', 'Ucluelet First Nation', 'Ulkatcho First Nation', 'Union Bar First Nation', 'Union of B.C. Indian Chiefs', 'United Nations Permanent Forum on Indigenous Issues', 'University of Lethbridge', 'University of New South Wales', 'Upper Nicola Indian Band', 'Upper Similkameen Indian Band', 'Vancouver', 'Vancouver, British Columbia', 'Vancouver Island', 'Vernon, British Columbia', 'West Kootenay', 'West Moberly First Nations', 'Westbank First Nation', \"Wet'suwet'en First Nation\", 'Whispering Pines/Clinton Indian Band', 'White Rock, British Columbia', 'Williams Lake, British Columbia', 'Williams Lake Indian Band', 'Winalagalis Treaty Group', 'Wuikinuxv Nation', \"Xeni Gwet'in\", \"Xeni Gwet'in First Nation\", 'Yakweakwioose First Nation', 'Yale First Nation', 'Yekooche First Nation', 'Yukon', '‘Namgis First Nation']\n"
     ]
    }
   ],
   "source": [
    "print(page.links)"
   ]
  },
  {
   "cell_type": "code",
   "execution_count": 7,
   "metadata": {},
   "outputs": [
    {
     "name": "stdout",
     "output_type": "stream",
     "text": [
      "The status of the First Nations, Aboriginal people of British Columbia, Canada, is a long-standing problem that has become a major issue in recent years.  In 1763 the British Crown declared that only it could acquire land from First Nations through treaties.  Historically only two treaties were signed with the First Nations of BC.  The first of which was the Douglas Treaties, negotiated by Sir James Douglas with the native people of southern Vancouver Island from 1850-1854.  The second treaty, Treaty 8, signed in 1899 was part of the Numbered Treaties that were signed with First Nations outside of British Columbia.  British Columbian Treaty 8 signatories are located in the Peace River Country or the far North East of BC.  For over nine decades no more treaties were signed with First Nations of BC; many Native people wished to negotiate treaties, but successive BC provincial governments refused until the 1990s.  A major development was the 1997 decision of the Supreme Court of Canada in the Delgamuukw v. British Columbia case that Aboriginal title still exists in British Columbia and that when dealing with Crown land, the government must consult with and may have to compensate First Nations whose rights are affected.\n"
     ]
    }
   ],
   "source": [
    "print(page.summary)"
   ]
  },
  {
   "cell_type": "code",
   "execution_count": 8,
   "metadata": {},
   "outputs": [
    {
     "name": "stdout",
     "output_type": "stream",
     "text": [
      "The status of the First Nations, Aboriginal people of British Columbia, Canada, is a long-standing problem that has become a major issue in recent years.  In 1763 the British Crown declared that only it could acquire land from First Nations through treaties.  Historically only two treaties were signed with the First Nations of BC.  The first of which was the Douglas Treaties, negotiated by Sir James Douglas with the native people of southern Vancouver Island from 1850-1854.  The second treaty, Treaty 8, signed in 1899 was part of the Numbered Treaties that were signed with First Nations outside of British Columbia.  British Columbian Treaty 8 signatories are located in the Peace River Country or the far North East of BC.  For over nine decades no more treaties were signed with First Nations of BC; many Native people wished to negotiate treaties, but successive BC provincial governments refused until the 1990s.  A major development was the 1997 decision of the Supreme Court of Canada in the Delgamuukw v. British Columbia case that Aboriginal title still exists in British Columbia and that when dealing with Crown land, the government must consult with and may have to compensate First Nations whose rights are affected.\n",
      "\n",
      "\n",
      "== History ==\n",
      "\n",
      "In 1991 the Report of the BC Claims Task Force was released recommending a treaty commission be set up.  The British Crown passed its authority to negotiate treaties to Canada when it was created in 1867.  Even though only the Canadian federal government has the authority to enter into treaties with First Nations  in 1992 the newly created British Columbia Treaty Commission (BCTP) and BC Treaty Process included the BC provincial government in the process by agreement among Canada, BC and the First Nations.  As of 2009 there are 60 First Nations participating in the BC treaty process. Because some First Nations negotiate at a common table, there are 49 sets of negotiations. From 1992 to 2009 there have been a few treaties completed including the Maa-nulth First Nations Treaty signed on April 9, 2009, and the Tsawwassen First Nation Treaty signed on April 3, 2009.  Another Treaty was ratified outside the BC Treaty process in 1999, the Nisga'a Treaty.  In May 1993 the Treaty Commission allocated approximately $432 million in negotiation support funding to more than 50 First Nations- $345.6 million in the form of loans and $86.4 million in the form of contributions.  Of that money the Treaty Commission's total operating costs from 1993 to March 31, 2009 has spent $34.2 million.\n",
      "\n",
      "There is considerable disagreement about treaty negotiations; while polls have shown that 25% of British Columbians are opposed to it, a substantial minority of native people consider the current treaty process inadequate and have therefore refused to participate.  Tapping into this public sentiment in 2002, the BC Liberal Party mailed out ballots for a provincial British Columbia Aboriginal treaty referendum on principles for treaty negotiations, sparking protests and a boycott.  Because of the boycott and general public apathy only about a third of eligible voters took part in the referendum,  which passed with 80% of those who responded voting \"Yes\" to continuing the Treaty Process.A November 21, 2007 court threatened the Treaty Process when the ruling for the Xeni Gwet'in First Nation was given. The judge ruled that the Xeni Gwet'in could demonstrate Aboriginal title to half of the Nemaiah Valley, and that the province had no power over these lands. Under the BC treaty process, negotiating nations have received as little as 5% of their claimed land recognized. Grand Chief Stewart Phillip, president of the Union of B.C. Indian Chiefs, member governments of which reject the treaty process and remain outside it, has called the court victory a \"nail in the coffin\" of the B.C. treaty process.  He went on to say, \"Why would any First Nation be foolish enough to ratify any [treaty] settlement for less than five per cent of their territory when the Xeni Gwet'in [have] achieved recognition of their title to 50 per cent of their territory?\"Even with the Xeni Gwet'in ruling First Nations across BC are still continuing the Treaty process advancing through the six-stage process to eventual Treaty implementation.  While Chief Stewart Phillip had claimed that the First Nations themselves would slow down or leave the treaty process it is the Canadian government who is holding up many of the treaties.\n",
      "\n",
      "\n",
      "== BC Treaty negotiation stages ==\n",
      "In 1992 The Treaty Commission and the treaty process were established in by agreement among Canada, British Columbia and the First Nations Summit.  Through the Treaty Commission a process was reached where treaties would follow a six-stage system to successful Negotiation.\n",
      "\n",
      "\n",
      "== First Nation treaty status ==\n",
      "\n",
      "\n",
      "== See also ==\n",
      "\n",
      "British Columbia Treaty Process\n",
      "British Columbia Aboriginal treaty referendum, 2002\n",
      "List of First Nations governments in British Columbia\n",
      "The Canadian Crown and Aboriginal peoples\n",
      "Royal Proclamation of 1763\n",
      "\n",
      "\n",
      "== References ==\n"
     ]
    }
   ],
   "source": [
    "print(page.content)"
   ]
  },
  {
   "cell_type": "code",
   "execution_count": 9,
   "metadata": {},
   "outputs": [],
   "source": [
    "tokens = word_tokenize(page.content)"
   ]
  },
  {
   "cell_type": "code",
   "execution_count": 10,
   "metadata": {},
   "outputs": [],
   "source": [
    "lower_tokens = [t.lower() for t in tokens]"
   ]
  },
  {
   "cell_type": "code",
   "execution_count": 11,
   "metadata": {},
   "outputs": [],
   "source": [
    "# Creating an initial bag of words.\n",
    "bag = Counter(lower_tokens)"
   ]
  },
  {
   "cell_type": "code",
   "execution_count": 12,
   "metadata": {},
   "outputs": [
    {
     "name": "stdout",
     "output_type": "stream",
     "text": [
      "Counter({'the': 65, 'of': 34, 'treaty': 34, '.': 29, ',': 28, 'in': 22, 'first': 21, 'to': 17, 'nations': 16, 'process': 15, 'british': 14, 'bc': 14, 'and': 14, 'a': 13, 'treaties': 11, 'columbia': 10, 'that': 10, '==': 10, 'with': 9, 'was': 8, 'aboriginal': 6, 'signed': 6, 'are': 6, 'have': 6, 'commission': 6, 'canada': 5, 'it': 5, 'for': 5, '2009': 5, 'people': 4, 'is': 4, 'has': 4, 'crown': 4, 'only': 4, 'from': 4, 'were': 4, 'when': 4, 'government': 4, 'there': 4, 'on': 4, 'nation': 4, '$': 4, 'million': 4, '``': 4, 'xeni': 4, \"gwet'in\": 4, 'their': 4, 'land': 3, 'through': 3, 'which': 3, 'by': 3, 'native': 3, 'outside': 3, 'negotiate': 3, 'provincial': 3, 'governments': 3, 'court': 3, 'title': 3, 'canadian': 3, '1992': 3, 'as': 3, 'negotiations': 3, 'negotiation': 3, '%': 3, 'referendum': 3, 'would': 3, 'status': 2, 'major': 2, '1763': 2, 'could': 2, 'douglas': 2, '8': 2, 'part': 2, 'or': 2, 'over': 2, 'no': 2, 'more': 2, ';': 2, 'many': 2, 'refused': 2, 'still': 2, 'may': 2, 'be': 2, 'up': 2, 'passed': 2, 'authority': 2, 'created': 2, 'even': 2, 'into': 2, 'agreement': 2, 'among': 2, 'because': 2, 'april': 2, '1993': 2, 'than': 2, '50': 2, 'form': 2, 'about': 2, 'while': 2, 'public': 2, '2002': 2, 'boycott': 2, 'who': 2, \"''\": 2, 'continuing': 2, 'ruling': 2, 'had': 2, 'claimed': 2, 'chief': 2, 'stewart': 2, 'phillip': 2, 'b.c': 2, 'any': 2, '[': 2, ']': 2, 'per': 2, 'cent': 2, 'territory': 2, 'six-stage': 2, 'long-standing': 1, 'problem': 1, 'become': 1, 'issue': 1, 'recent': 1, 'years': 1, 'declared': 1, 'acquire': 1, 'historically': 1, 'two': 1, 'negotiated': 1, 'sir': 1, 'james': 1, 'southern': 1, 'vancouver': 1, 'island': 1, '1850-1854': 1, 'second': 1, '1899': 1, 'numbered': 1, 'columbian': 1, 'signatories': 1, 'located': 1, 'peace': 1, 'river': 1, 'country': 1, 'far': 1, 'north': 1, 'east': 1, 'nine': 1, 'decades': 1, 'wished': 1, 'but': 1, 'successive': 1, 'until': 1, '1990s': 1, 'development': 1, '1997': 1, 'decision': 1, 'supreme': 1, 'delgamuukw': 1, 'v.': 1, 'case': 1, 'exists': 1, 'dealing': 1, 'must': 1, 'consult': 1, 'compensate': 1, 'whose': 1, 'rights': 1, 'affected': 1, 'history': 1, '1991': 1, 'report': 1, 'claims': 1, 'task': 1, 'force': 1, 'released': 1, 'recommending': 1, 'set': 1, 'its': 1, '1867': 1, 'though': 1, 'federal': 1, 'enter': 1, 'newly': 1, '(': 1, 'bctp': 1, ')': 1, 'included': 1, '60': 1, 'participating': 1, 'some': 1, 'at': 1, 'common': 1, 'table': 1, '49': 1, 'sets': 1, 'been': 1, 'few': 1, 'completed': 1, 'including': 1, 'maa-nulth': 1, '9': 1, 'tsawwassen': 1, '3': 1, 'another': 1, 'ratified': 1, '1999': 1, \"nisga'a\": 1, 'allocated': 1, 'approximately': 1, '432': 1, 'support': 1, 'funding': 1, 'nations-': 1, '345.6': 1, 'loans': 1, '86.4': 1, 'contributions': 1, 'money': 1, \"'s\": 1, 'total': 1, 'operating': 1, 'costs': 1, 'march': 1, '31': 1, 'spent': 1, '34.2': 1, 'considerable': 1, 'disagreement': 1, 'polls': 1, 'shown': 1, '25': 1, 'columbians': 1, 'opposed': 1, 'substantial': 1, 'minority': 1, 'consider': 1, 'current': 1, 'inadequate': 1, 'therefore': 1, 'participate': 1, 'tapping': 1, 'this': 1, 'sentiment': 1, 'liberal': 1, 'party': 1, 'mailed': 1, 'out': 1, 'ballots': 1, 'principles': 1, 'sparking': 1, 'protests': 1, 'general': 1, 'apathy': 1, 'third': 1, 'eligible': 1, 'voters': 1, 'took': 1, '80': 1, 'those': 1, 'responded': 1, 'voting': 1, 'yes': 1, 'process.a': 1, 'november': 1, '21': 1, '2007': 1, 'threatened': 1, 'given': 1, 'judge': 1, 'ruled': 1, 'demonstrate': 1, 'half': 1, 'nemaiah': 1, 'valley': 1, 'province': 1, 'power': 1, 'these': 1, 'lands': 1, 'under': 1, 'negotiating': 1, 'received': 1, 'little': 1, '5': 1, 'recognized': 1, 'grand': 1, 'president': 1, 'union': 1, 'indian': 1, 'chiefs': 1, 'member': 1, 'reject': 1, 'remain': 1, 'called': 1, 'victory': 1, 'nail': 1, 'coffin': 1, 'he': 1, 'went': 1, 'say': 1, 'why': 1, 'foolish': 1, 'enough': 1, 'ratify': 1, 'settlement': 1, 'less': 1, 'five': 1, 'achieved': 1, 'recognition': 1, '?': 1, 'across': 1, 'advancing': 1, 'eventual': 1, 'implementation': 1, 'themselves': 1, 'slow': 1, 'down': 1, 'leave': 1, 'holding': 1, 'stages': 1, 'established': 1, 'summit': 1, 'reached': 1, 'where': 1, 'follow': 1, 'system': 1, 'successful': 1, 'see': 1, 'also': 1, 'list': 1, 'peoples': 1, 'royal': 1, 'proclamation': 1, 'references': 1})\n"
     ]
    }
   ],
   "source": [
    "print(bag)"
   ]
  },
  {
   "cell_type": "markdown",
   "metadata": {},
   "source": [
    "### Clean up and preprocessing to remove non-alphabetic characters, stop words, and to lemmatize."
   ]
  },
  {
   "cell_type": "code",
   "execution_count": 13,
   "metadata": {},
   "outputs": [],
   "source": [
    "# Removing non-alphabetic characters.\n",
    "alpha_only = [t for t in lower_tokens if t.isalpha()]"
   ]
  },
  {
   "cell_type": "code",
   "execution_count": 14,
   "metadata": {},
   "outputs": [],
   "source": [
    "# Removing English stop words.\n",
    "english_stops = ['i', 'me', 'my', 'myself', 'we', 'our', 'ours', 'ourselves', 'you', 'your', 'yours', 'yourself', 'yourselves', 'he', 'him', 'his', 'himself', 'she', 'her', 'hers', 'herself', 'it', 'its', 'itself', 'they', 'them', 'their', 'theirs', 'themselves', 'what', 'which', 'who', 'whom', 'this', 'that', 'these', 'those', 'am', 'is', 'are', 'was', 'were', 'be', 'been', 'being', 'have', 'has', 'had', 'having', 'do', 'does', 'did', 'doing', 'a', 'an', 'the', 'and', 'but', 'if', 'or', 'because', 'as', 'until', 'while', 'of', 'at', 'by', 'for', 'with', 'about', 'against', 'between', 'into', 'through', 'during', 'before', 'after', 'above', 'below', 'to', 'from', 'up', 'down', 'in', 'out', 'on', 'off', 'over', 'under', 'again', 'further', 'then', 'once', 'here', 'there', 'when', 'where', 'why', 'how', 'all', 'any', 'both', 'each', 'few', 'more', 'most', 'other', 'some', 'such', 'no', 'nor', 'not', 'only', 'own', 'same', 'so', 'than', 'too', 'very', 's', 't', 'can', 'will', 'just', 'don', 'should', 'now', 'd', 'll', 'm', 'o', 're', 've', 'y', 'ain', 'aren', 'couldn', 'didn', 'doesn', 'hadn', 'hasn', 'haven', 'isn', 'ma', 'mightn', 'mustn', 'needn', 'shan', 'shouldn', 'wasn', 'weren', 'won', 'wouldn', '']\n",
    "no_stops = [t for t in alpha_only if t not in english_stops]"
   ]
  },
  {
   "cell_type": "code",
   "execution_count": 15,
   "metadata": {},
   "outputs": [],
   "source": [
    "# Lemmatizing.\n",
    "word_lemm = WordNetLemmatizer()\n",
    "lemm = [word_lemm.lemmatize(t) for t in no_stops]"
   ]
  },
  {
   "cell_type": "code",
   "execution_count": 16,
   "metadata": {},
   "outputs": [
    {
     "name": "stdout",
     "output_type": "stream",
     "text": [
      "[('treaty', 45), ('first', 21), ('nation', 20), ('process', 15), ('british', 14), ('bc', 14), ('columbia', 10), ('government', 7), ('aboriginal', 6), ('signed', 6)]\n"
     ]
    }
   ],
   "source": [
    "# Creating an updated and improved bag of words.\n",
    "newbag = Counter(lemm)\n",
    "print(newbag.most_common(10))"
   ]
  },
  {
   "cell_type": "markdown",
   "metadata": {},
   "source": [
    "You can see the most common words in this particular article and glean key points to aid in topic identification. For this particular article--which was \"Status of First Nations treaties in British Columbia\"--terms such as 'treaty', 'nation', 'process', 'government', etc. make perfect sense."
   ]
  },
  {
   "cell_type": "markdown",
   "metadata": {},
   "source": [
    "# PART 2:\n",
    "# Analyzing multiple articles"
   ]
  },
  {
   "cell_type": "markdown",
   "metadata": {},
   "source": [
    "## Gensim"
   ]
  },
  {
   "cell_type": "code",
   "execution_count": 21,
   "metadata": {},
   "outputs": [],
   "source": [
    "multiple_pages = wiki.random(100)"
   ]
  },
  {
   "cell_type": "code",
   "execution_count": 22,
   "metadata": {},
   "outputs": [],
   "source": [
    "titles = []\n",
    "for t in multiple_pages:\n",
    "    try:\n",
    "        titles.append(wiki.page(t).title)\n",
    "    except wiki.DisambiguationError as e:\n",
    "        titles.append(wiki.page(e.options[0]).title) \n",
    "        continue"
   ]
  },
  {
   "cell_type": "code",
   "execution_count": 23,
   "metadata": {},
   "outputs": [
    {
     "name": "stdout",
     "output_type": "stream",
     "text": [
      "100\n"
     ]
    }
   ],
   "source": [
    "print(len(titles))"
   ]
  },
  {
   "cell_type": "code",
   "execution_count": 24,
   "metadata": {},
   "outputs": [],
   "source": [
    "contentofpages= []\n",
    "for c in multiple_pages:\n",
    "    try:\n",
    "        contentofpages.append(wiki.page(c).content)\n",
    "    except wiki.DisambiguationError as e:\n",
    "        contentofpages.append(wiki.page(e.options[0]).content) \n",
    "        continue"
   ]
  },
  {
   "cell_type": "code",
   "execution_count": 25,
   "metadata": {},
   "outputs": [
    {
     "name": "stdout",
     "output_type": "stream",
     "text": [
      "100\n"
     ]
    }
   ],
   "source": [
    "print(len(contentofpages))"
   ]
  },
  {
   "cell_type": "code",
   "execution_count": 26,
   "metadata": {},
   "outputs": [],
   "source": [
    "clean_articles = []\n",
    "\n",
    "for article in contentofpages:\n",
    "    tokens = word_tokenize(article)\n",
    "    lower_tokens = [t.lower() for t in tokens]\n",
    "    alpha_only = [t for t in lower_tokens if t.isalpha()]\n",
    "    no_stops = [t for t in alpha_only if t not in english_stops]\n",
    "    lemm = [word_lemm.lemmatize(t) for t in no_stops]\n",
    "    clean_articles.append(lemm)"
   ]
  },
  {
   "cell_type": "code",
   "execution_count": 27,
   "metadata": {},
   "outputs": [],
   "source": [
    "dictionary = Dictionary(clean_articles)"
   ]
  },
  {
   "cell_type": "code",
   "execution_count": 28,
   "metadata": {},
   "outputs": [],
   "source": [
    "# Creating a gensim corpus.\n",
    "corpus = [dictionary.doc2bow(article) for article in clean_articles]"
   ]
  },
  {
   "cell_type": "markdown",
   "metadata": {},
   "source": [
    "### Gensim Bag-of-Words"
   ]
  },
  {
   "cell_type": "code",
   "execution_count": 29,
   "metadata": {},
   "outputs": [],
   "source": [
    "total_word_count = defaultdict(int)\n",
    "for word_id, word_count in itertools.chain.from_iterable(corpus):\n",
    "    total_word_count[word_id] += word_count"
   ]
  },
  {
   "cell_type": "code",
   "execution_count": 30,
   "metadata": {},
   "outputs": [],
   "source": [
    "sorted_word_count = sorted(total_word_count.items(), key=lambda w: w[1], reverse=True) "
   ]
  },
  {
   "cell_type": "code",
   "execution_count": 31,
   "metadata": {},
   "outputs": [
    {
     "name": "stdout",
     "output_type": "stream",
     "text": [
      "first 144\n",
      "also 123\n",
      "system 121\n",
      "writing 99\n",
      "team 97\n"
     ]
    }
   ],
   "source": [
    "for word_id, word_count in sorted_word_count[:5]:\n",
    "    print(dictionary.get(word_id), word_count)"
   ]
  },
  {
   "cell_type": "markdown",
   "metadata": {},
   "source": [
    "### TF-IDF"
   ]
  },
  {
   "cell_type": "code",
   "execution_count": 32,
   "metadata": {},
   "outputs": [],
   "source": [
    "tfidf = TfidfModel(corpus)"
   ]
  },
  {
   "cell_type": "code",
   "execution_count": 33,
   "metadata": {},
   "outputs": [],
   "source": [
    "# As an example, we'll use the 2nd article to calculate the significant terms.\n",
    "tfidf_weights = tfidf[corpus[1]]\n",
    "sorted_tfidf_weights = sorted(tfidf_weights, key=lambda w: w[1], reverse=True)"
   ]
  },
  {
   "cell_type": "code",
   "execution_count": 34,
   "metadata": {},
   "outputs": [
    {
     "name": "stdout",
     "output_type": "stream",
     "text": [
      "goapele 0.4785326687587307\n",
      "dawn 0.20508542946802744\n",
      "drumma 0.20508542946802744\n",
      "honey 0.20508542946802744\n",
      "want 0.20508542946802744\n"
     ]
    }
   ],
   "source": [
    "# The top 5 weighted words for that particular article.\n",
    "for term_id, weight in sorted_tfidf_weights[:5]:\n",
    "    print(dictionary.get(term_id), weight)"
   ]
  },
  {
   "cell_type": "markdown",
   "metadata": {},
   "source": [
    "You can see that both the bag of words looks across the entire dataset to find the most common words. The TF-IDF method, on the other hand, allows us to focus on one particular article to determine how the terms in it are represented across the rest of the dataset.\n",
    "\n",
    "**Depending on our interests and use cases, you can see how both methods could be valuable."
   ]
  },
  {
   "cell_type": "code",
   "execution_count": null,
   "metadata": {},
   "outputs": [],
   "source": []
  },
  {
   "cell_type": "markdown",
   "metadata": {},
   "source": [
    "### Clustering (k-means)"
   ]
  },
  {
   "cell_type": "markdown",
   "metadata": {},
   "source": [
    "Now, we will use k-means clustering to provide recommendations to the reader/user for additional articles with similar topics. "
   ]
  },
  {
   "cell_type": "code",
   "execution_count": 35,
   "metadata": {},
   "outputs": [],
   "source": [
    "def tokenize_and_stem(text):\n",
    "    for article in contentofpages:\n",
    "        tokens = word_tokenize(article)\n",
    "        lower_tokens = [t.lower() for t in tokens]\n",
    "        alpha_only = [t for t in lower_tokens if t.isalpha()]\n",
    "        no_stops = [t for t in alpha_only if t not in english_stops]\n",
    "        stems = [word_lemm.lemmatize(t) for t in no_stops]\n",
    "        return stems\n",
    "\n",
    "def tokenize_only(text):\n",
    "    for article in contentofpages:\n",
    "        tokens = word_tokenize(article)\n",
    "        lower_tokens = [t.lower() for t in tokens]\n",
    "        alpha_only = [t for t in lower_tokens if t.isalpha()]\n",
    "        filtered_tokens = [t for t in alpha_only if t not in english_stops]\n",
    "        return filtered_tokens"
   ]
  },
  {
   "cell_type": "code",
   "execution_count": 36,
   "metadata": {},
   "outputs": [],
   "source": [
    "totalvocab_stemmed =[]\n",
    "totalvocab_tokenized = []\n",
    "\n",
    "for i in contentofpages:\n",
    "    allwords_stemmed = tokenize_and_stem(i) #for each item in 'synopses', tokenize/stem\n",
    "    totalvocab_stemmed.extend(allwords_stemmed) #extend the 'totalvocab_stemmed' list\n",
    "    \n",
    "    allwords_tokenized = tokenize_only(i)\n",
    "    totalvocab_tokenized.extend(allwords_tokenized)"
   ]
  },
  {
   "cell_type": "code",
   "execution_count": 37,
   "metadata": {},
   "outputs": [
    {
     "name": "stdout",
     "output_type": "stream",
     "text": [
      "There are 99800 items in vocab_frame.\n"
     ]
    }
   ],
   "source": [
    "vocab_frame = pd.DataFrame({'words': totalvocab_tokenized}, index = totalvocab_stemmed)\n",
    "print('There are ' + str(vocab_frame.shape[0]) + ' items in vocab_frame.')"
   ]
  },
  {
   "cell_type": "code",
   "execution_count": 38,
   "metadata": {},
   "outputs": [
    {
     "name": "stdout",
     "output_type": "stream",
     "text": [
      "(100, 8876)\n"
     ]
    }
   ],
   "source": [
    "#define vectorizer parameters\n",
    "tfidf_vectorizer = TfidfVectorizer()\n",
    "tfidf_matrix = tfidf_vectorizer.fit_transform(contentofpages) #fit the vectorizer to the content\n",
    "\n",
    "print(tfidf_matrix.shape)"
   ]
  },
  {
   "cell_type": "code",
   "execution_count": 39,
   "metadata": {},
   "outputs": [],
   "source": [
    "terms = tfidf_vectorizer.get_feature_names()"
   ]
  },
  {
   "cell_type": "code",
   "execution_count": 40,
   "metadata": {},
   "outputs": [],
   "source": [
    "dist = 1 - cosine_similarity(tfidf_matrix)"
   ]
  },
  {
   "cell_type": "code",
   "execution_count": 41,
   "metadata": {},
   "outputs": [],
   "source": [
    "km = KMeans(n_clusters=5)\n",
    "km.fit(tfidf_matrix)\n",
    "clusters = km.labels_.tolist()"
   ]
  },
  {
   "cell_type": "code",
   "execution_count": 42,
   "metadata": {},
   "outputs": [],
   "source": [
    "cluster_articles = {'title': titles, 'text': contentofpages, 'cluster': clusters}\n",
    "\n",
    "frame = pd.DataFrame(cluster_articles, index = [clusters] , columns = ['title', 'text', 'cluster'])"
   ]
  },
  {
   "cell_type": "code",
   "execution_count": 43,
   "metadata": {},
   "outputs": [
    {
     "data": {
      "text/plain": [
       "1    72\n",
       "0    11\n",
       "3     6\n",
       "2     6\n",
       "4     5\n",
       "Name: cluster, dtype: int64"
      ]
     },
     "execution_count": 43,
     "metadata": {},
     "output_type": "execute_result"
    }
   ],
   "source": [
    "frame['cluster'].value_counts() #number of articles per cluster (clusters from 0 to 4)"
   ]
  },
  {
   "cell_type": "markdown",
   "metadata": {},
   "source": [
    "Finally, we can see the title of each article found in each cluster."
   ]
  },
  {
   "cell_type": "code",
   "execution_count": 44,
   "metadata": {},
   "outputs": [
    {
     "name": "stdout",
     "output_type": "stream",
     "text": [
      "Wikipedia articles found in cluster 0 include the following:\n",
      " 2008–09 Swiss Super League, 1985–86 Eerste Divisie, List of 2018–19 Top 14 transfers, List of Nicholls Colonels football seasons, List of mayors of Canoas, 1985 President's Cup Football Tournament, Newbridge GAC, 2005 Kazakhstan Hockey Cup, 2014 Fed Cup Americas Zone Group I – Pool A, 1910 Connecticut Aggies football team, Hell's Kitchen (U.S. season 6),\n",
      "\n",
      "Wikipedia articles found in cluster 1 include the following:\n",
      " Pathophysiology of asthma, Barbara Higbie, Henry Weaver House, Lark, Viktor Kirpichov, Stapfer, Pennsylvania Railroad class D14, My Family (series 9), Miss World Bermuda, Lola Marois, Liu Wen-hsiung (1954–2017), MAPPER, Paulina Radziulytė, The Pearl of Africa (film), Daman and Diu Portuguese creole, U.S. Route 7 in Connecticut, Denham Island, List of first women lawyers and judges in Tennessee, Yaroslav Cherstvy, Laughing Boy (novel), John Ramsay (magician), Oscar D. Skelton, Podcasting in India, Patricia Gibson, 1987 CAA Men's Basketball Tournament, Natália Gaudio, Lion Cereal, National parks of Russia, DoubleTree by Hilton Chicago Magnificent Mile, Hexamminecobalt(III) chloride, Refuge alpin du Tour, Robert Sparrow (1741–1822), Margherita Bagni, Sherburne Formation, Edward Wharton-Tigar, Petra Glavač, United Kingdom local elections, 1983, Li Chunyang, Mukota, Anton Paulsen, Ilario Spolverini, Werner Jochmann, Hubble Deep Field South, Socialist Party, Ezekiel 20, Nelo Vingada, Daveed Diggs, Mosier Mounds Complex, Samuel Thomas Champnes, Lower Williamson Gorge, 1820s, The Cowboy and the Lady (1911 film), Maasland, James Moran (Irish politician), Galym Orazbakov, Amargosa River, William T. Phillips, Writing system, Spell (Unix), Vestibular cortex, Dmitry Liss, Michael Hayes (wrestler), Ashton Youboty, Sherman Oaks Galleria, 62nd Scripps National Spelling Bee, Jason F Beans, Seabright, Nova Scotia, Brad Murphey, Luis Ruiz Suárez, MACS J0717.5+3745, René-Nicolas Dufriche Desgenettes, Marhamtabad Airport,\n",
      "\n",
      "Wikipedia articles found in cluster 2 include the following:\n",
      " Bogorodsky (inhabited locality), Dowgi Daraq, Kazemabad, Shahdad, Velars-sur-Ouche, Marchamalo, Kalateh-ye Muri,\n",
      "\n",
      "Wikipedia articles found in cluster 3 include the following:\n",
      " Break of Dawn (Goapele album), Going Deep with Amani and Dan, Rodney Mullen vs. Daewon Song, Weirdo Magnet, Turn Me On (Kevin Lyttle song), Put on Your Red Dress,\n",
      "\n",
      "Wikipedia articles found in cluster 4 include the following:\n",
      " Josia fusigera, Dresslerella pilosissima, Trypogeus sericeus, Utricularia georgei, Listed buildings in Kalundborg Municipality,\n",
      "\n"
     ]
    }
   ],
   "source": [
    "#sort cluster centers by proximity to centroid\n",
    "order_centroids = km.cluster_centers_.argsort()[:, ::-1] \n",
    "\n",
    "for i in range(5):\n",
    "    print(\"Wikipedia articles found in cluster %d include the following:\\n\" %i, end='')\n",
    "    for title in frame.loc[i]['title'].values.tolist():\n",
    "        print(' %s,' % title, end='')\n",
    "    print() #add whitespace\n",
    "    print() #add whitespace\n",
    " "
   ]
  },
  {
   "cell_type": "code",
   "execution_count": null,
   "metadata": {},
   "outputs": [],
   "source": []
  }
 ],
 "metadata": {
  "kernelspec": {
   "display_name": "Python 3",
   "language": "python",
   "name": "python3"
  },
  "language_info": {
   "codemirror_mode": {
    "name": "ipython",
    "version": 3
   },
   "file_extension": ".py",
   "mimetype": "text/x-python",
   "name": "python",
   "nbconvert_exporter": "python",
   "pygments_lexer": "ipython3",
   "version": "3.6.4"
  }
 },
 "nbformat": 4,
 "nbformat_minor": 2
}
