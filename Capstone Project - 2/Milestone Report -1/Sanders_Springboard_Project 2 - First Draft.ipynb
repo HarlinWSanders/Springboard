{
 "cells": [
  {
   "cell_type": "code",
   "execution_count": 1,
   "metadata": {},
   "outputs": [],
   "source": [
    "import wikipedia as wiki\n",
    "import nltk\n",
    "from nltk.tokenize import sent_tokenize\n",
    "from nltk.tokenize import word_tokenize\n",
    "from nltk.stem import WordNetLemmatizer\n",
    "import gensim\n",
    "from gensim.corpora.dictionary import Dictionary\n",
    "from collections import Counter, defaultdict\n",
    "import matplotlib.pyplot as plt\n",
    "import itertools\n",
    "from gensim.models.tfidfmodel import TfidfModel"
   ]
  },
  {
   "cell_type": "markdown",
   "metadata": {},
   "source": [
    "# Analyzing one Wikipedia article"
   ]
  },
  {
   "cell_type": "code",
   "execution_count": 2,
   "metadata": {},
   "outputs": [],
   "source": [
    "page = wiki.page(wiki.random(1))"
   ]
  },
  {
   "cell_type": "code",
   "execution_count": 3,
   "metadata": {},
   "outputs": [
    {
     "name": "stdout",
     "output_type": "stream",
     "text": [
      "Willard Memorial Chapel-Welch Memorial Hall\n"
     ]
    }
   ],
   "source": [
    "print(page.title)"
   ]
  },
  {
   "cell_type": "code",
   "execution_count": 4,
   "metadata": {},
   "outputs": [
    {
     "name": "stdout",
     "output_type": "stream",
     "text": [
      "https://en.wikipedia.org/wiki/Willard_Memorial_Chapel-Welch_Memorial_Hall\n"
     ]
    }
   ],
   "source": [
    "print(page.url)"
   ]
  },
  {
   "cell_type": "code",
   "execution_count": 5,
   "metadata": {},
   "outputs": [
    {
     "name": "stdout",
     "output_type": "stream",
     "text": [
      "['https://upload.wikimedia.org/wikipedia/commons/2/21/Church.svg', 'https://upload.wikimedia.org/wikipedia/commons/1/1a/Flag_of_New_York.svg', 'https://upload.wikimedia.org/wikipedia/commons/b/ba/Map_of_USA_NY.svg', 'https://upload.wikimedia.org/wikipedia/commons/0/0c/Red_pog.svg', 'https://upload.wikimedia.org/wikipedia/commons/c/c5/US-NationalParkService-ShadedLogo.svg', 'https://upload.wikimedia.org/wikipedia/commons/8/8d/USA_New_York_location_map.svg', 'https://upload.wikimedia.org/wikipedia/commons/2/20/Usa_edcp_location_map.svg', 'https://upload.wikimedia.org/wikipedia/commons/4/41/WillardChapel.JPG', 'https://upload.wikimedia.org/wikipedia/commons/e/e8/Willard_Chapel_rear_interior.jpg', 'https://upload.wikimedia.org/wikipedia/commons/0/01/Willard_Chapel_window_detail_1.jpg', 'https://upload.wikimedia.org/wikipedia/commons/8/83/Willard_etc_025.jpg', 'https://upload.wikimedia.org/wikipedia/commons/1/1e/Willard_etc_039.jpg', 'https://upload.wikimedia.org/wikipedia/commons/4/4d/Willard_etc_041.jpg', 'https://upload.wikimedia.org/wikipedia/commons/b/b6/Willard_etc_059.jpg', 'https://upload.wikimedia.org/wikipedia/en/4/4a/Commons-logo.svg', 'https://upload.wikimedia.org/wikipedia/en/4/48/Folder_Hexagonal_Icon.svg', 'https://upload.wikimedia.org/wikipedia/en/f/fd/Portal-puzzle.svg', 'https://upload.wikimedia.org/wikipedia/en/d/db/Symbol_list_class.svg']\n"
     ]
    }
   ],
   "source": [
    "print(page.images)"
   ]
  },
  {
   "cell_type": "code",
   "execution_count": 6,
   "metadata": {},
   "outputs": [
    {
     "name": "stdout",
     "output_type": "stream",
     "text": [
      "['Auburn, NY', 'Auburn, New York', 'Auburn Theological Seminary', 'Cayuga County, New York', 'Chapel', 'Contributing property', 'Dr. Sylvester Willard Mansion', 'Geographic coordinate system', 'Historic districts in the United States', 'History of the National Register of Historic Places', 'Keeper of the Register', 'List of National Historic Landmarks in New York', 'List of bridges and tunnels on the National Register of Historic Places in New York', 'Louis Comfort Tiffany', 'National Historic Landmark', 'National Park Service', 'National Register of Historic Places', 'National Register of Historic Places listings in Albany, New York', 'National Register of Historic Places listings in Albany County, New York', 'National Register of Historic Places listings in Allegany County, New York', 'National Register of Historic Places listings in Brooklyn', 'National Register of Historic Places listings in Broome County, New York', 'National Register of Historic Places listings in Buffalo, New York', 'National Register of Historic Places listings in Cattaraugus County, New York', 'National Register of Historic Places listings in Cayuga County, New York', 'National Register of Historic Places listings in Chautauqua County, New York', 'National Register of Historic Places listings in Chemung County, New York', 'National Register of Historic Places listings in Chenango County, New York', 'National Register of Historic Places listings in Clinton County, New York', 'National Register of Historic Places listings in Columbia County, New York', 'National Register of Historic Places listings in Cortland County, New York', 'National Register of Historic Places listings in Delaware County, New York', 'National Register of Historic Places listings in Dutchess County, New York', 'National Register of Historic Places listings in Erie County, New York', 'National Register of Historic Places listings in Essex County, New York', 'National Register of Historic Places listings in Franklin County, New York', 'National Register of Historic Places listings in Fulton County, New York', 'National Register of Historic Places listings in Genesee County, New York', 'National Register of Historic Places listings in Greene County, New York', 'National Register of Historic Places listings in Hamilton County, New York', 'National Register of Historic Places listings in Herkimer County, New York', 'National Register of Historic Places listings in Jefferson County, New York', 'National Register of Historic Places listings in Lewis County, New York', 'National Register of Historic Places listings in Livingston County, New York', 'National Register of Historic Places listings in Madison County, New York', 'National Register of Historic Places listings in Manhattan', 'National Register of Historic Places listings in Manhattan above 110th Street', 'National Register of Historic Places listings in Manhattan below 14th Street', 'National Register of Historic Places listings in Manhattan from 14th to 59th Streets', 'National Register of Historic Places listings in Manhattan from 59th to 110th Streets', 'National Register of Historic Places listings in Manhattan on islands', 'National Register of Historic Places listings in Monroe County, New York', 'National Register of Historic Places listings in Montgomery County, New York', 'National Register of Historic Places listings in Nassau County, New York', 'National Register of Historic Places listings in New Rochelle, New York', 'National Register of Historic Places listings in New York', 'National Register of Historic Places listings in Niagara County, New York', 'National Register of Historic Places listings in Niagara Falls, New York', 'National Register of Historic Places listings in Oneida County, New York', 'National Register of Historic Places listings in Onondaga County, New York', 'National Register of Historic Places listings in Ontario County, New York', 'National Register of Historic Places listings in Orange County, New York', 'National Register of Historic Places listings in Orleans County, New York', 'National Register of Historic Places listings in Oswego County, New York', 'National Register of Historic Places listings in Otsego County, New York', 'National Register of Historic Places listings in Peekskill, New York', 'National Register of Historic Places listings in Poughkeepsie, New York', 'National Register of Historic Places listings in Putnam County, New York', 'National Register of Historic Places listings in Queens, New York', 'National Register of Historic Places listings in Rensselaer County, New York', 'National Register of Historic Places listings in Rhinebeck, New York', 'National Register of Historic Places listings in Rochester, New York', 'National Register of Historic Places listings in Rockland County, New York', 'National Register of Historic Places listings in Saratoga County, New York', 'National Register of Historic Places listings in Schenectady County, New York', 'National Register of Historic Places listings in Schoharie County, New York', 'National Register of Historic Places listings in Schuyler County, New York', 'National Register of Historic Places listings in Seneca County, New York', 'National Register of Historic Places listings in St. Lawrence County, New York', 'National Register of Historic Places listings in Staten Island', 'National Register of Historic Places listings in Steuben County, New York', 'National Register of Historic Places listings in Suffolk County, New York', 'National Register of Historic Places listings in Sullivan County, New York', 'National Register of Historic Places listings in Syracuse, New York', 'National Register of Historic Places listings in Tioga County, New York', 'National Register of Historic Places listings in Tompkins County, New York', 'National Register of Historic Places listings in Ulster County, New York', 'National Register of Historic Places listings in Warren County, New York', 'National Register of Historic Places listings in Washington County, New York', 'National Register of Historic Places listings in Wayne County, New York', 'National Register of Historic Places listings in Westchester County, New York', 'National Register of Historic Places listings in Wyoming County, New York', 'National Register of Historic Places listings in Yates County, New York', 'National Register of Historic Places listings in Yonkers, New York', 'National Register of Historic Places listings in northern Westchester County, New York', 'National Register of Historic Places listings in southern Westchester County, New York', 'National Register of Historic Places listings in the Bronx', 'National Register of Historic Places property types', 'New York (state)', 'New York State Office of Parks, Recreation and Historic Preservation', 'Stained-glass window', 'Warner & Brockett']\n"
     ]
    }
   ],
   "source": [
    "print(page.links)"
   ]
  },
  {
   "cell_type": "code",
   "execution_count": 7,
   "metadata": {},
   "outputs": [
    {
     "name": "stdout",
     "output_type": "stream",
     "text": [
      "The Willard Memorial Chapel and the adjoining Welch Memorial Hall are located in Auburn, Cayuga County, New York state.\n"
     ]
    }
   ],
   "source": [
    "print(page.summary)"
   ]
  },
  {
   "cell_type": "code",
   "execution_count": 8,
   "metadata": {},
   "outputs": [
    {
     "name": "stdout",
     "output_type": "stream",
     "text": [
      "The Willard Memorial Chapel and the adjoining Welch Memorial Hall are located in Auburn, Cayuga County, New York state.\n",
      "\n",
      "\n",
      "== Architecture ==\n",
      "The chapel and hall were designed by Warner & Brockett of Rochester, New York. They feature the stained-glass windows and interior decoration of Louis Comfort Tiffany. They are the last surviving complete installation by Tiffany in its original location.\n",
      "The chapel was built between 1892 and 1894 in memory of Dr. Sylvester Willard and his wife, Jane Frances Case Willard. Funding was provided by their daughters, Caroline and Georgiana. The chapel was a part of the former Auburn Theological Seminary.\n",
      "\n",
      "\n",
      "== Conservation ==\n",
      "They were declared a National Historic Landmark in 2005. The Willard Memorial Chapel and Welch Memorial Hall are listed on the National Register of Historic Places.\n",
      "\n",
      "\n",
      "== See also ==\n",
      "Dr. Sylvester Willard Mansion\n",
      "Auburn Theological Seminary\n",
      "National Register of Historic Places listings in Cayuga County, New York\n",
      "\n",
      "\n",
      "== Gallery ==\n",
      "\n",
      "\t\t\n",
      "\t\t\n",
      "\t\t\n",
      "\t\t\n",
      "\t\t\n",
      "\n",
      "\n",
      "== References ==\n",
      "\n",
      "\n",
      "== External links ==\n",
      "Official website\n"
     ]
    }
   ],
   "source": [
    "print(page.content)"
   ]
  },
  {
   "cell_type": "code",
   "execution_count": 9,
   "metadata": {},
   "outputs": [],
   "source": [
    "tokens = word_tokenize(page.content)"
   ]
  },
  {
   "cell_type": "code",
   "execution_count": 10,
   "metadata": {},
   "outputs": [],
   "source": [
    "lower_tokens = [t.lower() for t in tokens]"
   ]
  },
  {
   "cell_type": "code",
   "execution_count": 11,
   "metadata": {},
   "outputs": [],
   "source": [
    "# Creating an initial bag of words.\n",
    "bag = Counter(lower_tokens)"
   ]
  },
  {
   "cell_type": "code",
   "execution_count": 12,
   "metadata": {},
   "outputs": [
    {
     "name": "stdout",
     "output_type": "stream",
     "text": [
      "Counter({'==': 12, 'the': 10, '.': 9, 'and': 7, ',': 6, 'of': 6, 'willard': 5, 'chapel': 5, 'in': 5, 'memorial': 4, 'hall': 3, 'are': 3, 'auburn': 3, 'new': 3, 'york': 3, 'by': 3, 'they': 3, 'was': 3, 'national': 3, 'historic': 3, 'welch': 2, 'cayuga': 2, 'county': 2, 'were': 2, 'tiffany': 2, 'dr.': 2, 'sylvester': 2, 'a': 2, 'theological': 2, 'seminary': 2, 'register': 2, 'places': 2, 'adjoining': 1, 'located': 1, 'state': 1, 'architecture': 1, 'designed': 1, 'warner': 1, '&': 1, 'brockett': 1, 'rochester': 1, 'feature': 1, 'stained-glass': 1, 'windows': 1, 'interior': 1, 'decoration': 1, 'louis': 1, 'comfort': 1, 'last': 1, 'surviving': 1, 'complete': 1, 'installation': 1, 'its': 1, 'original': 1, 'location': 1, 'built': 1, 'between': 1, '1892': 1, '1894': 1, 'memory': 1, 'his': 1, 'wife': 1, 'jane': 1, 'frances': 1, 'case': 1, 'funding': 1, 'provided': 1, 'their': 1, 'daughters': 1, 'caroline': 1, 'georgiana': 1, 'part': 1, 'former': 1, 'conservation': 1, 'declared': 1, 'landmark': 1, '2005': 1, 'listed': 1, 'on': 1, 'see': 1, 'also': 1, 'mansion': 1, 'listings': 1, 'gallery': 1, 'references': 1, 'external': 1, 'links': 1, 'official': 1, 'website': 1})\n"
     ]
    }
   ],
   "source": [
    "print(bag)"
   ]
  },
  {
   "cell_type": "markdown",
   "metadata": {},
   "source": [
    "### Clean up and preprocessing to remove non-alphabetic characters, stop words, and to lemmatize."
   ]
  },
  {
   "cell_type": "code",
   "execution_count": 13,
   "metadata": {},
   "outputs": [],
   "source": [
    "# Removing non-alphabetic characters.\n",
    "alpha_only = [t for t in lower_tokens if t.isalpha()]"
   ]
  },
  {
   "cell_type": "code",
   "execution_count": 14,
   "metadata": {},
   "outputs": [],
   "source": [
    "# Removing English stop words.\n",
    "english_stops = ['i', 'me', 'my', 'myself', 'we', 'our', 'ours', 'ourselves', 'you', 'your', 'yours', 'yourself', 'yourselves', 'he', 'him', 'his', 'himself', 'she', 'her', 'hers', 'herself', 'it', 'its', 'itself', 'they', 'them', 'their', 'theirs', 'themselves', 'what', 'which', 'who', 'whom', 'this', 'that', 'these', 'those', 'am', 'is', 'are', 'was', 'were', 'be', 'been', 'being', 'have', 'has', 'had', 'having', 'do', 'does', 'did', 'doing', 'a', 'an', 'the', 'and', 'but', 'if', 'or', 'because', 'as', 'until', 'while', 'of', 'at', 'by', 'for', 'with', 'about', 'against', 'between', 'into', 'through', 'during', 'before', 'after', 'above', 'below', 'to', 'from', 'up', 'down', 'in', 'out', 'on', 'off', 'over', 'under', 'again', 'further', 'then', 'once', 'here', 'there', 'when', 'where', 'why', 'how', 'all', 'any', 'both', 'each', 'few', 'more', 'most', 'other', 'some', 'such', 'no', 'nor', 'not', 'only', 'own', 'same', 'so', 'than', 'too', 'very', 's', 't', 'can', 'will', 'just', 'don', 'should', 'now', 'd', 'll', 'm', 'o', 're', 've', 'y', 'ain', 'aren', 'couldn', 'didn', 'doesn', 'hadn', 'hasn', 'haven', 'isn', 'ma', 'mightn', 'mustn', 'needn', 'shan', 'shouldn', 'wasn', 'weren', 'won', 'wouldn', '']\n",
    "no_stops = [t for t in alpha_only if t not in english_stops]"
   ]
  },
  {
   "cell_type": "code",
   "execution_count": 15,
   "metadata": {},
   "outputs": [],
   "source": [
    "# Lemmatizing.\n",
    "word_lemm = WordNetLemmatizer()\n",
    "lemm = [word_lemm.lemmatize(t) for t in no_stops]"
   ]
  },
  {
   "cell_type": "code",
   "execution_count": 16,
   "metadata": {},
   "outputs": [
    {
     "name": "stdout",
     "output_type": "stream",
     "text": [
      "[('willard', 5), ('chapel', 5), ('memorial', 4), ('hall', 3), ('auburn', 3), ('new', 3), ('york', 3), ('national', 3), ('historic', 3), ('welch', 2)]\n"
     ]
    }
   ],
   "source": [
    "# Creating an updated and improved bag of words.\n",
    "newbag = Counter(lemm)\n",
    "print(newbag.most_common(10))"
   ]
  },
  {
   "cell_type": "markdown",
   "metadata": {},
   "source": [
    "You can see the most common words in this particle article and glean key points to aid in topic identification."
   ]
  },
  {
   "cell_type": "markdown",
   "metadata": {},
   "source": [
    "# Analyzing multiple articles"
   ]
  },
  {
   "cell_type": "markdown",
   "metadata": {},
   "source": [
    "## Gensim"
   ]
  },
  {
   "cell_type": "code",
   "execution_count": 35,
   "metadata": {},
   "outputs": [],
   "source": [
    "multiple_pages = wiki.random(10)"
   ]
  },
  {
   "cell_type": "code",
   "execution_count": 36,
   "metadata": {},
   "outputs": [
    {
     "name": "stdout",
     "output_type": "stream",
     "text": [
      "['Sunflower (2006 film)', 'Adduci', 'Nokia 8310', 'The Brother Moves On', 'ESPNews', 'Im Kyu-tae', 'Konrad Gehringer', 'Snail mail', 'Kampa', 'Brouard']\n"
     ]
    }
   ],
   "source": [
    "print(multiple_pages)"
   ]
  },
  {
   "cell_type": "code",
   "execution_count": 37,
   "metadata": {},
   "outputs": [],
   "source": [
    "articles = []\n",
    "for page in multiple_pages:\n",
    "    articles.append(wiki.page(page).content)"
   ]
  },
  {
   "cell_type": "code",
   "execution_count": 38,
   "metadata": {},
   "outputs": [],
   "source": [
    "clean_articles = []\n",
    "for article in articles:\n",
    "    tokens = word_tokenize(article)\n",
    "    lower_tokens = [t.lower() for t in tokens]\n",
    "    alpha_only = [t for t in lower_tokens if t.isalpha()]\n",
    "    no_stops = [t for t in alpha_only if t not in english_stops]\n",
    "    lemm = [word_lemm.lemmatize(t) for t in no_stops]\n",
    "    clean_articles.append(lemm)"
   ]
  },
  {
   "cell_type": "code",
   "execution_count": 39,
   "metadata": {},
   "outputs": [],
   "source": [
    "dictionary = Dictionary(clean_articles)"
   ]
  },
  {
   "cell_type": "code",
   "execution_count": 40,
   "metadata": {},
   "outputs": [],
   "source": [
    "# Creating a gensim corpus.\n",
    "corpus = [dictionary.doc2bow(article) for article in clean_articles]"
   ]
  },
  {
   "cell_type": "markdown",
   "metadata": {},
   "source": [
    "### Gensim Bag-of-Words"
   ]
  },
  {
   "cell_type": "code",
   "execution_count": 41,
   "metadata": {},
   "outputs": [],
   "source": [
    "total_word_count = defaultdict(int)\n",
    "for word_id, word_count in itertools.chain.from_iterable(corpus):\n",
    "    total_word_count[word_id] += word_count"
   ]
  },
  {
   "cell_type": "code",
   "execution_count": 42,
   "metadata": {},
   "outputs": [],
   "source": [
    "sorted_word_count = sorted(total_word_count.items(), key=lambda w: w[1], reverse=True) "
   ]
  },
  {
   "cell_type": "code",
   "execution_count": 43,
   "metadata": {},
   "outputs": [
    {
     "name": "stdout",
     "output_type": "stream",
     "text": [
      "espn 60\n",
      "espnews 58\n",
      "sport 34\n",
      "game 33\n",
      "network 33\n"
     ]
    }
   ],
   "source": [
    "for word_id, word_count in sorted_word_count[:5]:\n",
    "    print(dictionary.get(word_id), word_count)"
   ]
  },
  {
   "cell_type": "markdown",
   "metadata": {},
   "source": [
    "### TF-IDF"
   ]
  },
  {
   "cell_type": "code",
   "execution_count": 44,
   "metadata": {},
   "outputs": [],
   "source": [
    "tfidf = TfidfModel(corpus)"
   ]
  },
  {
   "cell_type": "code",
   "execution_count": 45,
   "metadata": {},
   "outputs": [],
   "source": [
    "# As an example, we'll use the 2rd article to calculate the significant terms.\n",
    "tfidf_weights = tfidf[corpus[1]]\n",
    "sorted_tfidf_weights = sorted(tfidf_weights, key=lambda w: w[1], reverse=True)"
   ]
  },
  {
   "cell_type": "code",
   "execution_count": 46,
   "metadata": {},
   "outputs": [
    {
     "name": "stdout",
     "output_type": "stream",
     "text": [
      "adduci 0.5987257385872076\n",
      "league 0.25906606272633453\n",
      "tiger 0.25659674510880326\n",
      "game 0.21920974538382149\n",
      "baseball 0.1793534280413085\n"
     ]
    }
   ],
   "source": [
    "# The top 5 weighted words.\n",
    "for term_id, weight in sorted_tfidf_weights[:5]:\n",
    "    print(dictionary.get(term_id), weight)"
   ]
  },
  {
   "cell_type": "markdown",
   "metadata": {},
   "source": [
    "**You can see that both the bag of words and the TF-IDF methods returned similar/related results. Sports-related words were reflected in both results sets."
   ]
  },
  {
   "cell_type": "code",
   "execution_count": null,
   "metadata": {},
   "outputs": [],
   "source": []
  }
 ],
 "metadata": {
  "kernelspec": {
   "display_name": "Python 3",
   "language": "python",
   "name": "python3"
  },
  "language_info": {
   "codemirror_mode": {
    "name": "ipython",
    "version": 3
   },
   "file_extension": ".py",
   "mimetype": "text/x-python",
   "name": "python",
   "nbconvert_exporter": "python",
   "pygments_lexer": "ipython3",
   "version": "3.6.4"
  }
 },
 "nbformat": 4,
 "nbformat_minor": 2
}
