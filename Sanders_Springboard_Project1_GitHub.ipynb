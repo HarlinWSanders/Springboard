{
 "cells": [
  {
   "cell_type": "markdown",
   "metadata": {},
   "source": [
    "# The question to be answered/addressed in the below project--based on Twitter data--is, “Do Americans support U.S. President Donald Trump’s position in immigration and, specifically, what many cite as the separation of families as they try to enter cross the U.S. border? And do those opinions vary by geographic region?”\n"
   ]
  },
  {
   "cell_type": "markdown",
   "metadata": {},
   "source": [
    "## First, we need to set up by installing the appropriate libraries and packages, authenticating, and establishing the Twitter API connection."
   ]
  },
  {
   "cell_type": "code",
   "execution_count": 8,
   "metadata": {},
   "outputs": [],
   "source": [
    "# importing the appropriate libraries and packages\n",
    "import tweepy, json\n",
    "from datetime import datetime, timedelta\n",
    "import pandas as pd\n",
    "import csv\n",
    "from textblob import TextBlob\n",
    "import numpy as np\n",
    "import re\n",
    "import matplotlib.pyplot as plt\n",
    "import seaborn as sns\n",
    "from tweepy import Stream\n",
    "from tweepy import OAuthHandler\n",
    "from tweepy.streaming import StreamListener"
   ]
  },
  {
   "cell_type": "code",
   "execution_count": 9,
   "metadata": {},
   "outputs": [],
   "source": [
    "# my validation and authentication variables\n",
    "access_token = \"1011804601450991616-2yLNKkElMox9I5PuHYKBUa7Dj3OKrQ\"\n",
    "access_token_secret = \"F9T4d3JSRM484xiToO1OWorKFaoaoo0wZn1bm9AJQEAOi\"\n",
    "consumer_key = \"A6phvG9WMGMSR11uuXH5AD8N9\"\n",
    "consumer_secret = \"9ILjLi15TP8fhb3XONaVUuYfRSlXNiGF1kDPijGDQOwrGHaqwp\""
   ]
  },
  {
   "cell_type": "code",
   "execution_count": 10,
   "metadata": {},
   "outputs": [],
   "source": [
    "# creating authentication \n",
    "auth = tweepy.OAuthHandler(consumer_key, consumer_secret)\n",
    "auth.set_access_token(access_token, access_token_secret)\n",
    "\n",
    "# connecting to the Twitter API using the above authentication\n",
    "api = tweepy.API(auth)"
   ]
  },
  {
   "cell_type": "markdown",
   "metadata": {},
   "source": [
    "##  The queries and analyses follow:"
   ]
  },
  {
   "cell_type": "code",
   "execution_count": 31,
   "metadata": {},
   "outputs": [],
   "source": [
    "#list of the 100 major U.S. cities taken from this Wikipedia page:   https://en.wikipedia.org/wiki/List_of_United_States_cities_by_population\n",
    "cities_list = ['New York', 'Los Angeles', 'Chicago', 'Houston', 'Phoenix', 'Philadelphia', 'San Antonio', 'San Diego', 'Dallas', 'San Jose', 'Detroit', 'Jacksonville', 'Indianapolis', 'San Francisco', 'Columbus', 'Austin', 'Memphis', 'Fort Worth', 'Baltimore', 'Charlotte', 'El Paso', 'Boston', 'Seattle', 'Washington', 'Milwaukee', 'Denver', 'Louisville', 'Las Vegas', 'Nashville', 'Oklahoma City', 'Portland', 'Tucson', 'Albuquerque', 'Atlanta', 'Long Beach', 'Fresno', 'Sacramento', 'Mesa', 'Kansas City', 'Cleveland', 'Virginia Beach', 'Omaha', 'Miami', 'Oakland', 'Tulsa', 'Honolulu', 'Minneapolis', 'Colorado Springs', 'Arlington', 'Wichita', 'Raleigh', 'St. Louis', 'Santa Ana', 'Anaheim', 'Tampa', 'Cincinnati', 'Pittsburgh', 'Bakersfield', 'Aurora', 'Toledo', 'Riverside', 'Stockton', 'Corpus Christi', 'Newark', 'Anchorage', 'Buffalo', 'St. Paul', 'Lexington-Fayette', 'Plano', 'Fort Wayne', 'St. Petersburg', 'Glendale', 'Jersey City', 'Lincoln', 'Henderson', 'Chandler', 'Greensboro', 'Scottsdale', 'Baton Rouge', 'Birmingham', 'Norfolk', 'Madison', 'New Orleans', 'Chesapeake', 'Orlando', 'Garland', 'Hialeah', 'Laredo', 'Chula Vista', 'Lubbock', 'Reno', 'Akron', 'Durham', 'Rochester', 'Modesto', 'Montgomery', 'Fremont', 'Shreveport', 'Arlington', 'Glendale']"
   ]
  },
  {
   "cell_type": "code",
   "execution_count": 32,
   "metadata": {},
   "outputs": [],
   "source": [
    "# a query to get the Twitter place_id (code) for each city\n",
    "\n",
    "city_dict = {}\n",
    "for city in cities_list:\n",
    "    city_dict[city] = api.geo_search(query = city, wait_on_rate_limit=True, granularity = 'city')[0].id"
   ]
  },
  {
   "cell_type": "code",
   "execution_count": 33,
   "metadata": {},
   "outputs": [
    {
     "data": {
      "text/plain": [
       "{'Akron': 'fef01a8cb0eacb64',\n",
       " 'Albuquerque': '813a485b26b8dae2',\n",
       " 'Anaheim': '0c2e6999105f8070',\n",
       " 'Anchorage': '7a863bb88e5bb33c',\n",
       " 'Arlington': '319ee7b36c9149da',\n",
       " 'Atlanta': '8173485c72e78ca5',\n",
       " 'Aurora': '249bc600a1b6bb6a',\n",
       " 'Austin': 'c3f37afa9efcf94b',\n",
       " 'Bakersfield': '960993b9cfdffda9',\n",
       " 'Baltimore': 'c0b8e8dc81930292',\n",
       " 'Baton Rouge': 'c7ef5f3368b68777',\n",
       " 'Birmingham': '53b67b1d1cc81a51',\n",
       " 'Boston': '67b98f17fdcf20be',\n",
       " 'Buffalo': 'a307591cd0413588',\n",
       " 'Chandler': '52445186970bafb3',\n",
       " 'Charlotte': '512a8a4a4c4b4be0',\n",
       " 'Chesapeake': '73d1c1c11b675932',\n",
       " 'Chicago': '1d9a5370a355ab0c',\n",
       " 'Chula Vista': '28ace6b8d6dbc3af',\n",
       " 'Cincinnati': 'e444ecd51bd16ff3',\n",
       " 'Cleveland': '0eb9676d24b211f1',\n",
       " 'Colorado Springs': 'adc95f2911133646',\n",
       " 'Columbus': '3df0e3eb1e91170b',\n",
       " 'Corpus Christi': 'a3d770a00f15bcb1',\n",
       " 'Dallas': '18810aa5b43e76c7',\n",
       " 'Denver': 'b49b3053b5c25bf5',\n",
       " 'Detroit': 'b463d3bd6064861b',\n",
       " 'Durham': 'bced47a0c99c71d0',\n",
       " 'El Paso': '6a0a3474d8c5113c',\n",
       " 'Fort Wayne': '3877d6c867447819',\n",
       " 'Fort Worth': '42e46bc3663a4b5f',\n",
       " 'Fremont': '30344aecffe6a491',\n",
       " 'Fresno': '944c03c1d85ef480',\n",
       " 'Garland': '7c01d867b8e8c494',\n",
       " 'Glendale': '389e765d4de59bd2',\n",
       " 'Greensboro': 'a6c257c61f294ec1',\n",
       " 'Henderson': '0e2242eb8691df96',\n",
       " 'Hialeah': '629f4a26fed69cd3',\n",
       " 'Honolulu': 'c47c0bc571bf5427',\n",
       " 'Houston': '1c69a67ad480e1b1',\n",
       " 'Indianapolis': '018929347840059e',\n",
       " 'Jacksonville': 'd5dbaf62e7106dc4',\n",
       " 'Jersey City': 'b046074b1030a44d',\n",
       " 'Kansas City': '9a974dfc8efb32a0',\n",
       " 'Laredo': '4fd63188b772fc62',\n",
       " 'Las Vegas': '5c2b5e46ab891f07',\n",
       " 'Lexington-Fayette': '00ae272d6d0d28fe',\n",
       " 'Lincoln': '3af2a75dbeb10500',\n",
       " 'Long Beach': '01c060cf466c6ce3',\n",
       " 'Los Angeles': '3b77caf94bfc81fe',\n",
       " 'Louisville': '095534ad3107e0e6',\n",
       " 'Lubbock': '3f3f6803f117606d',\n",
       " 'Madison': 'e67427d9b4126602',\n",
       " 'Memphis': 'f995a9bd45d4a867',\n",
       " 'Mesa': '44d207663001f00b',\n",
       " 'Miami': '04cb31bae3b3af93',\n",
       " 'Milwaukee': '2a93711775303f90',\n",
       " 'Minneapolis': '8e9665cec9370f0f',\n",
       " 'Modesto': 'e41805d7248dbf1e',\n",
       " 'Montgomery': '7f061ded71fdc974',\n",
       " 'Nashville': '00ab941b685334e3',\n",
       " 'New Orleans': 'dd3b100831dd1763',\n",
       " 'New York': '27485069891a7938',\n",
       " 'Newark': 'fa3435044b52ecc7',\n",
       " 'Norfolk': 'b004be67b9fd6d8f',\n",
       " 'Oakland': 'ab2f2fac83aa388d',\n",
       " 'Oklahoma City': '9531d4e3bbafc09d',\n",
       " 'Omaha': 'a84b808ce3f11719',\n",
       " 'Orlando': '55b4f9e5c516e0b6',\n",
       " 'Philadelphia': 'e4a0d228eb6be76b',\n",
       " 'Phoenix': '5c62ffb0f0f3479d',\n",
       " 'Pittsburgh': '946ccd22e1c9cda1',\n",
       " 'Plano': '488da0de4c92ac8e',\n",
       " 'Portland': 'ac88a4f17a51c7fc',\n",
       " 'Raleigh': '161d2f18e3a0445a',\n",
       " 'Reno': '4b25aded08900fd8',\n",
       " 'Riverside': '6ba08e404aed471f',\n",
       " 'Rochester': '2409d5aabed47f79',\n",
       " 'Sacramento': 'b71fac2ee9792cbe',\n",
       " 'San Antonio': '3df4f427b5a60fea',\n",
       " 'San Diego': 'a592bd6ceb1319f7',\n",
       " 'San Francisco': '5a110d312052166f',\n",
       " 'San Jose': '7d62cffe6f98f349',\n",
       " 'Santa Ana': '0562e9e53cddf6ec',\n",
       " 'Scottsdale': '0a0de7bd49ef942d',\n",
       " 'Seattle': '300bcc6e23a88361',\n",
       " 'Shreveport': '4ec71fc3f2579572',\n",
       " 'St. Louis': '0570f015c264cbd9',\n",
       " 'St. Paul': '60e2c37980197297',\n",
       " 'St. Petersburg': '5d231ed8656fcf5a',\n",
       " 'Stockton': 'd98e7ce217ade2c5',\n",
       " 'Tampa': 'dc62519fda13b4ec',\n",
       " 'Toledo': '7068dd9474ab6973',\n",
       " 'Tucson': '013379ee5729a5e6',\n",
       " 'Tulsa': 'cb74aaf709812e0f',\n",
       " 'Virginia Beach': '84229b03659050aa',\n",
       " 'Washington': '01fbe706f872cb32',\n",
       " 'Wichita': '1661ada9b2b18024'}"
      ]
     },
     "execution_count": 33,
     "metadata": {},
     "output_type": "execute_result"
    }
   ],
   "source": [
    "city_dict"
   ]
  },
  {
   "cell_type": "code",
   "execution_count": 17,
   "metadata": {},
   "outputs": [],
   "source": [
    "cityDict = {'Akron': 'fef01a8cb0eacb64',\n",
    " 'Albuquerque': '813a485b26b8dae2',\n",
    " 'Anaheim': '0c2e6999105f8070',\n",
    " 'Anchorage': '7a863bb88e5bb33c',\n",
    " 'Arlington': '319ee7b36c9149da',\n",
    " 'Atlanta': '8173485c72e78ca5',\n",
    " 'Aurora': '249bc600a1b6bb6a',\n",
    " 'Austin': 'c3f37afa9efcf94b',\n",
    " 'Bakersfield': '960993b9cfdffda9',\n",
    " 'Baltimore': 'c0b8e8dc81930292',\n",
    " 'Baton Rouge': 'c7ef5f3368b68777',\n",
    " 'Birmingham': '53b67b1d1cc81a51',\n",
    " 'Boston': '67b98f17fdcf20be',\n",
    " 'Buffalo': 'a307591cd0413588',\n",
    " 'Chandler': '52445186970bafb3',\n",
    " 'Charlotte': '512a8a4a4c4b4be0',\n",
    " 'Chesapeake': '73d1c1c11b675932',\n",
    " 'Chicago': '1d9a5370a355ab0c',\n",
    " 'Chula Vista': '28ace6b8d6dbc3af',\n",
    " 'Cincinnati': 'e444ecd51bd16ff3',\n",
    " 'Cleveland': '0eb9676d24b211f1',\n",
    " 'Colorado Springs': 'adc95f2911133646',\n",
    " 'Columbus': '3df0e3eb1e91170b',\n",
    " 'Corpus Christi': 'a3d770a00f15bcb1',\n",
    " 'Dallas': '18810aa5b43e76c7',\n",
    " 'Denver': 'b49b3053b5c25bf5',\n",
    " 'Detroit': 'b463d3bd6064861b',\n",
    " 'Durham': 'bced47a0c99c71d0',\n",
    " 'El Paso': '6a0a3474d8c5113c',\n",
    " 'Fort Wayne': '3877d6c867447819',\n",
    " 'Fort Worth': '42e46bc3663a4b5f',\n",
    " 'Fremont': '30344aecffe6a491',\n",
    " 'Fresno': '944c03c1d85ef480',\n",
    " 'Garland': '7c01d867b8e8c494',\n",
    " 'Glendale': '389e765d4de59bd2',\n",
    " 'Greensboro': 'a6c257c61f294ec1',\n",
    " 'Henderson': '0e2242eb8691df96',\n",
    " 'Hialeah': '629f4a26fed69cd3',\n",
    " 'Honolulu': 'c47c0bc571bf5427',\n",
    " 'Houston': '1c69a67ad480e1b1',\n",
    " 'Indianapolis': '018929347840059e',\n",
    " 'Jacksonville': 'd5dbaf62e7106dc4',\n",
    " 'Jersey City': 'b046074b1030a44d',\n",
    " 'Kansas City': '9a974dfc8efb32a0',\n",
    " 'Laredo': '4fd63188b772fc62',\n",
    " 'Las Vegas': '5c2b5e46ab891f07',\n",
    " 'Lexington-Fayette': '00ae272d6d0d28fe',\n",
    " 'Lincoln': '3af2a75dbeb10500',\n",
    " 'Long Beach': '01c060cf466c6ce3',\n",
    " 'Los Angeles': '3b77caf94bfc81fe',\n",
    " 'Louisville': '095534ad3107e0e6',\n",
    " 'Lubbock': '3f3f6803f117606d',\n",
    " 'Madison': 'e67427d9b4126602',\n",
    " 'Memphis': 'f995a9bd45d4a867',\n",
    " 'Mesa': '44d207663001f00b',\n",
    " 'Miami': '04cb31bae3b3af93',\n",
    " 'Milwaukee': '2a93711775303f90',\n",
    " 'Minneapolis': '8e9665cec9370f0f',\n",
    " 'Modesto': 'e41805d7248dbf1e',\n",
    " 'Montgomery': '7f061ded71fdc974',\n",
    " 'Nashville': '00ab941b685334e3',\n",
    " 'New Orleans': 'dd3b100831dd1763',\n",
    " 'New York': '27485069891a7938',\n",
    " 'Newark': 'fa3435044b52ecc7',\n",
    " 'Norfolk': 'b004be67b9fd6d8f',\n",
    " 'Oakland': 'ab2f2fac83aa388d',\n",
    " 'Oklahoma City': '9531d4e3bbafc09d',\n",
    " 'Omaha': 'a84b808ce3f11719',\n",
    " 'Orlando': '55b4f9e5c516e0b6',\n",
    " 'Philadelphia': 'e4a0d228eb6be76b',\n",
    " 'Phoenix': '5c62ffb0f0f3479d',\n",
    " 'Pittsburgh': '946ccd22e1c9cda1',\n",
    " 'Plano': '488da0de4c92ac8e',\n",
    " 'Portland': 'ac88a4f17a51c7fc',\n",
    " 'Raleigh': '161d2f18e3a0445a',\n",
    " 'Reno': '4b25aded08900fd8',\n",
    " 'Riverside': '6ba08e404aed471f',\n",
    " 'Rochester': '2409d5aabed47f79',\n",
    " 'Sacramento': 'b71fac2ee9792cbe',\n",
    " 'San Antonio': '3df4f427b5a60fea',\n",
    " 'San Diego': 'a592bd6ceb1319f7',\n",
    " 'San Francisco': '5a110d312052166f',\n",
    " 'San Jose': '7d62cffe6f98f349',\n",
    " 'Santa Ana': '0562e9e53cddf6ec',\n",
    " 'Scottsdale': '0a0de7bd49ef942d',\n",
    " 'Seattle': '300bcc6e23a88361',\n",
    " 'Shreveport': '4ec71fc3f2579572',\n",
    " 'St. Louis': '0570f015c264cbd9',\n",
    " 'St. Paul': '60e2c37980197297',\n",
    " 'St. Petersburg': '5d231ed8656fcf5a',\n",
    " 'Stockton': 'd98e7ce217ade2c5',\n",
    " 'Tampa': 'dc62519fda13b4ec',\n",
    " 'Toledo': '7068dd9474ab6973',\n",
    " 'Tucson': '013379ee5729a5e6',\n",
    " 'Tulsa': 'cb74aaf709812e0f',\n",
    " 'Virginia Beach': '84229b03659050aa',\n",
    " 'Washington': '01fbe706f872cb32',\n",
    " 'Wichita': '1661ada9b2b18024'}"
   ]
  },
  {
   "cell_type": "code",
   "execution_count": 45,
   "metadata": {},
   "outputs": [],
   "source": [
    "# creating empty lists (one for each city)\n",
    "\n",
    "Akron = []\n",
    "Albuquerque = []\n",
    "Anaheim = []\n",
    "Anchorage = []\n",
    "Arlington = []\n",
    "Atlanta = []\n",
    "Aurora = []\n",
    "Austin = []\n",
    "Bakersfield = []       \n",
    "Baltimore = []\n",
    "Baton_Rouge = []\n",
    "Birmingham = []\n",
    "Boston = []\n",
    "Buffalo = []\n",
    "Chandler = []\n",
    "Charlotte = []\n",
    "Chesapeake = []\n",
    "Chicago = []"
   ]
  },
  {
   "cell_type": "code",
   "execution_count": 67,
   "metadata": {},
   "outputs": [],
   "source": [
    "# more empty lists for the cities\n",
    "\n",
    "Chula_Vista = []\n",
    "Cincinnati = []\n",
    "Cleveland = []\n",
    "Colorado_Springs = []\n",
    "Columbus = []\n",
    "Corpus_Christi = []\n",
    "Dallas = []\n",
    "Denver = []\n",
    "Detroit = []\n",
    "Durham = []\n",
    "El_Paso = []\n",
    "Fort_Wayne = []\n",
    "Fort_Worth = []\n",
    "Fremont = []\n",
    "Fresno = []\n",
    "Garland = []\n",
    "Glendale = []\n",
    "Greensboro = []\n",
    "Henderson = []\n",
    "Hialeah = []\n",
    "Honolulu = []\n",
    "Houston = []\n",
    "Indianapolis = []\n",
    "Jacksonville = []\n",
    "Jersey_City = []\n",
    "Kansas_City = []\n",
    "Laredo = []\n",
    "Las_Vegas = []\n",
    "Lexington_Fayette = []\n",
    "Lincoln = []\n",
    "Long_Beach = []\n",
    "Los_Angeles = []\n",
    "Louisville = []\n",
    "Lubbock = []\n",
    "Madison = []\n",
    "Memphis = []\n",
    "Mesa = []\n",
    "Miami = []\n",
    "Milwaukee = []\n",
    "Minneapolis = []\n",
    "Modesto = []\n",
    "Montgomery = []\n",
    "Nashville = []\n",
    "New_Orleans = []\n",
    "New_York = []\n",
    "Newark = []\n",
    "Norfolk = []\n",
    "Oakland = []\n",
    "Oklahoma_City = []\n",
    "Omaha = []\n",
    "Orlando = []\n",
    "Philadelphia = []\n",
    "Phoenix = []\n",
    "Pittsburgh = []\n",
    "Plano = []\n",
    "Portland = []\n",
    "Raleigh = []\n",
    "Reno = []\n",
    "Riverside = []\n",
    "Rochester = []\n",
    "Sacramento = []\n",
    "San_Antonio = []\n",
    "San_Diego = []\n",
    "San_Francisco = []\n",
    "San_Jose = []\n",
    "Santa_Ana = []\n",
    "Scottsdale = []\n",
    "Seattle = []\n",
    "Shreveport = []\n",
    "St_Louis = []\n",
    "St_Paul = []\n",
    "St_Petersburg = []\n",
    "Stockton = []\n",
    "Tampa = []\n",
    "Toledo = []\n",
    "Tucson = []\n",
    "Tulsa = []\n",
    "Virginia_Beach = []\n",
    "Washington = []\n",
    "Wichita = []"
   ]
  },
  {
   "cell_type": "code",
   "execution_count": 46,
   "metadata": {},
   "outputs": [],
   "source": [
    "# the actual query string to search for these phrases of interested contained in the tweet text\n",
    "\n",
    "q = '(immigration OR immigrants) AND (families OR family) AND (separate OR separation) AND trump)'"
   ]
  },
  {
   "cell_type": "markdown",
   "metadata": {},
   "source": [
    "### Individual queries for each city that appends the results to the lists created above."
   ]
  },
  {
   "cell_type": "code",
   "execution_count": 185,
   "metadata": {},
   "outputs": [],
   "source": [
    "#Akron\n",
    "cityID = 'fef01a8cb0eacb64'\n",
    "for tweet in tweepy.Cursor(api.search, q=q, contained_within=cityID, wait_on_rate_limit=True, lang=\"en\").items(500):    \n",
    "        Akron.append(tweet)   "
   ]
  },
  {
   "cell_type": "code",
   "execution_count": 51,
   "metadata": {},
   "outputs": [],
   "source": [
    "#Albuquerque\n",
    "cityID = '813a485b26b8dae2'\n",
    "for tweet in tweepy.Cursor(api.search, q=q, contained_within=cityID, wait_on_rate_limit=True, lang=\"en\").items(500):    \n",
    "        Albuquerque.append(tweet)  "
   ]
  },
  {
   "cell_type": "code",
   "execution_count": 52,
   "metadata": {},
   "outputs": [],
   "source": [
    "#Anaheim\n",
    "cityID = '0c2e6999105f8070'\n",
    "for tweet in tweepy.Cursor(api.search, q=q, contained_within=cityID, wait_on_rate_limit=True, lang=\"en\").items(500):    \n",
    "        Anaheim.append(tweet)  "
   ]
  },
  {
   "cell_type": "code",
   "execution_count": 53,
   "metadata": {},
   "outputs": [],
   "source": [
    "#Anchorage\n",
    "cityID = '7a863bb88e5bb33c'\n",
    "for tweet in tweepy.Cursor(api.search, q=q, contained_within=cityID, wait_on_rate_limit=True, lang=\"en\").items(500):    \n",
    "        Anchorage.append(tweet) "
   ]
  },
  {
   "cell_type": "code",
   "execution_count": 54,
   "metadata": {},
   "outputs": [],
   "source": [
    "#Arlington\n",
    "cityID = '319ee7b36c9149da'\n",
    "for tweet in tweepy.Cursor(api.search, q=q, contained_within=cityID, wait_on_rate_limit=True, lang=\"en\").items(500):    \n",
    "        Arlington.append(tweet) "
   ]
  },
  {
   "cell_type": "code",
   "execution_count": 55,
   "metadata": {},
   "outputs": [],
   "source": [
    "#Atlanta\n",
    "cityID = '8173485c72e78ca5'\n",
    "for tweet in tweepy.Cursor(api.search, q=q, contained_within=cityID, wait_on_rate_limit=True, lang=\"en\").items(500):    \n",
    "        Atlanta.append(tweet) "
   ]
  },
  {
   "cell_type": "code",
   "execution_count": 57,
   "metadata": {},
   "outputs": [],
   "source": [
    "#Aurora\n",
    "cityID = '249bc600a1b6bb6a'\n",
    "for tweet in tweepy.Cursor(api.search, q=q, contained_within=cityID, wait_on_rate_limit=True, lang=\"en\").items(500):    \n",
    "        Aurora.append(tweet) "
   ]
  },
  {
   "cell_type": "code",
   "execution_count": 58,
   "metadata": {},
   "outputs": [],
   "source": [
    "#Austin\n",
    "cityID = 'c3f37afa9efcf94b'\n",
    "for tweet in tweepy.Cursor(api.search, q=q, contained_within=cityID, wait_on_rate_limit=True, lang=\"en\").items(500):    \n",
    "        Austin.append(tweet) "
   ]
  },
  {
   "cell_type": "code",
   "execution_count": 59,
   "metadata": {},
   "outputs": [],
   "source": [
    "#Bakersfield\n",
    "cityID = '960993b9cfdffda9'\n",
    "for tweet in tweepy.Cursor(api.search, q=q, contained_within=cityID, wait_on_rate_limit=True, lang=\"en\").items(500):    \n",
    "        Bakersfield.append(tweet) "
   ]
  },
  {
   "cell_type": "code",
   "execution_count": 60,
   "metadata": {},
   "outputs": [],
   "source": [
    "#Baltimore\n",
    "cityID = 'c0b8e8dc81930292'\n",
    "for tweet in tweepy.Cursor(api.search, q=q, contained_within=cityID, wait_on_rate_limit=True, lang=\"en\").items(500):    \n",
    "        Baltimore.append(tweet) "
   ]
  },
  {
   "cell_type": "code",
   "execution_count": 61,
   "metadata": {},
   "outputs": [],
   "source": [
    "#Baton Rouge\n",
    "cityID = 'c7ef5f3368b68777'\n",
    "for tweet in tweepy.Cursor(api.search, q=q, contained_within=cityID, wait_on_rate_limit=True, lang=\"en\").items(500):    \n",
    "        Baton_Rouge.append(tweet) "
   ]
  },
  {
   "cell_type": "code",
   "execution_count": 62,
   "metadata": {},
   "outputs": [],
   "source": [
    "#Birmingham\n",
    "cityID = '53b67b1d1cc81a51'\n",
    "for tweet in tweepy.Cursor(api.search, q=q, contained_within=cityID, wait_on_rate_limit=True, lang=\"en\").items(500):    \n",
    "        Birmingham.append(tweet) "
   ]
  },
  {
   "cell_type": "code",
   "execution_count": 63,
   "metadata": {},
   "outputs": [],
   "source": [
    "#Boston\n",
    "cityID = '67b98f17fdcf20be'\n",
    "for tweet in tweepy.Cursor(api.search, q=q, contained_within=cityID, wait_on_rate_limit=True, lang=\"en\").items(500):    \n",
    "        Boston.append(tweet) "
   ]
  },
  {
   "cell_type": "code",
   "execution_count": 64,
   "metadata": {},
   "outputs": [],
   "source": [
    "#Buffalo\n",
    "cityID = 'a307591cd0413588'\n",
    "for tweet in tweepy.Cursor(api.search, q=q, contained_within=cityID, wait_on_rate_limit=True, lang=\"en\").items(500):    \n",
    "        Buffalo.append(tweet) "
   ]
  },
  {
   "cell_type": "code",
   "execution_count": 65,
   "metadata": {},
   "outputs": [],
   "source": [
    "#Chandler\n",
    "cityID = '52445186970bafb3'\n",
    "for tweet in tweepy.Cursor(api.search, q=q, contained_within=cityID, wait_on_rate_limit=True, lang=\"en\").items(500):    \n",
    "        Chandler.append(tweet) "
   ]
  },
  {
   "cell_type": "code",
   "execution_count": 66,
   "metadata": {},
   "outputs": [],
   "source": [
    "#Charlotte\n",
    "cityID = '512a8a4a4c4b4be0'\n",
    "for tweet in tweepy.Cursor(api.search, q=q, contained_within=cityID, wait_on_rate_limit=True, lang=\"en\").items(500):    \n",
    "        Charlotte.append(tweet) "
   ]
  },
  {
   "cell_type": "code",
   "execution_count": 68,
   "metadata": {},
   "outputs": [],
   "source": [
    "#Chesapeake\n",
    "cityID = '73d1c1c11b675932'\n",
    "for tweet in tweepy.Cursor(api.search, q=q, contained_within=cityID, wait_on_rate_limit=True, lang=\"en\").items(500):    \n",
    "        Chesapeake.append(tweet) "
   ]
  },
  {
   "cell_type": "code",
   "execution_count": 69,
   "metadata": {},
   "outputs": [],
   "source": [
    "#Chicago\n",
    "cityID = '1d9a5370a355ab0c'\n",
    "for tweet in tweepy.Cursor(api.search, q=q, contained_within=cityID, wait_on_rate_limit=True, lang=\"en\").items(500):    \n",
    "        Chicago.append(tweet) "
   ]
  },
  {
   "cell_type": "code",
   "execution_count": 70,
   "metadata": {},
   "outputs": [],
   "source": [
    "#Chula Vista\n",
    "cityID = '28ace6b8d6dbc3af'\n",
    "for tweet in tweepy.Cursor(api.search, q=q, contained_within=cityID, wait_on_rate_limit=True, lang=\"en\").items(500):    \n",
    "        Chula_Vista.append(tweet) "
   ]
  },
  {
   "cell_type": "code",
   "execution_count": 71,
   "metadata": {},
   "outputs": [],
   "source": [
    "#Cincinnati\n",
    "cityID = 'e444ecd51bd16ff3'\n",
    "for tweet in tweepy.Cursor(api.search, q=q, contained_within=cityID, wait_on_rate_limit=True, lang=\"en\").items(500):    \n",
    "        Cincinnati.append(tweet) "
   ]
  },
  {
   "cell_type": "code",
   "execution_count": 72,
   "metadata": {},
   "outputs": [],
   "source": [
    "#Cleveland': '0eb9676d24b211f1\n",
    "cityID = '0eb9676d24b211f1'\n",
    "for tweet in tweepy.Cursor(api.search, q=q, contained_within=cityID, wait_on_rate_limit=True, lang=\"en\").items(500):    \n",
    "        Cleveland.append(tweet) "
   ]
  },
  {
   "cell_type": "code",
   "execution_count": 74,
   "metadata": {},
   "outputs": [],
   "source": [
    "#Colorado Springs': 'adc95f2911133646\n",
    "cityID = 'adc95f2911133646'\n",
    "for tweet in tweepy.Cursor(api.search, q=q, contained_within=cityID, wait_on_rate_limit=True, lang=\"en\").items(500):    \n",
    "        Colorado_Springs.append(tweet) "
   ]
  },
  {
   "cell_type": "code",
   "execution_count": 75,
   "metadata": {},
   "outputs": [],
   "source": [
    "#'Columbus': '3df0e3eb1e91170b'\n",
    "cityID = '3df0e3eb1e91170b'\n",
    "for tweet in tweepy.Cursor(api.search, q=q, contained_within=cityID, wait_on_rate_limit=True, lang=\"en\").items(500):    \n",
    "        Columbus.append(tweet) "
   ]
  },
  {
   "cell_type": "code",
   "execution_count": 76,
   "metadata": {},
   "outputs": [],
   "source": [
    "#Corpus Christi': 'a3d770a00f15bcb1'\n",
    "cityID = 'a3d770a00f15bcb1'\n",
    "for tweet in tweepy.Cursor(api.search, q=q, contained_within=cityID, wait_on_rate_limit=True, lang=\"en\").items(500):    \n",
    "        Corpus_Christi.append(tweet) "
   ]
  },
  {
   "cell_type": "code",
   "execution_count": 77,
   "metadata": {},
   "outputs": [],
   "source": [
    "#Dallas': '18810aa5b43e76c7'\n",
    "cityID = '18810aa5b43e76c7'\n",
    "for tweet in tweepy.Cursor(api.search, q=q, contained_within=cityID, wait_on_rate_limit=True, lang=\"en\").items(500):    \n",
    "        Dallas.append(tweet) "
   ]
  },
  {
   "cell_type": "code",
   "execution_count": 78,
   "metadata": {},
   "outputs": [],
   "source": [
    "#'Denver': 'b49b3053b5c25bf5'\n",
    "cityID = 'b49b3053b5c25bf5'\n",
    "for tweet in tweepy.Cursor(api.search, q=q, contained_within=cityID, wait_on_rate_limit=True, lang=\"en\").items(500):    \n",
    "        Denver.append(tweet) "
   ]
  },
  {
   "cell_type": "code",
   "execution_count": 79,
   "metadata": {},
   "outputs": [],
   "source": [
    "#'Detroit': 'b463d3bd6064861b',\n",
    "cityID = 'b463d3bd6064861b'\n",
    "for tweet in tweepy.Cursor(api.search, q=q, contained_within=cityID, wait_on_rate_limit=True, lang=\"en\").items(500):    \n",
    "        Detroit.append(tweet) "
   ]
  },
  {
   "cell_type": "code",
   "execution_count": 80,
   "metadata": {},
   "outputs": [],
   "source": [
    "#'Durham': 'bced47a0c99c71d0',\n",
    "cityID = 'bced47a0c99c71d0'\n",
    "for tweet in tweepy.Cursor(api.search, q=q, contained_within=cityID, wait_on_rate_limit=True, lang=\"en\").items(500):    \n",
    "        Durham.append(tweet) "
   ]
  },
  {
   "cell_type": "code",
   "execution_count": 81,
   "metadata": {},
   "outputs": [],
   "source": [
    "#El Paso': '6a0a3474d8c5113c'\n",
    "cityID = '6a0a3474d8c5113c'\n",
    "for tweet in tweepy.Cursor(api.search, q=q, contained_within=cityID, wait_on_rate_limit=True, lang=\"en\").items(500):    \n",
    "        El_Paso.append(tweet) "
   ]
  },
  {
   "cell_type": "code",
   "execution_count": 82,
   "metadata": {},
   "outputs": [],
   "source": [
    "#Fort Wayne': '3877d6c867447819'\n",
    "cityID = '3877d6c867447819'\n",
    "for tweet in tweepy.Cursor(api.search, q=q, contained_within=cityID, wait_on_rate_limit=True, lang=\"en\").items(500):    \n",
    "        Fort_Wayne.append(tweet) "
   ]
  },
  {
   "cell_type": "code",
   "execution_count": 83,
   "metadata": {},
   "outputs": [],
   "source": [
    "#Fort Worth': '42e46bc3663a4b5f'\n",
    "cityID = '42e46bc3663a4b5f'\n",
    "for tweet in tweepy.Cursor(api.search, q=q, contained_within=cityID, wait_on_rate_limit=True, lang=\"en\").items(500):    \n",
    "        Fort_Worth.append(tweet) "
   ]
  },
  {
   "cell_type": "code",
   "execution_count": 84,
   "metadata": {},
   "outputs": [],
   "source": [
    "#'Fremont': '30344aecffe6a491',\n",
    "cityID = '30344aecffe6a491'\n",
    "for tweet in tweepy.Cursor(api.search, q=q, contained_within=cityID, wait_on_rate_limit=True, lang=\"en\").items(500):    \n",
    "        Fremont.append(tweet) "
   ]
  },
  {
   "cell_type": "code",
   "execution_count": 85,
   "metadata": {},
   "outputs": [],
   "source": [
    "#Fresno': '944c03c1d85ef480'\n",
    "cityID = '944c03c1d85ef480'\n",
    "for tweet in tweepy.Cursor(api.search, q=q, contained_within=cityID, wait_on_rate_limit=True, lang=\"en\").items(500):    \n",
    "        Fresno.append(tweet) "
   ]
  },
  {
   "cell_type": "code",
   "execution_count": 87,
   "metadata": {},
   "outputs": [],
   "source": [
    "#Garland': '7c01d867b8e8c494'\n",
    "cityID = '7c01d867b8e8c494'\n",
    "for tweet in tweepy.Cursor(api.search, q=q, contained_within=cityID, wait_on_rate_limit=True, lang=\"en\").items(500):    \n",
    "        Garland.append(tweet) "
   ]
  },
  {
   "cell_type": "code",
   "execution_count": 88,
   "metadata": {},
   "outputs": [],
   "source": [
    "#'Glendale': '389e765d4de59bd2'\n",
    "cityID = '389e765d4de59bd2'\n",
    "for tweet in tweepy.Cursor(api.search, q=q, contained_within=cityID, wait_on_rate_limit=True, lang=\"en\").items(500):    \n",
    "        Glendale.append(tweet) "
   ]
  },
  {
   "cell_type": "code",
   "execution_count": 89,
   "metadata": {},
   "outputs": [],
   "source": [
    "#Greensboro': 'a6c257c61f294ec1'\n",
    "cityID = 'a6c257c61f294ec1'\n",
    "for tweet in tweepy.Cursor(api.search, q=q, contained_within=cityID, wait_on_rate_limit=True, lang=\"en\").items(500):    \n",
    "        Greensboro.append(tweet) "
   ]
  },
  {
   "cell_type": "code",
   "execution_count": 90,
   "metadata": {},
   "outputs": [],
   "source": [
    "#Henderson': '0e2242eb8691df96'\n",
    "cityID = '0e2242eb8691df96'\n",
    "for tweet in tweepy.Cursor(api.search, q=q, contained_within=cityID, wait_on_rate_limit=True, lang=\"en\").items(500):    \n",
    "        Henderson.append(tweet) "
   ]
  },
  {
   "cell_type": "code",
   "execution_count": 91,
   "metadata": {},
   "outputs": [],
   "source": [
    "#Hialeah': '629f4a26fed69cd3'\n",
    "cityID = '629f4a26fed69cd3'\n",
    "for tweet in tweepy.Cursor(api.search, q=q, contained_within=cityID, wait_on_rate_limit=True, lang=\"en\").items(500):    \n",
    "        Hialeah.append(tweet) "
   ]
  },
  {
   "cell_type": "code",
   "execution_count": 92,
   "metadata": {},
   "outputs": [],
   "source": [
    "#Honolulu': 'c47c0bc571bf5427'\n",
    "cityID = 'c47c0bc571bf5427'\n",
    "for tweet in tweepy.Cursor(api.search, q=q, contained_within=cityID, wait_on_rate_limit=True, lang=\"en\").items(500):    \n",
    "        Honolulu.append(tweet) "
   ]
  },
  {
   "cell_type": "code",
   "execution_count": 93,
   "metadata": {},
   "outputs": [],
   "source": [
    "#Houston': '1c69a67ad480e1b1'\n",
    "cityID = '1c69a67ad480e1b1'\n",
    "for tweet in tweepy.Cursor(api.search, q=q, contained_within=cityID, wait_on_rate_limit=True, lang=\"en\").items(500):    \n",
    "        Houston.append(tweet) "
   ]
  },
  {
   "cell_type": "code",
   "execution_count": 94,
   "metadata": {},
   "outputs": [],
   "source": [
    "#Indianapolis': '018929347840059e'\n",
    "cityID = '018929347840059e'\n",
    "for tweet in tweepy.Cursor(api.search, q=q, contained_within=cityID, wait_on_rate_limit=True, lang=\"en\").items(500):    \n",
    "        Indianapolis.append(tweet) "
   ]
  },
  {
   "cell_type": "code",
   "execution_count": 95,
   "metadata": {},
   "outputs": [],
   "source": [
    "#Jacksonville': 'd5dbaf62e7106dc4'\n",
    "cityID = 'd5dbaf62e7106dc4'\n",
    "for tweet in tweepy.Cursor(api.search, q=q, contained_within=cityID, wait_on_rate_limit=True, lang=\"en\").items(500):    \n",
    "        Jacksonville.append(tweet) "
   ]
  },
  {
   "cell_type": "code",
   "execution_count": 96,
   "metadata": {},
   "outputs": [],
   "source": [
    "#Jersey City': 'b046074b1030a44d'\n",
    "cityID = 'b046074b1030a44d'\n",
    "for tweet in tweepy.Cursor(api.search, q=q, contained_within=cityID, wait_on_rate_limit=True, lang=\"en\").items(500):    \n",
    "        Jersey_City.append(tweet) "
   ]
  },
  {
   "cell_type": "code",
   "execution_count": 97,
   "metadata": {},
   "outputs": [],
   "source": [
    "#Kansas City': '9a974dfc8efb32a0'\n",
    "cityID = '9a974dfc8efb32a0'\n",
    "for tweet in tweepy.Cursor(api.search, q=q, contained_within=cityID, wait_on_rate_limit=True, lang=\"en\").items(500):    \n",
    "        Kansas_City.append(tweet) "
   ]
  },
  {
   "cell_type": "code",
   "execution_count": 98,
   "metadata": {},
   "outputs": [],
   "source": [
    "#Laredo': '4fd63188b772fc62'\n",
    "cityID = '4fd63188b772fc62'\n",
    "for tweet in tweepy.Cursor(api.search, q=q, contained_within=cityID, wait_on_rate_limit=True, lang=\"en\").items(500):    \n",
    "        Laredo.append(tweet) "
   ]
  },
  {
   "cell_type": "code",
   "execution_count": 99,
   "metadata": {},
   "outputs": [],
   "source": [
    "#Las Vegas': '5c2b5e46ab891f07'\n",
    "cityID = '5c2b5e46ab891f07'\n",
    "for tweet in tweepy.Cursor(api.search, q=q, contained_within=cityID, wait_on_rate_limit=True, lang=\"en\").items(500):    \n",
    "        Las_Vegas.append(tweet) "
   ]
  },
  {
   "cell_type": "code",
   "execution_count": 100,
   "metadata": {},
   "outputs": [],
   "source": [
    "#Lexington-Fayette': '00ae272d6d0d28fe'\n",
    "cityID = '00ae272d6d0d28fe'\n",
    "for tweet in tweepy.Cursor(api.search, q=q, contained_within=cityID, wait_on_rate_limit=True, lang=\"en\").items(500):    \n",
    "        Lexington_Fayette.append(tweet) "
   ]
  },
  {
   "cell_type": "code",
   "execution_count": 101,
   "metadata": {},
   "outputs": [],
   "source": [
    "#Lincoln': '3af2a75dbeb10500'\n",
    "cityID = 'af2a75dbeb10500'\n",
    "for tweet in tweepy.Cursor(api.search, q=q, contained_within=cityID, wait_on_rate_limit=True, lang=\"en\").items(500):    \n",
    "        Lincoln.append(tweet) "
   ]
  },
  {
   "cell_type": "code",
   "execution_count": 102,
   "metadata": {},
   "outputs": [],
   "source": [
    "#Long Beach': '01c060cf466c6ce3'\n",
    "cityID = '01c060cf466c6ce3'\n",
    "for tweet in tweepy.Cursor(api.search, q=q, contained_within=cityID, wait_on_rate_limit=True, lang=\"en\").items(500):    \n",
    "        Long_Beach.append(tweet) "
   ]
  },
  {
   "cell_type": "code",
   "execution_count": 103,
   "metadata": {},
   "outputs": [],
   "source": [
    "#Los Angeles': '3b77caf94bfc81fe'\n",
    "cityID = '3b77caf94bfc81fe'\n",
    "for tweet in tweepy.Cursor(api.search, q=q, contained_within=cityID, wait_on_rate_limit=True, lang=\"en\").items(500):    \n",
    "        Los_Angeles.append(tweet) "
   ]
  },
  {
   "cell_type": "code",
   "execution_count": 104,
   "metadata": {},
   "outputs": [],
   "source": [
    "#'Louisville': '095534ad3107e0e6'\n",
    "cityID = '095534ad3107e0e6'\n",
    "for tweet in tweepy.Cursor(api.search, q=q, contained_within=cityID, wait_on_rate_limit=True, lang=\"en\").items(500):    \n",
    "        Louisville.append(tweet) "
   ]
  },
  {
   "cell_type": "code",
   "execution_count": 105,
   "metadata": {},
   "outputs": [],
   "source": [
    "#'Lubbock': '3f3f6803f117606d'\n",
    "cityID = '3f3f6803f117606d'\n",
    "for tweet in tweepy.Cursor(api.search, q=q, contained_within=cityID, wait_on_rate_limit=True, lang=\"en\").items(500):    \n",
    "        Lubbock.append(tweet) "
   ]
  },
  {
   "cell_type": "code",
   "execution_count": 107,
   "metadata": {},
   "outputs": [],
   "source": [
    "#'Madison': 'e67427d9b4126602'\n",
    "cityID = 'e67427d9b4126602'\n",
    "for tweet in tweepy.Cursor(api.search, q=q, contained_within=cityID, wait_on_rate_limit=True, lang=\"en\").items(500):    \n",
    "        Madison.append(tweet) "
   ]
  },
  {
   "cell_type": "code",
   "execution_count": 108,
   "metadata": {},
   "outputs": [],
   "source": [
    "#'Memphis': 'f995a9bd45d4a867'\n",
    "cityID = 'f995a9bd45d4a867'\n",
    "for tweet in tweepy.Cursor(api.search, q=q, contained_within=cityID, wait_on_rate_limit=True, lang=\"en\").items(500):    \n",
    "        Memphis.append(tweet) "
   ]
  },
  {
   "cell_type": "code",
   "execution_count": 109,
   "metadata": {},
   "outputs": [],
   "source": [
    "#'Mesa': '44d207663001f00b'\n",
    "cityID = '44d207663001f00b'\n",
    "for tweet in tweepy.Cursor(api.search, q=q, contained_within=cityID, wait_on_rate_limit=True, lang=\"en\").items(500):    \n",
    "        Mesa.append(tweet) "
   ]
  },
  {
   "cell_type": "code",
   "execution_count": 110,
   "metadata": {},
   "outputs": [],
   "source": [
    "#'Miami': '04cb31bae3b3af93'\n",
    "cityID = '04cb31bae3b3af93'\n",
    "for tweet in tweepy.Cursor(api.search, q=q, contained_within=cityID, wait_on_rate_limit=True, lang=\"en\").items(500):    \n",
    "        Miami.append(tweet) "
   ]
  },
  {
   "cell_type": "code",
   "execution_count": 111,
   "metadata": {},
   "outputs": [],
   "source": [
    "#'Milwaukee': '2a93711775303f90'\n",
    "cityID = '2a93711775303f90'\n",
    "for tweet in tweepy.Cursor(api.search, q=q, contained_within=cityID, wait_on_rate_limit=True, lang=\"en\").items(500):    \n",
    "        Milwaukee.append(tweet) "
   ]
  },
  {
   "cell_type": "code",
   "execution_count": 112,
   "metadata": {},
   "outputs": [],
   "source": [
    "#'Minneapolis': '8e9665cec9370f0f'\n",
    "cityID = '8e9665cec9370f0f'\n",
    "for tweet in tweepy.Cursor(api.search, q=q, contained_within=cityID, wait_on_rate_limit=True, lang=\"en\").items(500):    \n",
    "        Minneapolis.append(tweet) "
   ]
  },
  {
   "cell_type": "code",
   "execution_count": 113,
   "metadata": {},
   "outputs": [],
   "source": [
    "#'Modesto': 'e41805d7248dbf1e'\n",
    "cityID = 'e41805d7248dbf1e'\n",
    "for tweet in tweepy.Cursor(api.search, q=q, contained_within=cityID, wait_on_rate_limit=True, lang=\"en\").items(500):    \n",
    "        Modesto.append(tweet) "
   ]
  },
  {
   "cell_type": "code",
   "execution_count": 114,
   "metadata": {},
   "outputs": [],
   "source": [
    "#'Montgomery': '7f061ded71fdc974',\n",
    "cityID = '7f061ded71fdc974'\n",
    "for tweet in tweepy.Cursor(api.search, q=q, contained_within=cityID, wait_on_rate_limit=True, lang=\"en\").items(500):    \n",
    "        Montgomery.append(tweet) "
   ]
  },
  {
   "cell_type": "code",
   "execution_count": 115,
   "metadata": {},
   "outputs": [],
   "source": [
    "#'Nashville': '00ab941b685334e3'\n",
    "cityID = '00ab941b685334e3'\n",
    "for tweet in tweepy.Cursor(api.search, q=q, contained_within=cityID, wait_on_rate_limit=True, lang=\"en\").items(500):    \n",
    "        Nashville.append(tweet) "
   ]
  },
  {
   "cell_type": "code",
   "execution_count": 116,
   "metadata": {},
   "outputs": [],
   "source": [
    "#'New Orleans': 'dd3b100831dd1763'\n",
    "cityID = 'dd3b100831dd1763'\n",
    "for tweet in tweepy.Cursor(api.search, q=q, contained_within=cityID, wait_on_rate_limit=True, lang=\"en\").items(500):    \n",
    "        New_Orleans.append(tweet) "
   ]
  },
  {
   "cell_type": "code",
   "execution_count": 117,
   "metadata": {},
   "outputs": [],
   "source": [
    "#'New York': '27485069891a7938'\n",
    "cityID = '27485069891a7938'\n",
    "for tweet in tweepy.Cursor(api.search, q=q, contained_within=cityID, wait_on_rate_limit=True, lang=\"en\").items(500):    \n",
    "        New_York.append(tweet) "
   ]
  },
  {
   "cell_type": "code",
   "execution_count": 118,
   "metadata": {},
   "outputs": [],
   "source": [
    "#'Newark': 'fa3435044b52ecc7'\n",
    "cityID = 'fa3435044b52ecc7'\n",
    "for tweet in tweepy.Cursor(api.search, q=q, contained_within=cityID, wait_on_rate_limit=True, lang=\"en\").items(500):    \n",
    "        Newark.append(tweet) "
   ]
  },
  {
   "cell_type": "code",
   "execution_count": 119,
   "metadata": {},
   "outputs": [],
   "source": [
    "#'Norfolk': 'b004be67b9fd6d8f'\n",
    "cityID = 'b004be67b9fd6d8f'\n",
    "for tweet in tweepy.Cursor(api.search, q=q, contained_within=cityID, wait_on_rate_limit=True, lang=\"en\").items(500):    \n",
    "        Norfolk.append(tweet) "
   ]
  },
  {
   "cell_type": "code",
   "execution_count": 120,
   "metadata": {},
   "outputs": [],
   "source": [
    "#'Oakland': 'ab2f2fac83aa388d'\n",
    "cityID = 'ab2f2fac83aa388d'\n",
    "for tweet in tweepy.Cursor(api.search, q=q, contained_within=cityID, wait_on_rate_limit=True, lang=\"en\").items(500):    \n",
    "        Oakland.append(tweet) "
   ]
  },
  {
   "cell_type": "code",
   "execution_count": 121,
   "metadata": {},
   "outputs": [],
   "source": [
    "#'Oklahoma City': '9531d4e3bbafc09d'\n",
    "cityID = '9531d4e3bbafc09d'\n",
    "for tweet in tweepy.Cursor(api.search, q=q, contained_within=cityID, wait_on_rate_limit=True, lang=\"en\").items(500):    \n",
    "        Oklahoma_City.append(tweet) "
   ]
  },
  {
   "cell_type": "code",
   "execution_count": 122,
   "metadata": {},
   "outputs": [],
   "source": [
    "#'Omaha': 'a84b808ce3f11719'\n",
    "cityID = 'a84b808ce3f11719'\n",
    "for tweet in tweepy.Cursor(api.search, q=q, contained_within=cityID, wait_on_rate_limit=True, lang=\"en\").items(500):    \n",
    "        Omaha.append(tweet) "
   ]
  },
  {
   "cell_type": "code",
   "execution_count": 123,
   "metadata": {},
   "outputs": [],
   "source": [
    "#'Orlando': '55b4f9e5c516e0b6'\n",
    "cityID = '55b4f9e5c516e0b6'\n",
    "for tweet in tweepy.Cursor(api.search, q=q, contained_within=cityID, wait_on_rate_limit=True, lang=\"en\").items(500):    \n",
    "        Orlando.append(tweet) "
   ]
  },
  {
   "cell_type": "code",
   "execution_count": 124,
   "metadata": {},
   "outputs": [],
   "source": [
    "#'Philadelphia': 'e4a0d228eb6be76b'\n",
    "cityID = 'e4a0d228eb6be76b'\n",
    "for tweet in tweepy.Cursor(api.search, q=q, contained_within=cityID, wait_on_rate_limit=True, lang=\"en\").items(500):    \n",
    "        Philadelphia.append(tweet) "
   ]
  },
  {
   "cell_type": "code",
   "execution_count": 125,
   "metadata": {},
   "outputs": [],
   "source": [
    "#'Phoenix': '5c62ffb0f0f3479d'\n",
    "cityID ='5c62ffb0f0f3479d'\n",
    "for tweet in tweepy.Cursor(api.search, q=q, contained_within=cityID, wait_on_rate_limit=True, lang=\"en\").items(500):    \n",
    "        Phoenix.append(tweet) "
   ]
  },
  {
   "cell_type": "code",
   "execution_count": 126,
   "metadata": {},
   "outputs": [],
   "source": [
    "#'Pittsburgh': '946ccd22e1c9cda1'\n",
    "cityID = '946ccd22e1c9cda1'\n",
    "for tweet in tweepy.Cursor(api.search, q=q, contained_within=cityID, wait_on_rate_limit=True, lang=\"en\").items(500):    \n",
    "        Pittsburgh.append(tweet) "
   ]
  },
  {
   "cell_type": "code",
   "execution_count": 127,
   "metadata": {},
   "outputs": [],
   "source": [
    "#'Plano': '488da0de4c92ac8e'\n",
    "cityID = '488da0de4c92ac8e'\n",
    "for tweet in tweepy.Cursor(api.search, q=q, contained_within=cityID, wait_on_rate_limit=True, lang=\"en\").items(500):    \n",
    "        Plano.append(tweet) "
   ]
  },
  {
   "cell_type": "code",
   "execution_count": 128,
   "metadata": {},
   "outputs": [],
   "source": [
    "#'Portland': 'ac88a4f17a51c7fc'\n",
    "cityID = 'ac88a4f17a51c7fc'\n",
    "for tweet in tweepy.Cursor(api.search, q=q, contained_within=cityID, wait_on_rate_limit=True, lang=\"en\").items(500):    \n",
    "        Portland.append(tweet) "
   ]
  },
  {
   "cell_type": "code",
   "execution_count": 129,
   "metadata": {},
   "outputs": [],
   "source": [
    "#'Raleigh': '161d2f18e3a0445a'\n",
    "cityID = '161d2f18e3a0445a'\n",
    "for tweet in tweepy.Cursor(api.search, q=q, contained_within=cityID, wait_on_rate_limit=True, lang=\"en\").items(500):    \n",
    "        Raleigh.append(tweet) "
   ]
  },
  {
   "cell_type": "code",
   "execution_count": 130,
   "metadata": {},
   "outputs": [],
   "source": [
    "# 'Reno': '4b25aded08900fd8'\n",
    "cityID =  '4b25aded08900fd8'\n",
    "for tweet in tweepy.Cursor(api.search, q=q, contained_within=cityID, wait_on_rate_limit=True, lang=\"en\").items(500):    \n",
    "        Reno.append(tweet) "
   ]
  },
  {
   "cell_type": "code",
   "execution_count": 131,
   "metadata": {},
   "outputs": [],
   "source": [
    "#'Riverside': '6ba08e404aed471f',\n",
    "cityID = '6ba08e404aed471f'\n",
    "for tweet in tweepy.Cursor(api.search, q=q, contained_within=cityID, wait_on_rate_limit=True, lang=\"en\").items(500):    \n",
    "        Riverside.append(tweet) "
   ]
  },
  {
   "cell_type": "code",
   "execution_count": 132,
   "metadata": {},
   "outputs": [],
   "source": [
    "#'Rochester': '2409d5aabed47f79'\n",
    "cityID = '2409d5aabed47f79'\n",
    "for tweet in tweepy.Cursor(api.search, q=q, contained_within=cityID, wait_on_rate_limit=True, lang=\"en\").items(500):    \n",
    "        Rochester.append(tweet) "
   ]
  },
  {
   "cell_type": "code",
   "execution_count": 133,
   "metadata": {},
   "outputs": [],
   "source": [
    "#'Sacramento': 'b71fac2ee9792cbe'\n",
    "cityID = 'b71fac2ee9792cbe'\n",
    "for tweet in tweepy.Cursor(api.search, q=q, contained_within=cityID, wait_on_rate_limit=True, lang=\"en\").items(500):    \n",
    "        Sacramento.append(tweet) "
   ]
  },
  {
   "cell_type": "code",
   "execution_count": 134,
   "metadata": {},
   "outputs": [],
   "source": [
    "#'San Antonio': '3df4f427b5a60fea'\n",
    "cityID = '3df4f427b5a60fea'\n",
    "for tweet in tweepy.Cursor(api.search, q=q, contained_within=cityID, wait_on_rate_limit=True, lang=\"en\").items(500):    \n",
    "        San_Antonio.append(tweet) "
   ]
  },
  {
   "cell_type": "code",
   "execution_count": 135,
   "metadata": {},
   "outputs": [],
   "source": [
    "#'San Diego': 'a592bd6ceb1319f7'\n",
    "cityID = 'a592bd6ceb1319f7'\n",
    "for tweet in tweepy.Cursor(api.search, q=q, contained_within=cityID, wait_on_rate_limit=True, lang=\"en\").items(500):    \n",
    "        San_Diego.append(tweet) "
   ]
  },
  {
   "cell_type": "code",
   "execution_count": 136,
   "metadata": {},
   "outputs": [],
   "source": [
    "#'San Francisco': '5a110d312052166f'\n",
    "cityID =  '5a110d312052166f'\n",
    "for tweet in tweepy.Cursor(api.search, q=q, contained_within=cityID, wait_on_rate_limit=True, lang=\"en\").items(500):    \n",
    "        San_Francisco.append(tweet) "
   ]
  },
  {
   "cell_type": "code",
   "execution_count": 137,
   "metadata": {},
   "outputs": [],
   "source": [
    "#'San Jose': '7d62cffe6f98f349'\n",
    "cityID = '7d62cffe6f98f349'\n",
    "for tweet in tweepy.Cursor(api.search, q=q, contained_within=cityID, wait_on_rate_limit=True, lang=\"en\").items(500):    \n",
    "        San_Jose.append(tweet) "
   ]
  },
  {
   "cell_type": "code",
   "execution_count": 138,
   "metadata": {},
   "outputs": [],
   "source": [
    "#'Santa Ana': '0562e9e53cddf6ec'\n",
    "cityID = '0562e9e53cddf6ec'\n",
    "for tweet in tweepy.Cursor(api.search, q=q, contained_within=cityID, wait_on_rate_limit=True, lang=\"en\").items(500):    \n",
    "        Santa_Ana.append(tweet) "
   ]
  },
  {
   "cell_type": "code",
   "execution_count": 139,
   "metadata": {},
   "outputs": [],
   "source": [
    "#'Scottsdale': '0a0de7bd49ef942d'\n",
    "cityID = '0a0de7bd49ef942d'\n",
    "for tweet in tweepy.Cursor(api.search, q=q, contained_within=cityID, wait_on_rate_limit=True, lang=\"en\").items(500):    \n",
    "        Scottsdale.append(tweet) "
   ]
  },
  {
   "cell_type": "code",
   "execution_count": 140,
   "metadata": {},
   "outputs": [],
   "source": [
    "#'Seattle': '300bcc6e23a88361'\n",
    "cityID = '300bcc6e23a88361'\n",
    "for tweet in tweepy.Cursor(api.search, q=q, contained_within=cityID, wait_on_rate_limit=True, lang=\"en\").items(500):    \n",
    "        Seattle.append(tweet) "
   ]
  },
  {
   "cell_type": "code",
   "execution_count": 142,
   "metadata": {},
   "outputs": [],
   "source": [
    "# 'Shreveport': '4ec71fc3f2579572'\n",
    "cityID =  '4ec71fc3f2579572'\n",
    "for tweet in tweepy.Cursor(api.search, q=q, contained_within=cityID, wait_on_rate_limit=True, lang=\"en\").items(500):    \n",
    "         Shreveport.append(tweet) "
   ]
  },
  {
   "cell_type": "code",
   "execution_count": 143,
   "metadata": {},
   "outputs": [],
   "source": [
    "#'St. Louis': '0570f015c264cbd9',\n",
    "cityID = '0570f015c264cbd9'\n",
    "for tweet in tweepy.Cursor(api.search, q=q, contained_within=cityID, wait_on_rate_limit=True, lang=\"en\").items(500):    \n",
    "        St_Louis.append(tweet) "
   ]
  },
  {
   "cell_type": "code",
   "execution_count": 144,
   "metadata": {},
   "outputs": [],
   "source": [
    "#'St. Paul': '60e2c37980197297'\n",
    "cityID = '60e2c37980197297'\n",
    "for tweet in tweepy.Cursor(api.search, q=q, contained_within=cityID, wait_on_rate_limit=True, lang=\"en\").items(500):    \n",
    "        St_Paul.append(tweet) "
   ]
  },
  {
   "cell_type": "code",
   "execution_count": 145,
   "metadata": {},
   "outputs": [],
   "source": [
    "#'St. Petersburg': '5d231ed8656fcf5a'\n",
    "cityID = '5d231ed8656fcf5a'\n",
    "for tweet in tweepy.Cursor(api.search, q=q, contained_within=cityID, wait_on_rate_limit=True, lang=\"en\").items(500):    \n",
    "        St_Petersburg.append(tweet) "
   ]
  },
  {
   "cell_type": "code",
   "execution_count": 146,
   "metadata": {},
   "outputs": [],
   "source": [
    "#'Stockton': 'd98e7ce217ade2c5'\n",
    "cityID = 'd98e7ce217ade2c5'\n",
    "for tweet in tweepy.Cursor(api.search, q=q, contained_within=cityID, wait_on_rate_limit=True, lang=\"en\").items(500):    \n",
    "        Stockton.append(tweet) "
   ]
  },
  {
   "cell_type": "code",
   "execution_count": 147,
   "metadata": {},
   "outputs": [],
   "source": [
    "#'Tampa': 'dc62519fda13b4ec'\n",
    "cityID = 'dc62519fda13b4ec'\n",
    "for tweet in tweepy.Cursor(api.search, q=q, contained_within=cityID, wait_on_rate_limit=True, lang=\"en\").items(500):    \n",
    "        Tampa.append(tweet) "
   ]
  },
  {
   "cell_type": "code",
   "execution_count": 148,
   "metadata": {},
   "outputs": [],
   "source": [
    "#'Toledo': '7068dd9474ab6973'\n",
    "cityID = '7068dd9474ab6973'\n",
    "for tweet in tweepy.Cursor(api.search, q=q, contained_within=cityID, wait_on_rate_limit=True, lang=\"en\").items(500):    \n",
    "        Toledo.append(tweet) "
   ]
  },
  {
   "cell_type": "code",
   "execution_count": 149,
   "metadata": {},
   "outputs": [],
   "source": [
    "#'Tucson': '013379ee5729a5e6'\n",
    "cityID = '013379ee5729a5e6'\n",
    "for tweet in tweepy.Cursor(api.search, q=q, contained_within=cityID, wait_on_rate_limit=True, lang=\"en\").items(500):    \n",
    "        Tucson.append(tweet) "
   ]
  },
  {
   "cell_type": "code",
   "execution_count": 150,
   "metadata": {},
   "outputs": [],
   "source": [
    "#'Tulsa': 'cb74aaf709812e0f'\n",
    "cityID = 'cb74aaf709812e0f'\n",
    "for tweet in tweepy.Cursor(api.search, q=q, contained_within=cityID, wait_on_rate_limit=True, lang=\"en\").items(500):    \n",
    "        Tulsa.append(tweet) "
   ]
  },
  {
   "cell_type": "code",
   "execution_count": 151,
   "metadata": {},
   "outputs": [],
   "source": [
    "#'Virginia Beach': '84229b03659050aa'\n",
    "cityID = '84229b03659050aa'\n",
    "for tweet in tweepy.Cursor(api.search, q=q, contained_within=cityID, wait_on_rate_limit=True, lang=\"en\").items(500):    \n",
    "        Virginia_Beach.append(tweet) "
   ]
  },
  {
   "cell_type": "code",
   "execution_count": 152,
   "metadata": {},
   "outputs": [],
   "source": [
    "#'Washington': '01fbe706f872cb32'\n",
    "cityID = '01fbe706f872cb32'\n",
    "for tweet in tweepy.Cursor(api.search, q=q, contained_within=cityID, wait_on_rate_limit=True, lang=\"en\").items(500):    \n",
    "        Washington.append(tweet) "
   ]
  },
  {
   "cell_type": "code",
   "execution_count": 153,
   "metadata": {},
   "outputs": [],
   "source": [
    "#'Wichita': '1661ada9b2b18024'\n",
    "cityID = '1661ada9b2b18024'\n",
    "for tweet in tweepy.Cursor(api.search, q=q, contained_within=cityID, wait_on_rate_limit=True, lang=\"en\").items(500):    \n",
    "        Wichita.append(tweet) "
   ]
  },
  {
   "cell_type": "code",
   "execution_count": 259,
   "metadata": {},
   "outputs": [],
   "source": [
    "# function to convert the lists to DataFrames\n",
    "\n",
    "def toDataFrame(tweets):\n",
    "    #this function selects specific values/columns from the original JSON and adds them as DataFrame columns.\n",
    "    df = pd.DataFrame()\n",
    "    df['tweetID'] = [tweet.id for tweet in tweets]\n",
    "    df['tweetText'] = [tweet.text for tweet in tweets]\n",
    "    df['tweetRetweetCt'] = [tweet.retweet_count for tweet in tweets]\n",
    "    df['tweetFavoriteCt'] = [tweet.favorite_count for tweet in tweets]\n",
    "    df['tweetSource'] = [tweet.source for tweet in tweets]\n",
    "    df['tweetCreated'] = [tweet.created_at for tweet in tweets]\n",
    "    df['userID'] = [tweet.user.id for tweet in tweets]\n",
    "    df['userScreen'] = [tweet.user.screen_name for tweet in tweets]\n",
    "    df['userName'] = [tweet.user.name for tweet in tweets]\n",
    "    df['userCreateDt'] = [tweet.user.created_at for tweet in tweets]\n",
    "    df['userDesc'] = [tweet.user.description for tweet in tweets]\n",
    "    df['userFollowerCt'] = [tweet.user.followers_count for tweet in tweets]\n",
    "    df['userFollowingCt'] = [tweet.user.friends_count for tweet in tweets]\n",
    "    #df['userLocation'] = [tweet.user.location for tweet in tweets]\n",
    "    df['userTimezone'] = [tweet.user.time_zone for tweet in tweets]\n",
    "    df['coordinates'] = [tweet.coordinates for tweet in tweets]\n",
    "    df['geolocation'] = [tweet.geo for tweet in tweets]\n",
    "    df['place'] = [tweet.place for tweet in tweets]\n",
    "    return df\n"
   ]
  },
  {
   "cell_type": "code",
   "execution_count": 260,
   "metadata": {},
   "outputs": [],
   "source": [
    "# creating a DataFrame for each individual location\n",
    "\n",
    "Akrondf = toDataFrame(Akron)\n",
    "Albuquerquedf = toDataFrame(Albuquerque)\n",
    "Anaheimdf = toDataFrame(Anaheim)\n",
    "Anchoragedf = toDataFrame(Anchorage)\n",
    "Arlingtondf = toDataFrame(Arlington)\n",
    "Atlantadf = toDataFrame(Atlanta)\n",
    "Auroradf = toDataFrame(Aurora)\n",
    "Austindf = toDataFrame(Austin)\n",
    "Bakersfielddf = toDataFrame(Bakersfield)       \n",
    "Baltimoredf = toDataFrame(Baltimore)\n",
    "Baton_Rougedf = toDataFrame(Baton_Rouge)\n",
    "Birminghamdf = toDataFrame(Birmingham)\n",
    "Bostondf = toDataFrame(Boston)\n",
    "Buffalodf = toDataFrame(Buffalo)\n",
    "Chandlerdf = toDataFrame(Chandler)\n",
    "Charlottedf = toDataFrame(Charlotte)\n",
    "Chesapeakedf = toDataFrame(Chesapeake)\n",
    "Chicagodf = toDataFrame(Chicago)\n",
    "Chula_Vistadf = toDataFrame(Chula_Vista)\n",
    "Cincinnatidf = toDataFrame(Cincinnati)\n",
    "Clevelanddf = toDataFrame(Cleveland)\n",
    "Colorado_Springsdf = toDataFrame(Colorado_Springs)\n",
    "Columbusdf = toDataFrame(Columbus)\n",
    "Corpus_Christidf = toDataFrame(Corpus_Christi)\n",
    "Dallasdf = toDataFrame(Dallas)\n",
    "Denverdf = toDataFrame(Denver)\n",
    "Detroitdf = toDataFrame(Detroit)\n",
    "Durhamdf = toDataFrame(Durham)\n",
    "El_Pasodf = toDataFrame(El_Paso)\n",
    "Fort_Waynedf = toDataFrame(Fort_Wayne)\n",
    "Fort_Worthdf = toDataFrame(Fort_Worth)\n",
    "Fremontdf = toDataFrame(Fremont)\n",
    "Fresnodf = toDataFrame(Fresno)\n",
    "Garlanddf = toDataFrame(Garland)\n",
    "Glendaledf = toDataFrame(Glendale)\n",
    "Greensborodf = toDataFrame(Greensboro)\n",
    "Hendersondf = toDataFrame(Henderson)\n",
    "Hialeahdf = toDataFrame(Hialeah)\n",
    "Honoluludf = toDataFrame(Honolulu)\n",
    "Houstondf = toDataFrame(Houston)\n",
    "Indianapolisdf = toDataFrame(Indianapolis)\n",
    "Jacksonvilledf = toDataFrame(Jacksonville)\n",
    "Jersey_Citydf = toDataFrame(Jersey_City)\n",
    "Kansas_Citydf = toDataFrame(Kansas_City)\n",
    "Laredodf = toDataFrame(Laredo)\n",
    "Las_Vegasdf = toDataFrame(Las_Vegas)\n",
    "Lexington_Fayettedf = toDataFrame(Lexington_Fayette)\n",
    "Lincolndf = toDataFrame(Lincoln)\n",
    "Long_Beachdf = toDataFrame(Long_Beach)\n",
    "Los_Angelesdf = toDataFrame(Los_Angeles)\n",
    "Louisvilledf = toDataFrame(Louisville)\n",
    "Lubbockdf = toDataFrame(Lubbock)\n",
    "Madisondf = toDataFrame(Madison)\n",
    "Memphisdf = toDataFrame(Memphis)\n",
    "Mesadf = toDataFrame(Mesa)\n",
    "Miamidf = toDataFrame(Miami)\n",
    "Milwaukeedf = toDataFrame(Milwaukee)\n",
    "Minneapolisdf = toDataFrame(Minneapolis)\n",
    "Modestodf = toDataFrame(Modesto)\n",
    "Montgomerydf = toDataFrame(Montgomery)\n",
    "Nashvilledf = toDataFrame(Nashville)\n",
    "New_Orleansdf = toDataFrame(New_Orleans)\n",
    "New_Yorkdf = toDataFrame(New_York)\n",
    "Newarkdf = toDataFrame(Newark)\n",
    "Norfolkdf = toDataFrame(Norfolk)\n",
    "Oaklanddf = toDataFrame(Oakland)\n",
    "Oklahoma_Citydf = toDataFrame(Oklahoma_City)\n",
    "Omahadf = toDataFrame(Omaha)\n",
    "Orlandodf = toDataFrame(Orlando)\n",
    "Philadelphiadf = toDataFrame(Philadelphia)\n",
    "Phoenixdf = toDataFrame(Phoenix)\n",
    "Pittsburghdf = toDataFrame(Pittsburgh)\n",
    "Planodf = toDataFrame(Plano)\n",
    "Portlanddf = toDataFrame(Portland)\n",
    "Raleighdf = toDataFrame(Raleigh)\n",
    "Renodf = toDataFrame(Reno)\n",
    "Riversidedf = toDataFrame(Riverside)\n",
    "Rochesterdf = toDataFrame(Rochester)\n",
    "Sacramentodf = toDataFrame(Sacramento)\n",
    "San_Antoniodf = toDataFrame(San_Antonio)\n",
    "San_Diegodf = toDataFrame(San_Diego)\n",
    "San_Franciscodf = toDataFrame(San_Francisco)\n",
    "San_Josedf = toDataFrame(San_Jose)\n",
    "Santa_Anadf = toDataFrame(Santa_Ana)\n",
    "Scottsdaledf = toDataFrame(Scottsdale)\n",
    "Seattledf = toDataFrame(Seattle)\n",
    "Shreveportdf = toDataFrame(Shreveport)\n",
    "St_Louisdf = toDataFrame(St_Louis)\n",
    "St_Pauldf = toDataFrame(St_Paul)\n",
    "St_Petersburgdf = toDataFrame(St_Petersburg)\n",
    "Stocktondf = toDataFrame(Stockton)\n",
    "Tampadf = toDataFrame(Tampa)\n",
    "Toledodf = toDataFrame(Toledo)\n",
    "Tucsondf = toDataFrame(Tucson)\n",
    "Tulsadf = toDataFrame(Tulsa)\n",
    "Virginia_Beachdf = toDataFrame(Virginia_Beach)\n",
    "Washingtondf = toDataFrame(Washington)\n",
    "Wichitadf = toDataFrame(Wichita)"
   ]
  },
  {
   "cell_type": "code",
   "execution_count": 261,
   "metadata": {},
   "outputs": [],
   "source": [
    "# adding a column to each DataFrame to reflect the City\n",
    "\n",
    "Akrondf['cityname'] = 'Akron'\n",
    "Albuquerquedf['cityname'] = 'Albuquerque'\n",
    "Anaheimdf['cityname'] = 'Anaheim'\n",
    "Anchoragedf['cityname'] = 'Anchorage'\n",
    "Arlingtondf['cityname'] = 'Arlington'\n",
    "Atlantadf['cityname'] = 'Atlanta'\n",
    "Auroradf['cityname'] = 'Aurora'\n",
    "Austindf['cityname'] = 'Austin'\n",
    "Bakersfielddf['cityname'] = 'Bakersfield'      \n",
    "Baltimoredf['cityname'] = 'Baltimore'\n",
    "Baton_Rougedf['cityname'] = 'Baton Rouge'\n",
    "Birminghamdf['cityname'] = 'Birmingham'\n",
    "Bostondf['cityname'] = 'Boston'\n",
    "Buffalodf['cityname'] = 'Buffalo'\n",
    "Chandlerdf['cityname'] = 'Chandler'\n",
    "Charlottedf['cityname'] = 'Charlotte'\n",
    "Chesapeakedf['cityname'] = 'Chesapeake'\n",
    "Chicagodf['cityname'] = 'Chicago'\n",
    "Chula_Vistadf['cityname'] = 'Chula Vista'\n",
    "Cincinnatidf['cityname'] = 'Cincinnati'\n",
    "Clevelanddf['cityname'] = 'Cleveland'\n",
    "Colorado_Springsdf['cityname'] = 'Colorado Springs'\n",
    "Columbusdf['cityname'] = 'Columbus'\n",
    "Corpus_Christidf['cityname'] = 'Corpus Christi'\n",
    "Dallasdf['cityname'] = 'Dallas'\n",
    "Denverdf['cityname'] = 'Denver'\n",
    "Detroitdf['cityname'] = 'Detroit'\n",
    "Durhamdf['cityname'] = 'Durham'\n",
    "El_Pasodf['cityname'] = 'El_Paso'\n",
    "Fort_Waynedf['cityname'] = 'Fort Wayne'\n",
    "Fort_Worthdf['cityname'] = 'Fort Worth'\n",
    "Fremontdf['cityname'] = 'Fremont'\n",
    "Fresnodf['cityname'] = 'Fresno'\n",
    "Garlanddf['cityname'] = 'Garland'\n",
    "Glendaledf['cityname'] = 'Glendale'\n",
    "Greensborodf['cityname'] = 'Greensboro'\n",
    "Hendersondf['cityname'] = 'Henderson'\n",
    "Hialeahdf['cityname'] = 'Hialeah'\n",
    "Honoluludf['cityname'] = 'Honolulu'\n",
    "Houstondf['cityname'] = 'Houston'\n",
    "Indianapolisdf['cityname'] = 'Indianapolis'\n",
    "Jacksonvilledf['cityname'] = 'Jacksonville'\n",
    "Jersey_Citydf['cityname'] = 'Jersey City'\n",
    "Kansas_Citydf['cityname'] = 'Kansas City'\n",
    "Laredodf['cityname'] = 'Laredo'\n",
    "Las_Vegasdf['cityname'] = 'Las Vegas'\n",
    "Lexington_Fayettedf['cityname'] = 'Lexington-Fayette'\n",
    "Lincolndf['cityname'] = 'Lincoln'\n",
    "Long_Beachdf['cityname'] = 'Long Beach'\n",
    "Los_Angelesdf['cityname'] = 'Los Angeles'\n",
    "Louisvilledf['cityname'] = 'Louisville'\n",
    "Lubbockdf['cityname'] = 'Lubbock'\n",
    "Madisondf['cityname'] = 'Madison'\n",
    "Memphisdf['cityname'] = 'Memphis'\n",
    "Mesadf['cityname'] = 'Mesa'\n",
    "Miamidf['cityname'] = 'Miami'\n",
    "Milwaukeedf['cityname'] = 'Milwaukee'\n",
    "Minneapolisdf['cityname'] = 'Minneapolis'\n",
    "Modestodf['cityname'] ='Modesto'\n",
    "Montgomerydf['cityname'] = 'Montgomery'\n",
    "Nashvilledf['cityname'] = 'Nashville'\n",
    "New_Orleansdf['cityname'] = 'New Orleans'\n",
    "New_Yorkdf['cityname'] = 'New York'\n",
    "Newarkdf['cityname'] = 'Newark'\n",
    "Norfolkdf['cityname'] = 'Norfolk'\n",
    "Oaklanddf['cityname'] = 'Oakland'\n",
    "Oklahoma_Citydf['cityname'] = 'Oklahoma City'\n",
    "Omahadf['cityname'] = 'Omaha'\n",
    "Orlandodf['cityname'] = 'Orlando'\n",
    "Philadelphiadf['cityname'] = 'Philadelphia'\n",
    "Phoenixdf['cityname'] = 'Phoenix'\n",
    "Pittsburghdf['cityname'] = 'Pittsburgh'\n",
    "Planodf['cityname'] = 'Plano'\n",
    "Portlanddf['cityname'] = 'Portland'\n",
    "Raleighdf['cityname'] = 'Raleigh'\n",
    "Renodf['cityname'] = 'Reno'\n",
    "Riversidedf['cityname'] = 'Riverside'\n",
    "Rochesterdf['cityname'] = 'Rochester'\n",
    "Sacramentodf['cityname'] = 'Sacramento'\n",
    "San_Antoniodf['cityname'] = 'San Antonio'\n",
    "San_Diegodf['cityname'] = 'San Diego'\n",
    "San_Franciscodf['cityname'] = 'San Francisco'\n",
    "San_Josedf['cityname'] = 'San Jose'\n",
    "Santa_Anadf['cityname'] = 'Santa Ana'\n",
    "Scottsdaledf['cityname'] = 'Scottsdale'\n",
    "Seattledf['cityname'] = 'Seattle'\n",
    "Shreveportdf['cityname'] = 'Shreveport'\n",
    "St_Louisdf['cityname'] = 'St. Louis'\n",
    "St_Pauldf['cityname'] = 'St. Paul'\n",
    "St_Petersburgdf['cityname'] = 'St. Petersburg'\n",
    "Stocktondf['cityname'] = 'Stockton'\n",
    "Tampadf['cityname'] = 'Tampa'\n",
    "Toledodf['cityname'] = 'Toledo'\n",
    "Tucsondf['cityname'] = 'Tucson'\n",
    "Tulsadf['cityname'] = 'Tulsa'\n",
    "Virginia_Beachdf['cityname'] = 'Virginia Beach'\n",
    "Washingtondf['cityname'] = 'Washington'\n",
    "Wichitadf['cityname'] = 'Wichita'"
   ]
  },
  {
   "cell_type": "code",
   "execution_count": 262,
   "metadata": {},
   "outputs": [],
   "source": [
    "# adding a column to each DataFrame to reflect the State\n",
    "\n",
    "Akrondf['statename'] = 'Ohio'\n",
    "Albuquerquedf['statename'] = 'New Mexico'\n",
    "Anaheimdf['statename'] = 'California'\n",
    "Anchoragedf['statename'] = 'Alaska'\n",
    "Arlingtondf['statename'] = 'Texas'\n",
    "Atlantadf['statename'] = 'Georgia'\n",
    "Auroradf['statename'] = 'Colorado'\n",
    "Austindf['statename'] = 'Texas'\n",
    "Bakersfielddf['statename'] = 'California'      \n",
    "Baltimoredf['statename'] = 'Maryland'\n",
    "Baton_Rougedf['statename'] = 'Louisiana'\n",
    "Birminghamdf['statename'] = 'Alabama'\n",
    "Bostondf['statename'] = 'Massachusetts'\n",
    "Buffalodf['statename'] = 'New York'\n",
    "Chandlerdf['statename'] = 'Arizona'\n",
    "Charlottedf['statename'] = 'North Carolina'\n",
    "Chesapeakedf['statename'] = 'Virginia'\n",
    "Chicagodf['statename'] = 'Illinois'\n",
    "Chula_Vistadf['statename'] = 'California'\n",
    "Cincinnatidf['statename'] = 'Ohio'\n",
    "Clevelanddf['statename'] = 'Ohio'\n",
    "Colorado_Springsdf['statename'] = 'Colorado'\n",
    "Columbusdf['statename'] = 'Ohio'\n",
    "Corpus_Christidf['statename'] = 'Texas'\n",
    "Dallasdf['statename'] = 'Texas'\n",
    "Denverdf['statename'] = 'Colorado'\n",
    "Detroitdf['statename'] = 'Michigan'\n",
    "Durhamdf['statename'] = 'North Carolina'\n",
    "El_Pasodf['statename'] = 'Texas'\n",
    "Fort_Waynedf['statename'] = 'Indiana'\n",
    "Fort_Worthdf['statename'] = 'Texas'\n",
    "Fremontdf['statename'] = 'California'\n",
    "Fresnodf['statename'] = 'California'\n",
    "Garlanddf['statename'] = 'Texas'\n",
    "Glendaledf['statename'] = 'Arizona'\n",
    "Greensborodf['statename'] = 'North Carolina'\n",
    "Hendersondf['statename'] = 'Nevada'\n",
    "Hialeahdf['statename'] = 'Florida'\n",
    "Honoluludf['statename'] = 'Hawaii'\n",
    "Houstondf['statename'] = 'Texas'\n",
    "Indianapolisdf['statename'] = 'Indianapolis'\n",
    "Jacksonvilledf['statename'] = 'Florida'\n",
    "Jersey_Citydf['statename'] = 'New Jersey'\n",
    "Kansas_Citydf['statename'] = 'Missouri'\n",
    "Laredodf['statename'] = 'Texas'\n",
    "Las_Vegasdf['statename'] = 'Nevada'\n",
    "Lexington_Fayettedf['statename'] = 'Kentucky'\n",
    "Lincolndf['statename'] = 'Nebraska'\n",
    "Long_Beachdf['statename'] = 'California'\n",
    "Los_Angelesdf['statename'] = 'California'\n",
    "Louisvilledf['statename'] = 'Kentucky'\n",
    "Lubbockdf['statename'] = 'Texas'\n",
    "Madisondf['statename'] = 'Wisconsin'\n",
    "Memphisdf['statename'] = 'Tennessee'\n",
    "Mesadf['statename'] = 'Arizona'\n",
    "Miamidf['statename'] = 'Florida'\n",
    "Milwaukeedf['statename'] = 'Wisconsin'\n",
    "Minneapolisdf['statename'] = 'Minnesota'\n",
    "Modestodf['statename'] = 'California'\n",
    "Montgomerydf['statename'] = 'Alabama'\n",
    "Nashvilledf['statename'] = 'Tennessee'\n",
    "New_Orleansdf['statename'] = 'Louisiana'\n",
    "New_Yorkdf['statename'] = 'New York'\n",
    "Newarkdf['statename'] = 'New Jersey'\n",
    "Norfolkdf['statename'] = 'Virginia'\n",
    "Oaklanddf['statename'] = 'California'\n",
    "Oklahoma_Citydf['statename'] = 'Oklahoma'\n",
    "Omahadf['statename'] = 'Nebraska'\n",
    "Orlandodf['statename'] = 'Florida'\n",
    "Philadelphiadf['statename'] = 'Pennsylvania'\n",
    "Phoenixdf['statename'] = 'Arizona'\n",
    "Pittsburghdf['statename'] = 'Pennsylvania'\n",
    "Planodf['statename'] = 'Texas'\n",
    "Portlanddf['statename'] = 'Oregon'\n",
    "Raleighdf['statename'] = 'North Carolina'\n",
    "Renodf['statename'] = 'Nevada'\n",
    "Riversidedf['statename'] = 'California'\n",
    "Rochesterdf['statename'] = 'New York'\n",
    "Sacramentodf['statename'] = 'California'\n",
    "San_Antoniodf['statename'] = 'Texas'\n",
    "San_Diegodf['statename'] = 'California'\n",
    "San_Franciscodf['statename'] = 'California'\n",
    "San_Josedf['statename'] = 'California'\n",
    "Santa_Anadf['statename'] = 'California'\n",
    "Scottsdaledf['statename'] = 'Arizona'\n",
    "Seattledf['statename'] = 'Washington'\n",
    "Shreveportdf['statename'] = 'Louisiana'\n",
    "St_Louisdf['statename'] = 'Missouri'\n",
    "St_Pauldf['statename'] = 'Minnesota'\n",
    "St_Petersburgdf['statename'] = 'Florida'\n",
    "Stocktondf['statename'] = 'California'\n",
    "Tampadf['statename'] = 'Florida'\n",
    "Toledodf['statename'] = 'Ohio'\n",
    "Tucsondf['statename'] = 'Arizona'\n",
    "Tulsadf['statename'] = 'Oklahoma'\n",
    "Virginia_Beachdf['statename'] = 'Virginia'\n",
    "Washingtondf['statename'] = 'District of Columbia'\n",
    "Wichitadf['statename'] = 'Kansas'"
   ]
  },
  {
   "cell_type": "code",
   "execution_count": 263,
   "metadata": {},
   "outputs": [],
   "source": [
    "# adding a column to each DataFrame to reflect the Region\n",
    "\n",
    "Akrondf['region'] = 'Midwest'\n",
    "Albuquerquedf['region'] = 'West'\n",
    "Anaheimdf['region'] = 'West'\n",
    "Anchoragedf['region'] = 'West'\n",
    "Arlingtondf['region'] = 'South'\n",
    "Atlantadf['region'] = 'South'\n",
    "Auroradf['region'] = 'West'\n",
    "Austindf['region'] = 'South'\n",
    "Bakersfielddf['region'] = 'West'      \n",
    "Baltimoredf['region'] = 'Northeast'\n",
    "Baton_Rougedf['region'] = 'South'\n",
    "Birminghamdf['region'] = 'South'\n",
    "Bostondf['region'] = 'Northeast'\n",
    "Buffalodf['region'] = 'Northeast'\n",
    "Chandlerdf['region'] = 'West'\n",
    "Charlottedf['region'] = 'South'\n",
    "Chesapeakedf['region'] = 'South'\n",
    "Chicagodf['region'] = 'Northeast'\n",
    "Chula_Vistadf['region'] = 'West'\n",
    "Cincinnatidf['region'] = 'Midwest'\n",
    "Clevelanddf['region'] = 'Midwest'\n",
    "Colorado_Springsdf['region'] = 'West'\n",
    "Columbusdf['region'] = 'Northeast'\n",
    "Corpus_Christidf['region'] = 'South'\n",
    "Dallasdf['region'] = 'South'\n",
    "Denverdf['region'] = 'West'\n",
    "Detroitdf['region'] = 'Midwest'\n",
    "Durhamdf['region'] = 'South'\n",
    "El_Pasodf['region'] = 'South'\n",
    "Fort_Waynedf['region'] = 'Midwest'\n",
    "Fort_Worthdf['region'] = 'South'\n",
    "Fremontdf['region'] = 'West'\n",
    "Fresnodf['region'] = 'West'\n",
    "Garlanddf['region'] = 'South'\n",
    "Glendaledf['region'] = 'West'\n",
    "Greensborodf['region'] = 'South'\n",
    "Hendersondf['region'] = 'West'\n",
    "Hialeahdf['region'] = 'South'\n",
    "Honoluludf['region'] = 'West'\n",
    "Houstondf['region'] = 'South'\n",
    "Indianapolisdf['region'] = 'Midwest'\n",
    "Jacksonvilledf['region'] = 'South'\n",
    "Jersey_Citydf['region'] = 'Northeast'\n",
    "Kansas_Citydf['region'] = 'Midwest'\n",
    "Laredodf['region'] = 'South'\n",
    "Las_Vegasdf['region'] = 'West'\n",
    "Lexington_Fayettedf['region'] = 'South'\n",
    "Lincolndf['region'] = 'Midwest'\n",
    "Long_Beachdf['region'] = 'West'\n",
    "Los_Angelesdf['region'] = 'West'\n",
    "Louisvilledf['region'] = 'South'\n",
    "Lubbockdf['region'] = 'South'\n",
    "Madisondf['region'] = 'Midwest'\n",
    "Memphisdf['region'] = 'South'\n",
    "Mesadf['region'] = 'West'\n",
    "Miamidf['region'] = 'South'\n",
    "Milwaukeedf['region'] = 'Midwest'\n",
    "Minneapolisdf['region'] = 'Midwest'\n",
    "Modestodf['region'] = 'West'\n",
    "Montgomerydf['region'] = 'South'\n",
    "Nashvilledf['region'] = 'South'\n",
    "New_Orleansdf['region'] = 'South'\n",
    "New_Yorkdf['region'] = 'Northeast'\n",
    "Newarkdf['region'] = 'Northeast'\n",
    "Norfolkdf['region'] = 'South'\n",
    "Oaklanddf['region'] = 'West'\n",
    "Oklahoma_Citydf['region'] = 'South'\n",
    "Omahadf['region'] = 'Midwest'\n",
    "Orlandodf['region'] = 'South'\n",
    "Philadelphiadf['region'] = 'Northeast'\n",
    "Phoenixdf['region'] = 'West'\n",
    "Pittsburghdf['region'] = 'Northeast'\n",
    "Planodf['region'] = 'South'\n",
    "Portlanddf['region'] = 'West'\n",
    "Raleighdf['region'] = 'South'\n",
    "Renodf['region'] = 'West'\n",
    "Riversidedf['region'] = 'West'\n",
    "Rochesterdf['region'] = 'Northeast'\n",
    "Sacramentodf['region'] = 'West'\n",
    "San_Antoniodf['region'] = 'South'\n",
    "San_Diegodf['region'] = 'West'\n",
    "San_Franciscodf['region'] = 'West'\n",
    "San_Josedf['region'] = 'West'\n",
    "Santa_Anadf['region'] = 'West'\n",
    "Scottsdaledf['region'] = 'West'\n",
    "Seattledf['region'] = 'West'\n",
    "Shreveportdf['region'] = 'South'\n",
    "St_Louisdf['region'] = 'Midwest'\n",
    "St_Pauldf['region'] = 'Midwest'\n",
    "St_Petersburgdf['region'] = 'South'\n",
    "Stocktondf['region'] = 'West'\n",
    "Tampadf['region'] = 'South'\n",
    "Toledodf['region'] = 'Midwest'\n",
    "Tucsondf['region'] = 'West'\n",
    "Tulsadf['region'] = 'South'\n",
    "Virginia_Beachdf['region'] = 'South'\n",
    "Washingtondf['region'] = 'Northeast'\n",
    "Wichitadf['region'] = 'Midwest'"
   ]
  },
  {
   "cell_type": "code",
   "execution_count": 264,
   "metadata": {},
   "outputs": [],
   "source": [
    "fulldf = pd.concat([Akrondf, Albuquerquedf, Anaheimdf, Anchoragedf, Arlingtondf, Atlantadf, Auroradf, Austindf, Bakersfielddf, Baltimoredf, Baton_Rougedf, Birminghamdf, Bostondf, Buffalodf, Chandlerdf, Charlottedf, Chesapeakedf, Chicagodf, Chula_Vistadf, Cincinnatidf, Clevelanddf, Colorado_Springsdf, Columbusdf, Corpus_Christidf, Dallasdf, Denverdf, Detroitdf, Durhamdf, El_Pasodf, Fort_Waynedf, Fort_Worthdf, Fremontdf, Fresnodf, Garlanddf, Glendaledf, Greensborodf, Hendersondf, Hialeahdf, Honoluludf, Houstondf, Indianapolisdf, Jacksonvilledf, Jersey_Citydf, Kansas_Citydf, Laredodf, Las_Vegasdf, Lexington_Fayettedf, Lincolndf, Long_Beachdf, Los_Angelesdf, Louisvilledf, Lubbockdf, Madisondf, Memphisdf, Mesadf, Miamidf, Milwaukeedf, Minneapolisdf, Modestodf, Montgomerydf, Nashvilledf, New_Orleansdf, New_Yorkdf, Newarkdf, Norfolkdf, Oaklanddf, Oklahoma_Citydf, Omahadf, Orlandodf, Philadelphiadf, Phoenixdf, Pittsburghdf, Planodf, Portlanddf, Raleighdf, Renodf, Riversidedf, Rochesterdf, Sacramentodf, San_Antoniodf, San_Diegodf, San_Franciscodf, San_Josedf, Santa_Anadf, Scottsdaledf, Seattledf, Shreveportdf, St_Louisdf, St_Pauldf, St_Petersburgdf, Stocktondf, Tampadf, Toledodf, Tucsondf, Tulsadf, Virginia_Beachdf, Washingtondf, Wichitadf])"
   ]
  },
  {
   "cell_type": "code",
   "execution_count": 265,
   "metadata": {},
   "outputs": [],
   "source": [
    "# Saving the DataFrame as a .csv file.\n",
    "\n",
    "fulldf.to_csv('FullResults.csv', encoding='utf-8', index=False)"
   ]
  },
  {
   "cell_type": "code",
   "execution_count": 267,
   "metadata": {},
   "outputs": [
    {
     "data": {
      "text/html": [
       "<div>\n",
       "<style scoped>\n",
       "    .dataframe tbody tr th:only-of-type {\n",
       "        vertical-align: middle;\n",
       "    }\n",
       "\n",
       "    .dataframe tbody tr th {\n",
       "        vertical-align: top;\n",
       "    }\n",
       "\n",
       "    .dataframe thead th {\n",
       "        text-align: right;\n",
       "    }\n",
       "</style>\n",
       "<table border=\"1\" class=\"dataframe\">\n",
       "  <thead>\n",
       "    <tr style=\"text-align: right;\">\n",
       "      <th></th>\n",
       "      <th>tweetID</th>\n",
       "      <th>tweetRetweetCt</th>\n",
       "      <th>tweetFavoriteCt</th>\n",
       "      <th>userID</th>\n",
       "      <th>userFollowerCt</th>\n",
       "      <th>userFollowingCt</th>\n",
       "    </tr>\n",
       "  </thead>\n",
       "  <tbody>\n",
       "    <tr>\n",
       "      <th>count</th>\n",
       "      <td>4.900000e+04</td>\n",
       "      <td>49000.000000</td>\n",
       "      <td>49000.000000</td>\n",
       "      <td>4.900000e+04</td>\n",
       "      <td>4.900000e+04</td>\n",
       "      <td>49000.000000</td>\n",
       "    </tr>\n",
       "    <tr>\n",
       "      <th>mean</th>\n",
       "      <td>1.016833e+18</td>\n",
       "      <td>759.184531</td>\n",
       "      <td>0.384020</td>\n",
       "      <td>2.289858e+17</td>\n",
       "      <td>3.334917e+03</td>\n",
       "      <td>1983.962898</td>\n",
       "    </tr>\n",
       "    <tr>\n",
       "      <th>std</th>\n",
       "      <td>1.741703e+13</td>\n",
       "      <td>928.344405</td>\n",
       "      <td>17.177461</td>\n",
       "      <td>3.806919e+17</td>\n",
       "      <td>3.297735e+04</td>\n",
       "      <td>5273.180148</td>\n",
       "    </tr>\n",
       "    <tr>\n",
       "      <th>min</th>\n",
       "      <td>1.016789e+18</td>\n",
       "      <td>0.000000</td>\n",
       "      <td>0.000000</td>\n",
       "      <td>1.337371e+06</td>\n",
       "      <td>0.000000e+00</td>\n",
       "      <td>0.000000</td>\n",
       "    </tr>\n",
       "    <tr>\n",
       "      <th>25%</th>\n",
       "      <td>1.016820e+18</td>\n",
       "      <td>436.000000</td>\n",
       "      <td>0.000000</td>\n",
       "      <td>1.075637e+08</td>\n",
       "      <td>1.320000e+02</td>\n",
       "      <td>243.000000</td>\n",
       "    </tr>\n",
       "    <tr>\n",
       "      <th>50%</th>\n",
       "      <td>1.016827e+18</td>\n",
       "      <td>565.000000</td>\n",
       "      <td>0.000000</td>\n",
       "      <td>7.606536e+08</td>\n",
       "      <td>3.660000e+02</td>\n",
       "      <td>582.000000</td>\n",
       "    </tr>\n",
       "    <tr>\n",
       "      <th>75%</th>\n",
       "      <td>1.016843e+18</td>\n",
       "      <td>645.000000</td>\n",
       "      <td>0.000000</td>\n",
       "      <td>7.253859e+17</td>\n",
       "      <td>1.347000e+03</td>\n",
       "      <td>1639.000000</td>\n",
       "    </tr>\n",
       "    <tr>\n",
       "      <th>max</th>\n",
       "      <td>1.016910e+18</td>\n",
       "      <td>13041.000000</td>\n",
       "      <td>986.000000</td>\n",
       "      <td>1.016821e+18</td>\n",
       "      <td>1.498693e+06</td>\n",
       "      <td>101446.000000</td>\n",
       "    </tr>\n",
       "  </tbody>\n",
       "</table>\n",
       "</div>"
      ],
      "text/plain": [
       "            tweetID  tweetRetweetCt  tweetFavoriteCt        userID  \\\n",
       "count  4.900000e+04    49000.000000     49000.000000  4.900000e+04   \n",
       "mean   1.016833e+18      759.184531         0.384020  2.289858e+17   \n",
       "std    1.741703e+13      928.344405        17.177461  3.806919e+17   \n",
       "min    1.016789e+18        0.000000         0.000000  1.337371e+06   \n",
       "25%    1.016820e+18      436.000000         0.000000  1.075637e+08   \n",
       "50%    1.016827e+18      565.000000         0.000000  7.606536e+08   \n",
       "75%    1.016843e+18      645.000000         0.000000  7.253859e+17   \n",
       "max    1.016910e+18    13041.000000       986.000000  1.016821e+18   \n",
       "\n",
       "       userFollowerCt  userFollowingCt  \n",
       "count    4.900000e+04     49000.000000  \n",
       "mean     3.334917e+03      1983.962898  \n",
       "std      3.297735e+04      5273.180148  \n",
       "min      0.000000e+00         0.000000  \n",
       "25%      1.320000e+02       243.000000  \n",
       "50%      3.660000e+02       582.000000  \n",
       "75%      1.347000e+03      1639.000000  \n",
       "max      1.498693e+06    101446.000000  "
      ]
     },
     "execution_count": 267,
     "metadata": {},
     "output_type": "execute_result"
    }
   ],
   "source": [
    "fulldf.describe()"
   ]
  },
  {
   "cell_type": "code",
   "execution_count": 268,
   "metadata": {},
   "outputs": [
    {
     "name": "stdout",
     "output_type": "stream",
     "text": [
      "<class 'pandas.core.frame.DataFrame'>\n",
      "Int64Index: 49000 entries, 0 to 499\n",
      "Data columns (total 20 columns):\n",
      "tweetID            49000 non-null int64\n",
      "tweetText          49000 non-null object\n",
      "tweetRetweetCt     49000 non-null int64\n",
      "tweetFavoriteCt    49000 non-null int64\n",
      "tweetSource        49000 non-null object\n",
      "tweetCreated       49000 non-null datetime64[ns]\n",
      "userID             49000 non-null int64\n",
      "userScreen         49000 non-null object\n",
      "userName           49000 non-null object\n",
      "userCreateDt       49000 non-null datetime64[ns]\n",
      "userDesc           49000 non-null object\n",
      "userFollowerCt     49000 non-null int64\n",
      "userFollowingCt    49000 non-null int64\n",
      "userTimezone       0 non-null object\n",
      "coordinates        0 non-null object\n",
      "geolocation        0 non-null object\n",
      "place              146 non-null object\n",
      "cityname           49000 non-null object\n",
      "statename          49000 non-null object\n",
      "region             49000 non-null object\n",
      "dtypes: datetime64[ns](2), int64(6), object(12)\n",
      "memory usage: 7.9+ MB\n"
     ]
    }
   ],
   "source": [
    "fulldf.info()"
   ]
  },
  {
   "cell_type": "markdown",
   "metadata": {},
   "source": [
    "### Sentiment analysis"
   ]
  },
  {
   "cell_type": "code",
   "execution_count": 269,
   "metadata": {},
   "outputs": [],
   "source": [
    "def clean_tweet(tweet):\n",
    "    # a function that cleans the text of each tweet by removing removing links and special characters using regex.\n",
    "    return ' '.join(re.sub(\"(@[A-Za-z0-9]+)|([^0-9A-Za-z \\t])|(\\w+:\\/\\/\\S+)\", \" \", tweet).split())\n"
   ]
  },
  {
   "cell_type": "code",
   "execution_count": 270,
   "metadata": {},
   "outputs": [],
   "source": [
    "def sentiment(tweet):\n",
    "    # a function to analyze the sentiment of each tweet using textblob\n",
    "    analysis = TextBlob(clean_tweet(tweet))\n",
    "    if analysis.sentiment.polarity > 0:\n",
    "        return 'positive'\n",
    "    elif analysis.sentiment.polarity == 0:\n",
    "        return 'netural'\n",
    "    else:\n",
    "        return 'negative'"
   ]
  },
  {
   "cell_type": "code",
   "execution_count": 271,
   "metadata": {},
   "outputs": [],
   "source": [
    "# creat a new column in our DataFrame with the sentiment\n",
    "fulldf['sentiment'] = np.array([sentiment(tweet) for tweet in fulldf['tweetText'] ])"
   ]
  },
  {
   "cell_type": "code",
   "execution_count": 272,
   "metadata": {},
   "outputs": [
    {
     "data": {
      "text/html": [
       "<div>\n",
       "<style scoped>\n",
       "    .dataframe tbody tr th:only-of-type {\n",
       "        vertical-align: middle;\n",
       "    }\n",
       "\n",
       "    .dataframe tbody tr th {\n",
       "        vertical-align: top;\n",
       "    }\n",
       "\n",
       "    .dataframe thead th {\n",
       "        text-align: right;\n",
       "    }\n",
       "</style>\n",
       "<table border=\"1\" class=\"dataframe\">\n",
       "  <thead>\n",
       "    <tr style=\"text-align: right;\">\n",
       "      <th></th>\n",
       "      <th>tweetID</th>\n",
       "      <th>tweetText</th>\n",
       "      <th>tweetRetweetCt</th>\n",
       "      <th>tweetFavoriteCt</th>\n",
       "      <th>tweetSource</th>\n",
       "      <th>tweetCreated</th>\n",
       "      <th>userID</th>\n",
       "      <th>userScreen</th>\n",
       "      <th>userName</th>\n",
       "      <th>userCreateDt</th>\n",
       "      <th>...</th>\n",
       "      <th>userFollowerCt</th>\n",
       "      <th>userFollowingCt</th>\n",
       "      <th>userTimezone</th>\n",
       "      <th>coordinates</th>\n",
       "      <th>geolocation</th>\n",
       "      <th>place</th>\n",
       "      <th>cityname</th>\n",
       "      <th>statename</th>\n",
       "      <th>region</th>\n",
       "      <th>sentiment</th>\n",
       "    </tr>\n",
       "  </thead>\n",
       "  <tbody>\n",
       "    <tr>\n",
       "      <th>0</th>\n",
       "      <td>1016910166082678785</td>\n",
       "      <td>RT @ACLU: A federal judge gave Trump 14 days t...</td>\n",
       "      <td>685</td>\n",
       "      <td>0</td>\n",
       "      <td>Twitter for Android</td>\n",
       "      <td>2018-07-11 05:00:51</td>\n",
       "      <td>3344953703</td>\n",
       "      <td>clbauthor</td>\n",
       "      <td>C.L. Bluestein</td>\n",
       "      <td>2015-06-25 02:10:02</td>\n",
       "      <td>...</td>\n",
       "      <td>494</td>\n",
       "      <td>943</td>\n",
       "      <td>None</td>\n",
       "      <td>None</td>\n",
       "      <td>None</td>\n",
       "      <td>None</td>\n",
       "      <td>Akron</td>\n",
       "      <td>Ohio</td>\n",
       "      <td>Midwest</td>\n",
       "      <td>netural</td>\n",
       "    </tr>\n",
       "    <tr>\n",
       "      <th>1</th>\n",
       "      <td>1016909921856651264</td>\n",
       "      <td>RT @EdKrassen: Trump just said that the soluti...</td>\n",
       "      <td>1956</td>\n",
       "      <td>0</td>\n",
       "      <td>Twitter Web Client</td>\n",
       "      <td>2018-07-11 04:59:53</td>\n",
       "      <td>816539774458753024</td>\n",
       "      <td>StottCitizen</td>\n",
       "      <td>Libby Stott</td>\n",
       "      <td>2017-01-04 07:00:27</td>\n",
       "      <td>...</td>\n",
       "      <td>330</td>\n",
       "      <td>520</td>\n",
       "      <td>None</td>\n",
       "      <td>None</td>\n",
       "      <td>None</td>\n",
       "      <td>None</td>\n",
       "      <td>Akron</td>\n",
       "      <td>Ohio</td>\n",
       "      <td>Midwest</td>\n",
       "      <td>negative</td>\n",
       "    </tr>\n",
       "    <tr>\n",
       "      <th>2</th>\n",
       "      <td>1016909765966872577</td>\n",
       "      <td>RT @EdKrassen: Trump just said that the soluti...</td>\n",
       "      <td>1956</td>\n",
       "      <td>0</td>\n",
       "      <td>Twitter for Android</td>\n",
       "      <td>2018-07-11 04:59:16</td>\n",
       "      <td>256856593</td>\n",
       "      <td>vainsovain</td>\n",
       "      <td>Patricia Martin</td>\n",
       "      <td>2011-02-24 06:10:40</td>\n",
       "      <td>...</td>\n",
       "      <td>2787</td>\n",
       "      <td>2452</td>\n",
       "      <td>None</td>\n",
       "      <td>None</td>\n",
       "      <td>None</td>\n",
       "      <td>None</td>\n",
       "      <td>Akron</td>\n",
       "      <td>Ohio</td>\n",
       "      <td>Midwest</td>\n",
       "      <td>negative</td>\n",
       "    </tr>\n",
       "    <tr>\n",
       "      <th>3</th>\n",
       "      <td>1016909223618318336</td>\n",
       "      <td>RT @ACLU: A federal judge gave Trump 14 days t...</td>\n",
       "      <td>685</td>\n",
       "      <td>0</td>\n",
       "      <td>Twitter for Android</td>\n",
       "      <td>2018-07-11 04:57:06</td>\n",
       "      <td>48754929</td>\n",
       "      <td>Seacretsoc1</td>\n",
       "      <td>Linda</td>\n",
       "      <td>2009-06-19 16:42:59</td>\n",
       "      <td>...</td>\n",
       "      <td>1076</td>\n",
       "      <td>472</td>\n",
       "      <td>None</td>\n",
       "      <td>None</td>\n",
       "      <td>None</td>\n",
       "      <td>None</td>\n",
       "      <td>Akron</td>\n",
       "      <td>Ohio</td>\n",
       "      <td>Midwest</td>\n",
       "      <td>netural</td>\n",
       "    </tr>\n",
       "    <tr>\n",
       "      <th>4</th>\n",
       "      <td>1016908916809232387</td>\n",
       "      <td>RT @EdKrassen: Trump just said that the soluti...</td>\n",
       "      <td>1956</td>\n",
       "      <td>0</td>\n",
       "      <td>Twitter for iPhone</td>\n",
       "      <td>2018-07-11 04:55:53</td>\n",
       "      <td>30039222</td>\n",
       "      <td>Catdame</td>\n",
       "      <td>Catdame</td>\n",
       "      <td>2009-04-09 18:41:35</td>\n",
       "      <td>...</td>\n",
       "      <td>1424</td>\n",
       "      <td>1766</td>\n",
       "      <td>None</td>\n",
       "      <td>None</td>\n",
       "      <td>None</td>\n",
       "      <td>None</td>\n",
       "      <td>Akron</td>\n",
       "      <td>Ohio</td>\n",
       "      <td>Midwest</td>\n",
       "      <td>negative</td>\n",
       "    </tr>\n",
       "  </tbody>\n",
       "</table>\n",
       "<p>5 rows × 21 columns</p>\n",
       "</div>"
      ],
      "text/plain": [
       "               tweetID                                          tweetText  \\\n",
       "0  1016910166082678785  RT @ACLU: A federal judge gave Trump 14 days t...   \n",
       "1  1016909921856651264  RT @EdKrassen: Trump just said that the soluti...   \n",
       "2  1016909765966872577  RT @EdKrassen: Trump just said that the soluti...   \n",
       "3  1016909223618318336  RT @ACLU: A federal judge gave Trump 14 days t...   \n",
       "4  1016908916809232387  RT @EdKrassen: Trump just said that the soluti...   \n",
       "\n",
       "   tweetRetweetCt  tweetFavoriteCt          tweetSource        tweetCreated  \\\n",
       "0             685                0  Twitter for Android 2018-07-11 05:00:51   \n",
       "1            1956                0   Twitter Web Client 2018-07-11 04:59:53   \n",
       "2            1956                0  Twitter for Android 2018-07-11 04:59:16   \n",
       "3             685                0  Twitter for Android 2018-07-11 04:57:06   \n",
       "4            1956                0   Twitter for iPhone 2018-07-11 04:55:53   \n",
       "\n",
       "               userID    userScreen         userName        userCreateDt  \\\n",
       "0          3344953703     clbauthor   C.L. Bluestein 2015-06-25 02:10:02   \n",
       "1  816539774458753024  StottCitizen      Libby Stott 2017-01-04 07:00:27   \n",
       "2           256856593    vainsovain  Patricia Martin 2011-02-24 06:10:40   \n",
       "3            48754929   Seacretsoc1            Linda 2009-06-19 16:42:59   \n",
       "4            30039222       Catdame          Catdame 2009-04-09 18:41:35   \n",
       "\n",
       "     ...    userFollowerCt  userFollowingCt  userTimezone coordinates  \\\n",
       "0    ...               494              943          None        None   \n",
       "1    ...               330              520          None        None   \n",
       "2    ...              2787             2452          None        None   \n",
       "3    ...              1076              472          None        None   \n",
       "4    ...              1424             1766          None        None   \n",
       "\n",
       "  geolocation place cityname statename   region sentiment  \n",
       "0        None  None    Akron      Ohio  Midwest   netural  \n",
       "1        None  None    Akron      Ohio  Midwest  negative  \n",
       "2        None  None    Akron      Ohio  Midwest  negative  \n",
       "3        None  None    Akron      Ohio  Midwest   netural  \n",
       "4        None  None    Akron      Ohio  Midwest  negative  \n",
       "\n",
       "[5 rows x 21 columns]"
      ]
     },
     "execution_count": 272,
     "metadata": {},
     "output_type": "execute_result"
    }
   ],
   "source": [
    "fulldf.head()"
   ]
  },
  {
   "cell_type": "markdown",
   "metadata": {},
   "source": [
    "### Further Exploratory Data Analysis"
   ]
  },
  {
   "cell_type": "markdown",
   "metadata": {},
   "source": [
    "#### The number and percentage of “positive”, “negative”, and “neutral” tweets to be interesting. Specifically, there were far more “neutral” tweets (72%) than “negative” (25%) and “positive” (3%) tweets, as one can see in the following figures and bar chart:"
   ]
  },
  {
   "cell_type": "code",
   "execution_count": 274,
   "metadata": {},
   "outputs": [
    {
     "data": {
      "text/plain": [
       "netural     35468\n",
       "negative    12200\n",
       "positive     1332\n",
       "Name: sentiment, dtype: int64"
      ]
     },
     "execution_count": 274,
     "metadata": {},
     "output_type": "execute_result"
    }
   ],
   "source": [
    "fulldf.sentiment.value_counts()"
   ]
  },
  {
   "cell_type": "code",
   "execution_count": 275,
   "metadata": {},
   "outputs": [
    {
     "data": {
      "image/png": "[encoded data removed]",
      "text/plain": [
       "<matplotlib.figure.Figure at 0x1a3b9bbfd0>"
      ]
     },
     "metadata": {},
     "output_type": "display_data"
    }
   ],
   "source": [
    "fulldf.sentiment.value_counts().plot(kind='bar', title = 'Frequency Chart of Sentiments')\n",
    "plt.ylabel('Count')\n",
    "plt.show()"
   ]
  },
  {
   "cell_type": "code",
   "execution_count": 302,
   "metadata": {},
   "outputs": [
    {
     "data": {
      "text/plain": [
       "netural     0.723837\n",
       "negative    0.248980\n",
       "positive    0.027184\n",
       "Name: sentiment, dtype: float64"
      ]
     },
     "execution_count": 302,
     "metadata": {},
     "output_type": "execute_result"
    }
   ],
   "source": [
    "fulldf.sentiment.value_counts()/len(fulldf)"
   ]
  },
  {
   "cell_type": "markdown",
   "metadata": {},
   "source": [
    "#### As one can see, there were more overall tweets from the South and West. The percentages of “neutral”, “negative”, and “positive” by region was consistent with the overall percentages mentioned above. By comparing within region percentages, one can see that the West region had the highest percentages of “negative” tweets and “positive” tweets with the lowest percentage of “neutral” tweets. The Midwest region had the lowest percentage of “positive” tweets."
   ]
  },
  {
   "cell_type": "code",
   "execution_count": 301,
   "metadata": {},
   "outputs": [
    {
     "data": {
      "text/plain": [
       "<matplotlib.axes._subplots.AxesSubplot at 0x1a46f98c50>"
      ]
     },
     "execution_count": 301,
     "metadata": {},
     "output_type": "execute_result"
    },
    {
     "data": {
      "image/png": "[encoded data removed]",
      "text/plain": [
       "<matplotlib.figure.Figure at 0x1a4958d208>"
      ]
     },
     "metadata": {},
     "output_type": "display_data"
    }
   ],
   "source": [
    "fulldf.groupby('sentiment').region.value_counts().unstack(0).plot.barh(title = 'Frequency Chart of Regions by Sentiment')\n"
   ]
  },
  {
   "cell_type": "code",
   "execution_count": 304,
   "metadata": {},
   "outputs": [],
   "source": [
    "sents=fulldf.groupby('sentiment')"
   ]
  },
  {
   "cell_type": "code",
   "execution_count": 310,
   "metadata": {},
   "outputs": [
    {
     "data": {
      "text/plain": [
       "sentiment  region   \n",
       "negative   South         4527\n",
       "           West          4205\n",
       "           Midwest       2030\n",
       "           Northeast     1438\n",
       "netural    South        13477\n",
       "           West         11811\n",
       "           Midwest       5774\n",
       "           Northeast     4406\n",
       "positive   South          496\n",
       "           West           484\n",
       "           Midwest        196\n",
       "           Northeast      156\n",
       "Name: region, dtype: int64"
      ]
     },
     "execution_count": 310,
     "metadata": {},
     "output_type": "execute_result"
    }
   ],
   "source": [
    "sents.region.value_counts()"
   ]
  },
  {
   "cell_type": "code",
   "execution_count": 318,
   "metadata": {},
   "outputs": [
    {
     "data": {
      "text/plain": [
       "18500"
      ]
     },
     "execution_count": 318,
     "metadata": {},
     "output_type": "execute_result"
    }
   ],
   "source": [
    "len(fulldf.loc[fulldf['region']=='South'])"
   ]
  },
  {
   "cell_type": "code",
   "execution_count": 319,
   "metadata": {},
   "outputs": [
    {
     "data": {
      "text/plain": [
       "16500"
      ]
     },
     "execution_count": 319,
     "metadata": {},
     "output_type": "execute_result"
    }
   ],
   "source": [
    "len(fulldf.loc[fulldf['region']=='West'])"
   ]
  },
  {
   "cell_type": "code",
   "execution_count": 320,
   "metadata": {},
   "outputs": [
    {
     "data": {
      "text/plain": [
       "8000"
      ]
     },
     "execution_count": 320,
     "metadata": {},
     "output_type": "execute_result"
    }
   ],
   "source": [
    "len(fulldf.loc[fulldf['region']=='Midwest'])"
   ]
  },
  {
   "cell_type": "code",
   "execution_count": 321,
   "metadata": {},
   "outputs": [
    {
     "data": {
      "text/plain": [
       "6000"
      ]
     },
     "execution_count": 321,
     "metadata": {},
     "output_type": "execute_result"
    }
   ],
   "source": [
    "len(fulldf.loc[fulldf['region']=='Northeast'])"
   ]
  },
  {
   "cell_type": "code",
   "execution_count": 278,
   "metadata": {},
   "outputs": [
    {
     "data": {
      "text/plain": [
       "<matplotlib.axes._subplots.AxesSubplot at 0x1a3b661860>"
      ]
     },
     "execution_count": 278,
     "metadata": {},
     "output_type": "execute_result"
    },
    {
     "data": {
      "image/png": "[encoded data removed]",
      "text/plain": [
       "<matplotlib.figure.Figure at 0x1a3b6829b0>"
      ]
     },
     "metadata": {},
     "output_type": "display_data"
    }
   ],
   "source": [
    "sns.stripplot(x = 'sentiment', y = 'userFollowerCt', data = fulldf, jitter=True)"
   ]
  },
  {
   "cell_type": "markdown",
   "metadata": {},
   "source": [
    "#### Additionally, as one can see in the following chart, the number of Twitter followers is positively correlated with the number being followed. The relationship is even stronger among those with “negative” sentiments about the President’s immigration position."
   ]
  },
  {
   "cell_type": "code",
   "execution_count": 284,
   "metadata": {},
   "outputs": [
    {
     "data": {
      "text/plain": [
       "<seaborn.axisgrid.FacetGrid at 0x1a25085940>"
      ]
     },
     "execution_count": 284,
     "metadata": {},
     "output_type": "execute_result"
    },
    {
     "data": {
      "image/png": "[encoded data removed]",
      "text/plain": [
       "<matplotlib.figure.Figure at 0x1a2508b438>"
      ]
     },
     "metadata": {},
     "output_type": "display_data"
    }
   ],
   "source": [
    "sns.lmplot(x='userFollowingCt', y='userFollowerCt',data=fulldf)"
   ]
  },
  {
   "cell_type": "code",
   "execution_count": 283,
   "metadata": {},
   "outputs": [
    {
     "data": {
      "text/plain": [
       "<seaborn.axisgrid.FacetGrid at 0x1a2505ddd8>"
      ]
     },
     "execution_count": 283,
     "metadata": {},
     "output_type": "execute_result"
    },
    {
     "data": {
      "image/png": "[encoded data removed]",
      "text/plain": [
       "<matplotlib.figure.Figure at 0x1a3b0787b8>"
      ]
     },
     "metadata": {},
     "output_type": "display_data"
    }
   ],
   "source": [
    "sns.lmplot(x='userFollowingCt', y='userFollowerCt', hue='sentiment',data=fulldf)"
   ]
  },
  {
   "cell_type": "markdown",
   "metadata": {},
   "source": [
    "#### Moving forward, I intend to further investigate the impact of other variables on one’s sentiment. For example, I would like to see if there are relationships between the other Twitter metadata elements and sentiment. "
   ]
  },
  {
   "cell_type": "code",
   "execution_count": null,
   "metadata": {},
   "outputs": [],
   "source": []
  }
 ],
 "metadata": {
  "kernelspec": {
   "display_name": "Python 3",
   "language": "python",
   "name": "python3"
  },
  "language_info": {
   "codemirror_mode": {
    "name": "ipython",
    "version": 3
   },
   "file_extension": ".py",
   "mimetype": "text/x-python",
   "name": "python",
   "nbconvert_exporter": "python",
   "pygments_lexer": "ipython3",
   "version": "3.6.4"
  }
 },
 "nbformat": 4,
 "nbformat_minor": 2
}
